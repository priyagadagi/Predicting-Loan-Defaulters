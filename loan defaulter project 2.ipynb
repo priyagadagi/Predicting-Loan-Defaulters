{
 "cells": [
  {
   "cell_type": "code",
   "execution_count": 1,
   "id": "6b114e1f",
   "metadata": {},
   "outputs": [],
   "source": [
    "#Importing libraries\n",
    "import pandas as pd\n",
    "import numpy as np\n",
    "import matplotlib.pyplot as plt\n",
    "import seaborn as sns"
   ]
  },
  {
   "cell_type": "code",
   "execution_count": 2,
   "id": "552b2bd3",
   "metadata": {},
   "outputs": [
    {
     "data": {
      "text/plain": [
       "'C:\\\\Users\\\\USER\\\\Desktop\\\\Mynumpy'"
      ]
     },
     "execution_count": 2,
     "metadata": {},
     "output_type": "execute_result"
    }
   ],
   "source": [
    "import os\n",
    "os.getcwd()"
   ]
  },
  {
   "cell_type": "code",
   "execution_count": 3,
   "id": "97d86745",
   "metadata": {},
   "outputs": [
    {
     "data": {
      "text/html": [
       "<div>\n",
       "<style scoped>\n",
       "    .dataframe tbody tr th:only-of-type {\n",
       "        vertical-align: middle;\n",
       "    }\n",
       "\n",
       "    .dataframe tbody tr th {\n",
       "        vertical-align: top;\n",
       "    }\n",
       "\n",
       "    .dataframe thead th {\n",
       "        text-align: right;\n",
       "    }\n",
       "</style>\n",
       "<table border=\"1\" class=\"dataframe\">\n",
       "  <thead>\n",
       "    <tr style=\"text-align: right;\">\n",
       "      <th></th>\n",
       "      <th>UniqueID</th>\n",
       "      <th>disbursed_amount</th>\n",
       "      <th>asset_cost</th>\n",
       "      <th>ltv</th>\n",
       "      <th>branch_id</th>\n",
       "      <th>supplier_id</th>\n",
       "      <th>manufacturer_id</th>\n",
       "      <th>Current_pincode_ID</th>\n",
       "      <th>Date.of.Birth</th>\n",
       "      <th>Employment.Type</th>\n",
       "      <th>...</th>\n",
       "      <th>SEC.SANCTIONED.AMOUNT</th>\n",
       "      <th>SEC.DISBURSED.AMOUNT</th>\n",
       "      <th>PRIMARY.INSTAL.AMT</th>\n",
       "      <th>SEC.INSTAL.AMT</th>\n",
       "      <th>NEW.ACCTS.IN.LAST.SIX.MONTHS</th>\n",
       "      <th>DELINQUENT.ACCTS.IN.LAST.SIX.MONTHS</th>\n",
       "      <th>AVERAGE.ACCT.AGE</th>\n",
       "      <th>CREDIT.HISTORY.LENGTH</th>\n",
       "      <th>NO.OF_INQUIRIES</th>\n",
       "      <th>loan_default</th>\n",
       "    </tr>\n",
       "  </thead>\n",
       "  <tbody>\n",
       "    <tr>\n",
       "      <th>0</th>\n",
       "      <td>420825</td>\n",
       "      <td>50578</td>\n",
       "      <td>58400</td>\n",
       "      <td>89.55</td>\n",
       "      <td>67</td>\n",
       "      <td>22807</td>\n",
       "      <td>45</td>\n",
       "      <td>1441</td>\n",
       "      <td>1984-01-01</td>\n",
       "      <td>Salaried</td>\n",
       "      <td>...</td>\n",
       "      <td>0</td>\n",
       "      <td>0</td>\n",
       "      <td>0</td>\n",
       "      <td>0</td>\n",
       "      <td>0</td>\n",
       "      <td>0</td>\n",
       "      <td>0yrs 0mon</td>\n",
       "      <td>0yrs 0mon</td>\n",
       "      <td>0</td>\n",
       "      <td>0</td>\n",
       "    </tr>\n",
       "    <tr>\n",
       "      <th>1</th>\n",
       "      <td>417566</td>\n",
       "      <td>53278</td>\n",
       "      <td>61360</td>\n",
       "      <td>89.63</td>\n",
       "      <td>67</td>\n",
       "      <td>22807</td>\n",
       "      <td>45</td>\n",
       "      <td>1497</td>\n",
       "      <td>1985-08-24</td>\n",
       "      <td>Self employed</td>\n",
       "      <td>...</td>\n",
       "      <td>0</td>\n",
       "      <td>0</td>\n",
       "      <td>0</td>\n",
       "      <td>0</td>\n",
       "      <td>0</td>\n",
       "      <td>0</td>\n",
       "      <td>0yrs 0mon</td>\n",
       "      <td>0yrs 0mon</td>\n",
       "      <td>0</td>\n",
       "      <td>0</td>\n",
       "    </tr>\n",
       "    <tr>\n",
       "      <th>2</th>\n",
       "      <td>539055</td>\n",
       "      <td>52378</td>\n",
       "      <td>60300</td>\n",
       "      <td>88.39</td>\n",
       "      <td>67</td>\n",
       "      <td>22807</td>\n",
       "      <td>45</td>\n",
       "      <td>1495</td>\n",
       "      <td>1977-12-09</td>\n",
       "      <td>Self employed</td>\n",
       "      <td>...</td>\n",
       "      <td>0</td>\n",
       "      <td>0</td>\n",
       "      <td>0</td>\n",
       "      <td>0</td>\n",
       "      <td>0</td>\n",
       "      <td>0</td>\n",
       "      <td>0yrs 0mon</td>\n",
       "      <td>0yrs 0mon</td>\n",
       "      <td>1</td>\n",
       "      <td>1</td>\n",
       "    </tr>\n",
       "    <tr>\n",
       "      <th>3</th>\n",
       "      <td>529269</td>\n",
       "      <td>46349</td>\n",
       "      <td>61500</td>\n",
       "      <td>76.42</td>\n",
       "      <td>67</td>\n",
       "      <td>22807</td>\n",
       "      <td>45</td>\n",
       "      <td>1502</td>\n",
       "      <td>1988-06-01</td>\n",
       "      <td>Salaried</td>\n",
       "      <td>...</td>\n",
       "      <td>0</td>\n",
       "      <td>0</td>\n",
       "      <td>0</td>\n",
       "      <td>0</td>\n",
       "      <td>0</td>\n",
       "      <td>0</td>\n",
       "      <td>0yrs 0mon</td>\n",
       "      <td>0yrs 0mon</td>\n",
       "      <td>0</td>\n",
       "      <td>0</td>\n",
       "    </tr>\n",
       "    <tr>\n",
       "      <th>4</th>\n",
       "      <td>563215</td>\n",
       "      <td>43594</td>\n",
       "      <td>78256</td>\n",
       "      <td>57.50</td>\n",
       "      <td>67</td>\n",
       "      <td>22744</td>\n",
       "      <td>86</td>\n",
       "      <td>1499</td>\n",
       "      <td>1994-07-14</td>\n",
       "      <td>Self employed</td>\n",
       "      <td>...</td>\n",
       "      <td>0</td>\n",
       "      <td>0</td>\n",
       "      <td>0</td>\n",
       "      <td>0</td>\n",
       "      <td>0</td>\n",
       "      <td>0</td>\n",
       "      <td>0yrs 0mon</td>\n",
       "      <td>0yrs 0mon</td>\n",
       "      <td>0</td>\n",
       "      <td>0</td>\n",
       "    </tr>\n",
       "    <tr>\n",
       "      <th>...</th>\n",
       "      <td>...</td>\n",
       "      <td>...</td>\n",
       "      <td>...</td>\n",
       "      <td>...</td>\n",
       "      <td>...</td>\n",
       "      <td>...</td>\n",
       "      <td>...</td>\n",
       "      <td>...</td>\n",
       "      <td>...</td>\n",
       "      <td>...</td>\n",
       "      <td>...</td>\n",
       "      <td>...</td>\n",
       "      <td>...</td>\n",
       "      <td>...</td>\n",
       "      <td>...</td>\n",
       "      <td>...</td>\n",
       "      <td>...</td>\n",
       "      <td>...</td>\n",
       "      <td>...</td>\n",
       "      <td>...</td>\n",
       "      <td>...</td>\n",
       "    </tr>\n",
       "    <tr>\n",
       "      <th>233149</th>\n",
       "      <td>561031</td>\n",
       "      <td>57759</td>\n",
       "      <td>76350</td>\n",
       "      <td>77.28</td>\n",
       "      <td>5</td>\n",
       "      <td>22289</td>\n",
       "      <td>51</td>\n",
       "      <td>3326</td>\n",
       "      <td>1981-11-10</td>\n",
       "      <td>Self employed</td>\n",
       "      <td>...</td>\n",
       "      <td>0</td>\n",
       "      <td>0</td>\n",
       "      <td>0</td>\n",
       "      <td>0</td>\n",
       "      <td>0</td>\n",
       "      <td>0</td>\n",
       "      <td>2yrs 4mon</td>\n",
       "      <td>2yrs 4mon</td>\n",
       "      <td>0</td>\n",
       "      <td>0</td>\n",
       "    </tr>\n",
       "    <tr>\n",
       "      <th>233150</th>\n",
       "      <td>649600</td>\n",
       "      <td>55009</td>\n",
       "      <td>71200</td>\n",
       "      <td>78.72</td>\n",
       "      <td>138</td>\n",
       "      <td>17408</td>\n",
       "      <td>51</td>\n",
       "      <td>3385</td>\n",
       "      <td>1992-10-15</td>\n",
       "      <td>Self employed</td>\n",
       "      <td>...</td>\n",
       "      <td>0</td>\n",
       "      <td>0</td>\n",
       "      <td>15209</td>\n",
       "      <td>0</td>\n",
       "      <td>0</td>\n",
       "      <td>0</td>\n",
       "      <td>1yrs 5mon</td>\n",
       "      <td>1yrs 5mon</td>\n",
       "      <td>1</td>\n",
       "      <td>0</td>\n",
       "    </tr>\n",
       "    <tr>\n",
       "      <th>233151</th>\n",
       "      <td>603445</td>\n",
       "      <td>58513</td>\n",
       "      <td>68000</td>\n",
       "      <td>88.24</td>\n",
       "      <td>135</td>\n",
       "      <td>23313</td>\n",
       "      <td>45</td>\n",
       "      <td>1797</td>\n",
       "      <td>1981-12-19</td>\n",
       "      <td>Self employed</td>\n",
       "      <td>...</td>\n",
       "      <td>0</td>\n",
       "      <td>0</td>\n",
       "      <td>257948</td>\n",
       "      <td>0</td>\n",
       "      <td>35</td>\n",
       "      <td>5</td>\n",
       "      <td>0yrs 9mon</td>\n",
       "      <td>3yrs 10mon</td>\n",
       "      <td>1</td>\n",
       "      <td>0</td>\n",
       "    </tr>\n",
       "    <tr>\n",
       "      <th>233152</th>\n",
       "      <td>442948</td>\n",
       "      <td>22824</td>\n",
       "      <td>40458</td>\n",
       "      <td>61.79</td>\n",
       "      <td>160</td>\n",
       "      <td>16212</td>\n",
       "      <td>48</td>\n",
       "      <td>96</td>\n",
       "      <td>1989-07-31</td>\n",
       "      <td>Self employed</td>\n",
       "      <td>...</td>\n",
       "      <td>0</td>\n",
       "      <td>0</td>\n",
       "      <td>26046</td>\n",
       "      <td>0</td>\n",
       "      <td>9</td>\n",
       "      <td>1</td>\n",
       "      <td>1yrs 2mon</td>\n",
       "      <td>3yrs 2mon</td>\n",
       "      <td>0</td>\n",
       "      <td>0</td>\n",
       "    </tr>\n",
       "    <tr>\n",
       "      <th>233153</th>\n",
       "      <td>545300</td>\n",
       "      <td>35299</td>\n",
       "      <td>72698</td>\n",
       "      <td>52.27</td>\n",
       "      <td>3</td>\n",
       "      <td>14573</td>\n",
       "      <td>45</td>\n",
       "      <td>17</td>\n",
       "      <td>1968-08-01</td>\n",
       "      <td>Self employed</td>\n",
       "      <td>...</td>\n",
       "      <td>0</td>\n",
       "      <td>0</td>\n",
       "      <td>293886</td>\n",
       "      <td>0</td>\n",
       "      <td>5</td>\n",
       "      <td>0</td>\n",
       "      <td>2yrs 11mon</td>\n",
       "      <td>5yrs 4mon</td>\n",
       "      <td>0</td>\n",
       "      <td>0</td>\n",
       "    </tr>\n",
       "  </tbody>\n",
       "</table>\n",
       "<p>233154 rows × 41 columns</p>\n",
       "</div>"
      ],
      "text/plain": [
       "        UniqueID  disbursed_amount  asset_cost    ltv  branch_id  supplier_id  \\\n",
       "0         420825             50578       58400  89.55         67        22807   \n",
       "1         417566             53278       61360  89.63         67        22807   \n",
       "2         539055             52378       60300  88.39         67        22807   \n",
       "3         529269             46349       61500  76.42         67        22807   \n",
       "4         563215             43594       78256  57.50         67        22744   \n",
       "...          ...               ...         ...    ...        ...          ...   \n",
       "233149    561031             57759       76350  77.28          5        22289   \n",
       "233150    649600             55009       71200  78.72        138        17408   \n",
       "233151    603445             58513       68000  88.24        135        23313   \n",
       "233152    442948             22824       40458  61.79        160        16212   \n",
       "233153    545300             35299       72698  52.27          3        14573   \n",
       "\n",
       "        manufacturer_id  Current_pincode_ID Date.of.Birth Employment.Type  \\\n",
       "0                    45                1441    1984-01-01        Salaried   \n",
       "1                    45                1497    1985-08-24   Self employed   \n",
       "2                    45                1495    1977-12-09   Self employed   \n",
       "3                    45                1502    1988-06-01        Salaried   \n",
       "4                    86                1499    1994-07-14   Self employed   \n",
       "...                 ...                 ...           ...             ...   \n",
       "233149               51                3326    1981-11-10   Self employed   \n",
       "233150               51                3385    1992-10-15   Self employed   \n",
       "233151               45                1797    1981-12-19   Self employed   \n",
       "233152               48                  96    1989-07-31   Self employed   \n",
       "233153               45                  17    1968-08-01   Self employed   \n",
       "\n",
       "        ... SEC.SANCTIONED.AMOUNT  SEC.DISBURSED.AMOUNT  PRIMARY.INSTAL.AMT  \\\n",
       "0       ...                     0                     0                   0   \n",
       "1       ...                     0                     0                   0   \n",
       "2       ...                     0                     0                   0   \n",
       "3       ...                     0                     0                   0   \n",
       "4       ...                     0                     0                   0   \n",
       "...     ...                   ...                   ...                 ...   \n",
       "233149  ...                     0                     0                   0   \n",
       "233150  ...                     0                     0               15209   \n",
       "233151  ...                     0                     0              257948   \n",
       "233152  ...                     0                     0               26046   \n",
       "233153  ...                     0                     0              293886   \n",
       "\n",
       "        SEC.INSTAL.AMT  NEW.ACCTS.IN.LAST.SIX.MONTHS  \\\n",
       "0                    0                             0   \n",
       "1                    0                             0   \n",
       "2                    0                             0   \n",
       "3                    0                             0   \n",
       "4                    0                             0   \n",
       "...                ...                           ...   \n",
       "233149               0                             0   \n",
       "233150               0                             0   \n",
       "233151               0                            35   \n",
       "233152               0                             9   \n",
       "233153               0                             5   \n",
       "\n",
       "        DELINQUENT.ACCTS.IN.LAST.SIX.MONTHS  AVERAGE.ACCT.AGE  \\\n",
       "0                                         0         0yrs 0mon   \n",
       "1                                         0         0yrs 0mon   \n",
       "2                                         0         0yrs 0mon   \n",
       "3                                         0         0yrs 0mon   \n",
       "4                                         0         0yrs 0mon   \n",
       "...                                     ...               ...   \n",
       "233149                                    0         2yrs 4mon   \n",
       "233150                                    0         1yrs 5mon   \n",
       "233151                                    5         0yrs 9mon   \n",
       "233152                                    1         1yrs 2mon   \n",
       "233153                                    0        2yrs 11mon   \n",
       "\n",
       "        CREDIT.HISTORY.LENGTH  NO.OF_INQUIRIES  loan_default  \n",
       "0                   0yrs 0mon                0             0  \n",
       "1                   0yrs 0mon                0             0  \n",
       "2                   0yrs 0mon                1             1  \n",
       "3                   0yrs 0mon                0             0  \n",
       "4                   0yrs 0mon                0             0  \n",
       "...                       ...              ...           ...  \n",
       "233149              2yrs 4mon                0             0  \n",
       "233150              1yrs 5mon                1             0  \n",
       "233151             3yrs 10mon                1             0  \n",
       "233152              3yrs 2mon                0             0  \n",
       "233153              5yrs 4mon                0             0  \n",
       "\n",
       "[233154 rows x 41 columns]"
      ]
     },
     "execution_count": 3,
     "metadata": {},
     "output_type": "execute_result"
    }
   ],
   "source": [
    "df= pd.read_excel('C:/Users/USER/Desktop/data.xlsx')\n",
    "df\n"
   ]
  },
  {
   "cell_type": "markdown",
   "id": "c467b193",
   "metadata": {},
   "source": [
    "## 1. Data Preliminary analysis:\n"
   ]
  },
  {
   "cell_type": "markdown",
   "id": "429b799f",
   "metadata": {},
   "source": [
    "#### The variable names in the data are not in accordance with the identifier naming in Python. Change the variable names accordingly.\n",
    "#### Perform preliminary data inspection and report the findings as to the structure of the data, missing values, duplicates, etc."
   ]
  },
  {
   "cell_type": "code",
   "execution_count": 4,
   "id": "bd611afd",
   "metadata": {},
   "outputs": [
    {
     "data": {
      "text/plain": [
       "(233154, 41)"
      ]
     },
     "execution_count": 4,
     "metadata": {},
     "output_type": "execute_result"
    }
   ],
   "source": [
    "#Getting the shape of dataset\n",
    "df.shape"
   ]
  },
  {
   "cell_type": "code",
   "execution_count": 5,
   "id": "2c594ffa",
   "metadata": {},
   "outputs": [
    {
     "data": {
      "text/plain": [
       "Index(['UniqueID', 'disbursed_amount', 'asset_cost', 'ltv', 'branch_id',\n",
       "       'supplier_id', 'manufacturer_id', 'Current_pincode_ID', 'Date.of.Birth',\n",
       "       'Employment.Type', 'DisbursalDate', 'State_ID', 'Employee_code_ID',\n",
       "       'MobileNo_Avl_Flag', 'Aadhar_flag', 'PAN_flag', 'VoterID_flag',\n",
       "       'Driving_flag', 'Passport_flag', 'PERFORM_CNS.SCORE',\n",
       "       'PERFORM_CNS.SCORE.DESCRIPTION', 'PRI.NO.OF.ACCTS', 'PRI.ACTIVE.ACCTS',\n",
       "       'PRI.OVERDUE.ACCTS', 'PRI.CURRENT.BALANCE', 'PRI.SANCTIONED.AMOUNT',\n",
       "       'PRI.DISBURSED.AMOUNT', 'SEC.NO.OF.ACCTS', 'SEC.ACTIVE.ACCTS',\n",
       "       'SEC.OVERDUE.ACCTS', 'SEC.CURRENT.BALANCE', 'SEC.SANCTIONED.AMOUNT',\n",
       "       'SEC.DISBURSED.AMOUNT', 'PRIMARY.INSTAL.AMT', 'SEC.INSTAL.AMT',\n",
       "       'NEW.ACCTS.IN.LAST.SIX.MONTHS', 'DELINQUENT.ACCTS.IN.LAST.SIX.MONTHS',\n",
       "       'AVERAGE.ACCT.AGE', 'CREDIT.HISTORY.LENGTH', 'NO.OF_INQUIRIES',\n",
       "       'loan_default'],\n",
       "      dtype='object')"
      ]
     },
     "execution_count": 5,
     "metadata": {},
     "output_type": "execute_result"
    }
   ],
   "source": [
    "#2.Variable names in the data may not be in accordance with the identifier naming in Python so, change the variable names accordingly\n",
    "#Getting the columns of dataset\n",
    "df.columns"
   ]
  },
  {
   "cell_type": "code",
   "execution_count": 6,
   "id": "c5203f4b",
   "metadata": {},
   "outputs": [
    {
     "data": {
      "text/html": [
       "<div>\n",
       "<style scoped>\n",
       "    .dataframe tbody tr th:only-of-type {\n",
       "        vertical-align: middle;\n",
       "    }\n",
       "\n",
       "    .dataframe tbody tr th {\n",
       "        vertical-align: top;\n",
       "    }\n",
       "\n",
       "    .dataframe thead th {\n",
       "        text-align: right;\n",
       "    }\n",
       "</style>\n",
       "<table border=\"1\" class=\"dataframe\">\n",
       "  <thead>\n",
       "    <tr style=\"text-align: right;\">\n",
       "      <th></th>\n",
       "      <th>UniqueID</th>\n",
       "      <th>disbursed_amount</th>\n",
       "      <th>asset_cost</th>\n",
       "      <th>ltv</th>\n",
       "      <th>branch_id</th>\n",
       "      <th>supplier_id</th>\n",
       "      <th>manufacturer_id</th>\n",
       "      <th>Current_pincode_ID</th>\n",
       "      <th>Date.of.Birth</th>\n",
       "      <th>Employment.Type</th>\n",
       "      <th>...</th>\n",
       "      <th>SEC.SANCTIONED.AMOUNT</th>\n",
       "      <th>SEC.DISBURSED.AMOUNT</th>\n",
       "      <th>PRIMARY.INSTAL.AMT</th>\n",
       "      <th>SEC.INSTAL.AMT</th>\n",
       "      <th>NEW.ACCTS.IN.LAST.SIX.MONTHS</th>\n",
       "      <th>DELINQUENT.ACCTS.IN.LAST.SIX.MONTHS</th>\n",
       "      <th>AVERAGE.ACCT.AGE</th>\n",
       "      <th>CREDIT.HISTORY.LENGTH</th>\n",
       "      <th>NO.OF_INQUIRIES</th>\n",
       "      <th>loan_default</th>\n",
       "    </tr>\n",
       "  </thead>\n",
       "  <tbody>\n",
       "    <tr>\n",
       "      <th>0</th>\n",
       "      <td>420825</td>\n",
       "      <td>50578</td>\n",
       "      <td>58400</td>\n",
       "      <td>89.55</td>\n",
       "      <td>67</td>\n",
       "      <td>22807</td>\n",
       "      <td>45</td>\n",
       "      <td>1441</td>\n",
       "      <td>1984-01-01</td>\n",
       "      <td>Salaried</td>\n",
       "      <td>...</td>\n",
       "      <td>0</td>\n",
       "      <td>0</td>\n",
       "      <td>0</td>\n",
       "      <td>0</td>\n",
       "      <td>0</td>\n",
       "      <td>0</td>\n",
       "      <td>0yrs 0mon</td>\n",
       "      <td>0yrs 0mon</td>\n",
       "      <td>0</td>\n",
       "      <td>0</td>\n",
       "    </tr>\n",
       "    <tr>\n",
       "      <th>1</th>\n",
       "      <td>417566</td>\n",
       "      <td>53278</td>\n",
       "      <td>61360</td>\n",
       "      <td>89.63</td>\n",
       "      <td>67</td>\n",
       "      <td>22807</td>\n",
       "      <td>45</td>\n",
       "      <td>1497</td>\n",
       "      <td>1985-08-24</td>\n",
       "      <td>Self employed</td>\n",
       "      <td>...</td>\n",
       "      <td>0</td>\n",
       "      <td>0</td>\n",
       "      <td>0</td>\n",
       "      <td>0</td>\n",
       "      <td>0</td>\n",
       "      <td>0</td>\n",
       "      <td>0yrs 0mon</td>\n",
       "      <td>0yrs 0mon</td>\n",
       "      <td>0</td>\n",
       "      <td>0</td>\n",
       "    </tr>\n",
       "    <tr>\n",
       "      <th>2</th>\n",
       "      <td>539055</td>\n",
       "      <td>52378</td>\n",
       "      <td>60300</td>\n",
       "      <td>88.39</td>\n",
       "      <td>67</td>\n",
       "      <td>22807</td>\n",
       "      <td>45</td>\n",
       "      <td>1495</td>\n",
       "      <td>1977-12-09</td>\n",
       "      <td>Self employed</td>\n",
       "      <td>...</td>\n",
       "      <td>0</td>\n",
       "      <td>0</td>\n",
       "      <td>0</td>\n",
       "      <td>0</td>\n",
       "      <td>0</td>\n",
       "      <td>0</td>\n",
       "      <td>0yrs 0mon</td>\n",
       "      <td>0yrs 0mon</td>\n",
       "      <td>1</td>\n",
       "      <td>1</td>\n",
       "    </tr>\n",
       "    <tr>\n",
       "      <th>3</th>\n",
       "      <td>529269</td>\n",
       "      <td>46349</td>\n",
       "      <td>61500</td>\n",
       "      <td>76.42</td>\n",
       "      <td>67</td>\n",
       "      <td>22807</td>\n",
       "      <td>45</td>\n",
       "      <td>1502</td>\n",
       "      <td>1988-06-01</td>\n",
       "      <td>Salaried</td>\n",
       "      <td>...</td>\n",
       "      <td>0</td>\n",
       "      <td>0</td>\n",
       "      <td>0</td>\n",
       "      <td>0</td>\n",
       "      <td>0</td>\n",
       "      <td>0</td>\n",
       "      <td>0yrs 0mon</td>\n",
       "      <td>0yrs 0mon</td>\n",
       "      <td>0</td>\n",
       "      <td>0</td>\n",
       "    </tr>\n",
       "    <tr>\n",
       "      <th>4</th>\n",
       "      <td>563215</td>\n",
       "      <td>43594</td>\n",
       "      <td>78256</td>\n",
       "      <td>57.50</td>\n",
       "      <td>67</td>\n",
       "      <td>22744</td>\n",
       "      <td>86</td>\n",
       "      <td>1499</td>\n",
       "      <td>1994-07-14</td>\n",
       "      <td>Self employed</td>\n",
       "      <td>...</td>\n",
       "      <td>0</td>\n",
       "      <td>0</td>\n",
       "      <td>0</td>\n",
       "      <td>0</td>\n",
       "      <td>0</td>\n",
       "      <td>0</td>\n",
       "      <td>0yrs 0mon</td>\n",
       "      <td>0yrs 0mon</td>\n",
       "      <td>0</td>\n",
       "      <td>0</td>\n",
       "    </tr>\n",
       "  </tbody>\n",
       "</table>\n",
       "<p>5 rows × 41 columns</p>\n",
       "</div>"
      ],
      "text/plain": [
       "   UniqueID  disbursed_amount  asset_cost    ltv  branch_id  supplier_id  \\\n",
       "0    420825             50578       58400  89.55         67        22807   \n",
       "1    417566             53278       61360  89.63         67        22807   \n",
       "2    539055             52378       60300  88.39         67        22807   \n",
       "3    529269             46349       61500  76.42         67        22807   \n",
       "4    563215             43594       78256  57.50         67        22744   \n",
       "\n",
       "   manufacturer_id  Current_pincode_ID Date.of.Birth Employment.Type  ...  \\\n",
       "0               45                1441    1984-01-01        Salaried  ...   \n",
       "1               45                1497    1985-08-24   Self employed  ...   \n",
       "2               45                1495    1977-12-09   Self employed  ...   \n",
       "3               45                1502    1988-06-01        Salaried  ...   \n",
       "4               86                1499    1994-07-14   Self employed  ...   \n",
       "\n",
       "  SEC.SANCTIONED.AMOUNT  SEC.DISBURSED.AMOUNT  PRIMARY.INSTAL.AMT  \\\n",
       "0                     0                     0                   0   \n",
       "1                     0                     0                   0   \n",
       "2                     0                     0                   0   \n",
       "3                     0                     0                   0   \n",
       "4                     0                     0                   0   \n",
       "\n",
       "   SEC.INSTAL.AMT  NEW.ACCTS.IN.LAST.SIX.MONTHS  \\\n",
       "0               0                             0   \n",
       "1               0                             0   \n",
       "2               0                             0   \n",
       "3               0                             0   \n",
       "4               0                             0   \n",
       "\n",
       "   DELINQUENT.ACCTS.IN.LAST.SIX.MONTHS  AVERAGE.ACCT.AGE  \\\n",
       "0                                    0         0yrs 0mon   \n",
       "1                                    0         0yrs 0mon   \n",
       "2                                    0         0yrs 0mon   \n",
       "3                                    0         0yrs 0mon   \n",
       "4                                    0         0yrs 0mon   \n",
       "\n",
       "   CREDIT.HISTORY.LENGTH  NO.OF_INQUIRIES  loan_default  \n",
       "0              0yrs 0mon                0             0  \n",
       "1              0yrs 0mon                0             0  \n",
       "2              0yrs 0mon                1             1  \n",
       "3              0yrs 0mon                0             0  \n",
       "4              0yrs 0mon                0             0  \n",
       "\n",
       "[5 rows x 41 columns]"
      ]
     },
     "execution_count": 6,
     "metadata": {},
     "output_type": "execute_result"
    }
   ],
   "source": [
    "df.head()\n"
   ]
  },
  {
   "cell_type": "code",
   "execution_count": 7,
   "id": "af0a571b",
   "metadata": {},
   "outputs": [
    {
     "name": "stdout",
     "output_type": "stream",
     "text": [
      "<class 'pandas.core.frame.DataFrame'>\n",
      "RangeIndex: 233154 entries, 0 to 233153\n",
      "Data columns (total 41 columns):\n",
      " #   Column                               Non-Null Count   Dtype         \n",
      "---  ------                               --------------   -----         \n",
      " 0   UniqueID                             233154 non-null  int64         \n",
      " 1   disbursed_amount                     233154 non-null  int64         \n",
      " 2   asset_cost                           233154 non-null  int64         \n",
      " 3   ltv                                  233154 non-null  float64       \n",
      " 4   branch_id                            233154 non-null  int64         \n",
      " 5   supplier_id                          233154 non-null  int64         \n",
      " 6   manufacturer_id                      233154 non-null  int64         \n",
      " 7   Current_pincode_ID                   233154 non-null  int64         \n",
      " 8   Date.of.Birth                        233154 non-null  datetime64[ns]\n",
      " 9   Employment.Type                      225493 non-null  object        \n",
      " 10  DisbursalDate                        233154 non-null  datetime64[ns]\n",
      " 11  State_ID                             233154 non-null  int64         \n",
      " 12  Employee_code_ID                     233154 non-null  int64         \n",
      " 13  MobileNo_Avl_Flag                    233154 non-null  int64         \n",
      " 14  Aadhar_flag                          233154 non-null  int64         \n",
      " 15  PAN_flag                             233154 non-null  int64         \n",
      " 16  VoterID_flag                         233154 non-null  int64         \n",
      " 17  Driving_flag                         233154 non-null  int64         \n",
      " 18  Passport_flag                        233154 non-null  int64         \n",
      " 19  PERFORM_CNS.SCORE                    233154 non-null  int64         \n",
      " 20  PERFORM_CNS.SCORE.DESCRIPTION        233154 non-null  object        \n",
      " 21  PRI.NO.OF.ACCTS                      233154 non-null  int64         \n",
      " 22  PRI.ACTIVE.ACCTS                     233154 non-null  int64         \n",
      " 23  PRI.OVERDUE.ACCTS                    233154 non-null  int64         \n",
      " 24  PRI.CURRENT.BALANCE                  233154 non-null  int64         \n",
      " 25  PRI.SANCTIONED.AMOUNT                233154 non-null  int64         \n",
      " 26  PRI.DISBURSED.AMOUNT                 233154 non-null  int64         \n",
      " 27  SEC.NO.OF.ACCTS                      233154 non-null  int64         \n",
      " 28  SEC.ACTIVE.ACCTS                     233154 non-null  int64         \n",
      " 29  SEC.OVERDUE.ACCTS                    233154 non-null  int64         \n",
      " 30  SEC.CURRENT.BALANCE                  233154 non-null  int64         \n",
      " 31  SEC.SANCTIONED.AMOUNT                233154 non-null  int64         \n",
      " 32  SEC.DISBURSED.AMOUNT                 233154 non-null  int64         \n",
      " 33  PRIMARY.INSTAL.AMT                   233154 non-null  int64         \n",
      " 34  SEC.INSTAL.AMT                       233154 non-null  int64         \n",
      " 35  NEW.ACCTS.IN.LAST.SIX.MONTHS         233154 non-null  int64         \n",
      " 36  DELINQUENT.ACCTS.IN.LAST.SIX.MONTHS  233154 non-null  int64         \n",
      " 37  AVERAGE.ACCT.AGE                     233154 non-null  object        \n",
      " 38  CREDIT.HISTORY.LENGTH                233154 non-null  object        \n",
      " 39  NO.OF_INQUIRIES                      233154 non-null  int64         \n",
      " 40  loan_default                         233154 non-null  int64         \n",
      "dtypes: datetime64[ns](2), float64(1), int64(34), object(4)\n",
      "memory usage: 72.9+ MB\n"
     ]
    }
   ],
   "source": [
    "#Getting the info of dataset\n",
    "df.info()"
   ]
  },
  {
   "cell_type": "code",
   "execution_count": 8,
   "id": "c9c82b52",
   "metadata": {},
   "outputs": [],
   "source": [
    "import warnings\n",
    "warnings.filterwarnings('ignore')\n",
    "df.columns=df.columns.str.replace('.','_').str.lower()"
   ]
  },
  {
   "cell_type": "code",
   "execution_count": 9,
   "id": "0bebdc89",
   "metadata": {},
   "outputs": [
    {
     "name": "stdout",
     "output_type": "stream",
     "text": [
      "Are there any duplicates in the dataset??  False\n"
     ]
    }
   ],
   "source": [
    "print(\"Are there any duplicates in the dataset?? \", df.duplicated().any())"
   ]
  },
  {
   "cell_type": "code",
   "execution_count": 10,
   "id": "1831bb9f",
   "metadata": {},
   "outputs": [
    {
     "data": {
      "text/plain": [
       "uniqueid                                  0\n",
       "disbursed_amount                          0\n",
       "asset_cost                                0\n",
       "ltv                                       0\n",
       "branch_id                                 0\n",
       "supplier_id                               0\n",
       "manufacturer_id                           0\n",
       "current_pincode_id                        0\n",
       "date_of_birth                             0\n",
       "employment_type                        7661\n",
       "disbursaldate                             0\n",
       "state_id                                  0\n",
       "employee_code_id                          0\n",
       "mobileno_avl_flag                         0\n",
       "aadhar_flag                               0\n",
       "pan_flag                                  0\n",
       "voterid_flag                              0\n",
       "driving_flag                              0\n",
       "passport_flag                             0\n",
       "perform_cns_score                         0\n",
       "perform_cns_score_description             0\n",
       "pri_no_of_accts                           0\n",
       "pri_active_accts                          0\n",
       "pri_overdue_accts                         0\n",
       "pri_current_balance                       0\n",
       "pri_sanctioned_amount                     0\n",
       "pri_disbursed_amount                      0\n",
       "sec_no_of_accts                           0\n",
       "sec_active_accts                          0\n",
       "sec_overdue_accts                         0\n",
       "sec_current_balance                       0\n",
       "sec_sanctioned_amount                     0\n",
       "sec_disbursed_amount                      0\n",
       "primary_instal_amt                        0\n",
       "sec_instal_amt                            0\n",
       "new_accts_in_last_six_months              0\n",
       "delinquent_accts_in_last_six_months       0\n",
       "average_acct_age                          0\n",
       "credit_history_length                     0\n",
       "no_of_inquiries                           0\n",
       "loan_default                              0\n",
       "dtype: int64"
      ]
     },
     "execution_count": 10,
     "metadata": {},
     "output_type": "execute_result"
    }
   ],
   "source": [
    "# checking if there exists any NULL values in the data set\n",
    "df.isna().sum()"
   ]
  },
  {
   "cell_type": "code",
   "execution_count": 11,
   "id": "13b248c8",
   "metadata": {},
   "outputs": [
    {
     "data": {
      "text/plain": [
       "Self employed    127635\n",
       "Salaried          97858\n",
       "Name: employment_type, dtype: int64"
      ]
     },
     "execution_count": 11,
     "metadata": {},
     "output_type": "execute_result"
    }
   ],
   "source": [
    "df['employment_type'].value_counts()"
   ]
  },
  {
   "cell_type": "code",
   "execution_count": 12,
   "id": "5ffe1147",
   "metadata": {},
   "outputs": [
    {
     "data": {
      "text/plain": [
       "array(['Salaried', 'Self employed', nan], dtype=object)"
      ]
     },
     "execution_count": 12,
     "metadata": {},
     "output_type": "execute_result"
    }
   ],
   "source": [
    "df['employment_type'].unique()"
   ]
  },
  {
   "cell_type": "code",
   "execution_count": 13,
   "id": "3165cde8",
   "metadata": {},
   "outputs": [],
   "source": [
    "#3.The presented data might also contain some missing values therefore, exploration will also lead to devising strategies to fill in the missing values while exploring the data\n",
    "#Filling all null values as 'unemployment'.\n",
    "df.fillna('unemployment',inplace = True)"
   ]
  },
  {
   "cell_type": "code",
   "execution_count": 14,
   "id": "6f2605e6",
   "metadata": {},
   "outputs": [
    {
     "data": {
      "text/plain": [
       "uniqueid                               0\n",
       "disbursed_amount                       0\n",
       "asset_cost                             0\n",
       "ltv                                    0\n",
       "branch_id                              0\n",
       "supplier_id                            0\n",
       "manufacturer_id                        0\n",
       "current_pincode_id                     0\n",
       "date_of_birth                          0\n",
       "employment_type                        0\n",
       "disbursaldate                          0\n",
       "state_id                               0\n",
       "employee_code_id                       0\n",
       "mobileno_avl_flag                      0\n",
       "aadhar_flag                            0\n",
       "pan_flag                               0\n",
       "voterid_flag                           0\n",
       "driving_flag                           0\n",
       "passport_flag                          0\n",
       "perform_cns_score                      0\n",
       "perform_cns_score_description          0\n",
       "pri_no_of_accts                        0\n",
       "pri_active_accts                       0\n",
       "pri_overdue_accts                      0\n",
       "pri_current_balance                    0\n",
       "pri_sanctioned_amount                  0\n",
       "pri_disbursed_amount                   0\n",
       "sec_no_of_accts                        0\n",
       "sec_active_accts                       0\n",
       "sec_overdue_accts                      0\n",
       "sec_current_balance                    0\n",
       "sec_sanctioned_amount                  0\n",
       "sec_disbursed_amount                   0\n",
       "primary_instal_amt                     0\n",
       "sec_instal_amt                         0\n",
       "new_accts_in_last_six_months           0\n",
       "delinquent_accts_in_last_six_months    0\n",
       "average_acct_age                       0\n",
       "credit_history_length                  0\n",
       "no_of_inquiries                        0\n",
       "loan_default                           0\n",
       "dtype: int64"
      ]
     },
     "execution_count": 14,
     "metadata": {},
     "output_type": "execute_result"
    }
   ],
   "source": [
    "# checking if there any NULL values still exist in the data set\n",
    "df.isna().sum()"
   ]
  },
  {
   "cell_type": "code",
   "execution_count": 15,
   "id": "d3e56519",
   "metadata": {},
   "outputs": [
    {
     "data": {
      "text/plain": [
       "Index(['uniqueid', 'disbursed_amount', 'asset_cost', 'ltv', 'branch_id',\n",
       "       'supplier_id', 'manufacturer_id', 'current_pincode_id', 'date_of_birth',\n",
       "       'employment_type', 'disbursaldate', 'state_id', 'employee_code_id',\n",
       "       'mobileno_avl_flag', 'aadhar_flag', 'pan_flag', 'voterid_flag',\n",
       "       'driving_flag', 'passport_flag', 'perform_cns_score',\n",
       "       'perform_cns_score_description', 'pri_no_of_accts', 'pri_active_accts',\n",
       "       'pri_overdue_accts', 'pri_current_balance', 'pri_sanctioned_amount',\n",
       "       'pri_disbursed_amount', 'sec_no_of_accts', 'sec_active_accts',\n",
       "       'sec_overdue_accts', 'sec_current_balance', 'sec_sanctioned_amount',\n",
       "       'sec_disbursed_amount', 'primary_instal_amt', 'sec_instal_amt',\n",
       "       'new_accts_in_last_six_months', 'delinquent_accts_in_last_six_months',\n",
       "       'average_acct_age', 'credit_history_length', 'no_of_inquiries',\n",
       "       'loan_default'],\n",
       "      dtype='object')"
      ]
     },
     "execution_count": 15,
     "metadata": {},
     "output_type": "execute_result"
    }
   ],
   "source": [
    "df.columns"
   ]
  },
  {
   "cell_type": "code",
   "execution_count": 16,
   "id": "de049373",
   "metadata": {},
   "outputs": [
    {
     "data": {
      "text/plain": [
       "0"
      ]
     },
     "execution_count": 16,
     "metadata": {},
     "output_type": "execute_result"
    }
   ],
   "source": [
    "#Checking for duplicates\n",
    "df.duplicated().sum()"
   ]
  },
  {
   "cell_type": "markdown",
   "id": "30d7389b",
   "metadata": {},
   "source": [
    "### Performing EDA:\n",
    "### Provide the statistical description of the quantitative data variables\n"
   ]
  },
  {
   "cell_type": "code",
   "execution_count": 17,
   "id": "a2079d88",
   "metadata": {},
   "outputs": [],
   "source": [
    "data = ['uniqueid', 'branch_id', 'supplier_id', 'manufacturer_id', 'current_pincode_id','state_id', 'employee_code_id']"
   ]
  },
  {
   "cell_type": "code",
   "execution_count": 18,
   "id": "5d54c7a6",
   "metadata": {},
   "outputs": [
    {
     "name": "stdout",
     "output_type": "stream",
     "text": [
      "No. of unique values for UNIQUEID : 233154\n",
      "No. of unique values for BRANCH_ID : 82\n",
      "No. of unique values for SUPPLIER_ID : 2953\n",
      "No. of unique values for MANUFACTURER_ID : 11\n",
      "No. of unique values for CURRENT_PINCODE_ID : 6698\n",
      "No. of unique values for STATE_ID : 22\n",
      "No. of unique values for EMPLOYEE_CODE_ID : 3270\n"
     ]
    }
   ],
   "source": [
    "for i in data:\n",
    "    print('No. of unique values for {} : {}'.format(i.upper(),df[i].nunique()))"
   ]
  },
  {
   "cell_type": "code",
   "execution_count": 19,
   "id": "5d99d081",
   "metadata": {},
   "outputs": [
    {
     "data": {
      "text/html": [
       "<div>\n",
       "<style scoped>\n",
       "    .dataframe tbody tr th:only-of-type {\n",
       "        vertical-align: middle;\n",
       "    }\n",
       "\n",
       "    .dataframe tbody tr th {\n",
       "        vertical-align: top;\n",
       "    }\n",
       "\n",
       "    .dataframe thead th {\n",
       "        text-align: right;\n",
       "    }\n",
       "</style>\n",
       "<table border=\"1\" class=\"dataframe\">\n",
       "  <thead>\n",
       "    <tr style=\"text-align: right;\">\n",
       "      <th></th>\n",
       "      <th>uniqueid</th>\n",
       "      <th>disbursed_amount</th>\n",
       "      <th>asset_cost</th>\n",
       "      <th>ltv</th>\n",
       "      <th>branch_id</th>\n",
       "      <th>supplier_id</th>\n",
       "      <th>manufacturer_id</th>\n",
       "      <th>current_pincode_id</th>\n",
       "      <th>state_id</th>\n",
       "      <th>employee_code_id</th>\n",
       "      <th>...</th>\n",
       "      <th>sec_overdue_accts</th>\n",
       "      <th>sec_current_balance</th>\n",
       "      <th>sec_sanctioned_amount</th>\n",
       "      <th>sec_disbursed_amount</th>\n",
       "      <th>primary_instal_amt</th>\n",
       "      <th>sec_instal_amt</th>\n",
       "      <th>new_accts_in_last_six_months</th>\n",
       "      <th>delinquent_accts_in_last_six_months</th>\n",
       "      <th>no_of_inquiries</th>\n",
       "      <th>loan_default</th>\n",
       "    </tr>\n",
       "  </thead>\n",
       "  <tbody>\n",
       "    <tr>\n",
       "      <th>count</th>\n",
       "      <td>233154.000000</td>\n",
       "      <td>233154.000000</td>\n",
       "      <td>2.331540e+05</td>\n",
       "      <td>233154.000000</td>\n",
       "      <td>233154.000000</td>\n",
       "      <td>233154.000000</td>\n",
       "      <td>233154.000000</td>\n",
       "      <td>233154.000000</td>\n",
       "      <td>233154.000000</td>\n",
       "      <td>233154.000000</td>\n",
       "      <td>...</td>\n",
       "      <td>233154.000000</td>\n",
       "      <td>2.331540e+05</td>\n",
       "      <td>2.331540e+05</td>\n",
       "      <td>2.331540e+05</td>\n",
       "      <td>2.331540e+05</td>\n",
       "      <td>2.331540e+05</td>\n",
       "      <td>233154.000000</td>\n",
       "      <td>233154.000000</td>\n",
       "      <td>233154.000000</td>\n",
       "      <td>233154.000000</td>\n",
       "    </tr>\n",
       "    <tr>\n",
       "      <th>mean</th>\n",
       "      <td>535917.573376</td>\n",
       "      <td>54356.993528</td>\n",
       "      <td>7.586507e+04</td>\n",
       "      <td>74.746530</td>\n",
       "      <td>72.936094</td>\n",
       "      <td>19638.635035</td>\n",
       "      <td>69.028054</td>\n",
       "      <td>3396.880247</td>\n",
       "      <td>7.262243</td>\n",
       "      <td>1549.477148</td>\n",
       "      <td>...</td>\n",
       "      <td>0.007244</td>\n",
       "      <td>5.427793e+03</td>\n",
       "      <td>7.295923e+03</td>\n",
       "      <td>7.179998e+03</td>\n",
       "      <td>1.310548e+04</td>\n",
       "      <td>3.232684e+02</td>\n",
       "      <td>0.381833</td>\n",
       "      <td>0.097481</td>\n",
       "      <td>0.206615</td>\n",
       "      <td>0.217071</td>\n",
       "    </tr>\n",
       "    <tr>\n",
       "      <th>std</th>\n",
       "      <td>68315.693711</td>\n",
       "      <td>12971.314171</td>\n",
       "      <td>1.894478e+04</td>\n",
       "      <td>11.456636</td>\n",
       "      <td>69.834995</td>\n",
       "      <td>3491.949566</td>\n",
       "      <td>22.141304</td>\n",
       "      <td>2238.147502</td>\n",
       "      <td>4.482230</td>\n",
       "      <td>975.261278</td>\n",
       "      <td>...</td>\n",
       "      <td>0.111079</td>\n",
       "      <td>1.702370e+05</td>\n",
       "      <td>1.831560e+05</td>\n",
       "      <td>1.825925e+05</td>\n",
       "      <td>1.513679e+05</td>\n",
       "      <td>1.555369e+04</td>\n",
       "      <td>0.955107</td>\n",
       "      <td>0.384439</td>\n",
       "      <td>0.706498</td>\n",
       "      <td>0.412252</td>\n",
       "    </tr>\n",
       "    <tr>\n",
       "      <th>min</th>\n",
       "      <td>417428.000000</td>\n",
       "      <td>13320.000000</td>\n",
       "      <td>3.700000e+04</td>\n",
       "      <td>10.030000</td>\n",
       "      <td>1.000000</td>\n",
       "      <td>10524.000000</td>\n",
       "      <td>45.000000</td>\n",
       "      <td>1.000000</td>\n",
       "      <td>1.000000</td>\n",
       "      <td>1.000000</td>\n",
       "      <td>...</td>\n",
       "      <td>0.000000</td>\n",
       "      <td>-5.746470e+05</td>\n",
       "      <td>0.000000e+00</td>\n",
       "      <td>0.000000e+00</td>\n",
       "      <td>0.000000e+00</td>\n",
       "      <td>0.000000e+00</td>\n",
       "      <td>0.000000</td>\n",
       "      <td>0.000000</td>\n",
       "      <td>0.000000</td>\n",
       "      <td>0.000000</td>\n",
       "    </tr>\n",
       "    <tr>\n",
       "      <th>25%</th>\n",
       "      <td>476786.250000</td>\n",
       "      <td>47145.000000</td>\n",
       "      <td>6.571700e+04</td>\n",
       "      <td>68.880000</td>\n",
       "      <td>14.000000</td>\n",
       "      <td>16535.000000</td>\n",
       "      <td>48.000000</td>\n",
       "      <td>1511.000000</td>\n",
       "      <td>4.000000</td>\n",
       "      <td>713.000000</td>\n",
       "      <td>...</td>\n",
       "      <td>0.000000</td>\n",
       "      <td>0.000000e+00</td>\n",
       "      <td>0.000000e+00</td>\n",
       "      <td>0.000000e+00</td>\n",
       "      <td>0.000000e+00</td>\n",
       "      <td>0.000000e+00</td>\n",
       "      <td>0.000000</td>\n",
       "      <td>0.000000</td>\n",
       "      <td>0.000000</td>\n",
       "      <td>0.000000</td>\n",
       "    </tr>\n",
       "    <tr>\n",
       "      <th>50%</th>\n",
       "      <td>535978.500000</td>\n",
       "      <td>53803.000000</td>\n",
       "      <td>7.094600e+04</td>\n",
       "      <td>76.800000</td>\n",
       "      <td>61.000000</td>\n",
       "      <td>20333.000000</td>\n",
       "      <td>86.000000</td>\n",
       "      <td>2970.000000</td>\n",
       "      <td>6.000000</td>\n",
       "      <td>1451.000000</td>\n",
       "      <td>...</td>\n",
       "      <td>0.000000</td>\n",
       "      <td>0.000000e+00</td>\n",
       "      <td>0.000000e+00</td>\n",
       "      <td>0.000000e+00</td>\n",
       "      <td>0.000000e+00</td>\n",
       "      <td>0.000000e+00</td>\n",
       "      <td>0.000000</td>\n",
       "      <td>0.000000</td>\n",
       "      <td>0.000000</td>\n",
       "      <td>0.000000</td>\n",
       "    </tr>\n",
       "    <tr>\n",
       "      <th>75%</th>\n",
       "      <td>595039.750000</td>\n",
       "      <td>60413.000000</td>\n",
       "      <td>7.920175e+04</td>\n",
       "      <td>83.670000</td>\n",
       "      <td>130.000000</td>\n",
       "      <td>23000.000000</td>\n",
       "      <td>86.000000</td>\n",
       "      <td>5677.000000</td>\n",
       "      <td>10.000000</td>\n",
       "      <td>2362.000000</td>\n",
       "      <td>...</td>\n",
       "      <td>0.000000</td>\n",
       "      <td>0.000000e+00</td>\n",
       "      <td>0.000000e+00</td>\n",
       "      <td>0.000000e+00</td>\n",
       "      <td>1.999000e+03</td>\n",
       "      <td>0.000000e+00</td>\n",
       "      <td>0.000000</td>\n",
       "      <td>0.000000</td>\n",
       "      <td>0.000000</td>\n",
       "      <td>0.000000</td>\n",
       "    </tr>\n",
       "    <tr>\n",
       "      <th>max</th>\n",
       "      <td>671084.000000</td>\n",
       "      <td>990572.000000</td>\n",
       "      <td>1.628992e+06</td>\n",
       "      <td>95.000000</td>\n",
       "      <td>261.000000</td>\n",
       "      <td>24803.000000</td>\n",
       "      <td>156.000000</td>\n",
       "      <td>7345.000000</td>\n",
       "      <td>22.000000</td>\n",
       "      <td>3795.000000</td>\n",
       "      <td>...</td>\n",
       "      <td>8.000000</td>\n",
       "      <td>3.603285e+07</td>\n",
       "      <td>3.000000e+07</td>\n",
       "      <td>3.000000e+07</td>\n",
       "      <td>2.564281e+07</td>\n",
       "      <td>4.170901e+06</td>\n",
       "      <td>35.000000</td>\n",
       "      <td>20.000000</td>\n",
       "      <td>36.000000</td>\n",
       "      <td>1.000000</td>\n",
       "    </tr>\n",
       "  </tbody>\n",
       "</table>\n",
       "<p>8 rows × 35 columns</p>\n",
       "</div>"
      ],
      "text/plain": [
       "            uniqueid  disbursed_amount    asset_cost            ltv  \\\n",
       "count  233154.000000     233154.000000  2.331540e+05  233154.000000   \n",
       "mean   535917.573376      54356.993528  7.586507e+04      74.746530   \n",
       "std     68315.693711      12971.314171  1.894478e+04      11.456636   \n",
       "min    417428.000000      13320.000000  3.700000e+04      10.030000   \n",
       "25%    476786.250000      47145.000000  6.571700e+04      68.880000   \n",
       "50%    535978.500000      53803.000000  7.094600e+04      76.800000   \n",
       "75%    595039.750000      60413.000000  7.920175e+04      83.670000   \n",
       "max    671084.000000     990572.000000  1.628992e+06      95.000000   \n",
       "\n",
       "           branch_id    supplier_id  manufacturer_id  current_pincode_id  \\\n",
       "count  233154.000000  233154.000000    233154.000000       233154.000000   \n",
       "mean       72.936094   19638.635035        69.028054         3396.880247   \n",
       "std        69.834995    3491.949566        22.141304         2238.147502   \n",
       "min         1.000000   10524.000000        45.000000            1.000000   \n",
       "25%        14.000000   16535.000000        48.000000         1511.000000   \n",
       "50%        61.000000   20333.000000        86.000000         2970.000000   \n",
       "75%       130.000000   23000.000000        86.000000         5677.000000   \n",
       "max       261.000000   24803.000000       156.000000         7345.000000   \n",
       "\n",
       "            state_id  employee_code_id  ...  sec_overdue_accts  \\\n",
       "count  233154.000000     233154.000000  ...      233154.000000   \n",
       "mean        7.262243       1549.477148  ...           0.007244   \n",
       "std         4.482230        975.261278  ...           0.111079   \n",
       "min         1.000000          1.000000  ...           0.000000   \n",
       "25%         4.000000        713.000000  ...           0.000000   \n",
       "50%         6.000000       1451.000000  ...           0.000000   \n",
       "75%        10.000000       2362.000000  ...           0.000000   \n",
       "max        22.000000       3795.000000  ...           8.000000   \n",
       "\n",
       "       sec_current_balance  sec_sanctioned_amount  sec_disbursed_amount  \\\n",
       "count         2.331540e+05           2.331540e+05          2.331540e+05   \n",
       "mean          5.427793e+03           7.295923e+03          7.179998e+03   \n",
       "std           1.702370e+05           1.831560e+05          1.825925e+05   \n",
       "min          -5.746470e+05           0.000000e+00          0.000000e+00   \n",
       "25%           0.000000e+00           0.000000e+00          0.000000e+00   \n",
       "50%           0.000000e+00           0.000000e+00          0.000000e+00   \n",
       "75%           0.000000e+00           0.000000e+00          0.000000e+00   \n",
       "max           3.603285e+07           3.000000e+07          3.000000e+07   \n",
       "\n",
       "       primary_instal_amt  sec_instal_amt  new_accts_in_last_six_months  \\\n",
       "count        2.331540e+05    2.331540e+05                 233154.000000   \n",
       "mean         1.310548e+04    3.232684e+02                      0.381833   \n",
       "std          1.513679e+05    1.555369e+04                      0.955107   \n",
       "min          0.000000e+00    0.000000e+00                      0.000000   \n",
       "25%          0.000000e+00    0.000000e+00                      0.000000   \n",
       "50%          0.000000e+00    0.000000e+00                      0.000000   \n",
       "75%          1.999000e+03    0.000000e+00                      0.000000   \n",
       "max          2.564281e+07    4.170901e+06                     35.000000   \n",
       "\n",
       "       delinquent_accts_in_last_six_months  no_of_inquiries   loan_default  \n",
       "count                        233154.000000    233154.000000  233154.000000  \n",
       "mean                              0.097481         0.206615       0.217071  \n",
       "std                               0.384439         0.706498       0.412252  \n",
       "min                               0.000000         0.000000       0.000000  \n",
       "25%                               0.000000         0.000000       0.000000  \n",
       "50%                               0.000000         0.000000       0.000000  \n",
       "75%                               0.000000         0.000000       0.000000  \n",
       "max                              20.000000        36.000000       1.000000  \n",
       "\n",
       "[8 rows x 35 columns]"
      ]
     },
     "execution_count": 19,
     "metadata": {},
     "output_type": "execute_result"
    }
   ],
   "source": [
    "df.describe()"
   ]
  },
  {
   "cell_type": "code",
   "execution_count": 20,
   "id": "7c630505",
   "metadata": {},
   "outputs": [],
   "source": [
    "#description for categorical columns\n",
    "cat_cols = ['branch_id', 'supplier_id', 'manufacturer_id', 'state_id',\n",
    "            'new_accts_in_last_six_months','delinquent_accts_in_last_six_months',\n",
    "            'pri_no_of_accts', 'pri_active_accts','pri_overdue_accts',\n",
    "            'sec_no_of_accts', 'sec_active_accts','sec_overdue_accts','average_acct_age']\n",
    "for i in cat_cols :\n",
    "    df[i] = df[i].astype('category')"
   ]
  },
  {
   "cell_type": "code",
   "execution_count": 21,
   "id": "afc31588",
   "metadata": {},
   "outputs": [
    {
     "data": {
      "text/html": [
       "<div>\n",
       "<style scoped>\n",
       "    .dataframe tbody tr th:only-of-type {\n",
       "        vertical-align: middle;\n",
       "    }\n",
       "\n",
       "    .dataframe tbody tr th {\n",
       "        vertical-align: top;\n",
       "    }\n",
       "\n",
       "    .dataframe thead th {\n",
       "        text-align: right;\n",
       "    }\n",
       "</style>\n",
       "<table border=\"1\" class=\"dataframe\">\n",
       "  <thead>\n",
       "    <tr style=\"text-align: right;\">\n",
       "      <th></th>\n",
       "      <th>branch_id</th>\n",
       "      <th>supplier_id</th>\n",
       "      <th>manufacturer_id</th>\n",
       "      <th>state_id</th>\n",
       "      <th>pri_no_of_accts</th>\n",
       "      <th>pri_active_accts</th>\n",
       "      <th>pri_overdue_accts</th>\n",
       "      <th>sec_no_of_accts</th>\n",
       "      <th>sec_active_accts</th>\n",
       "      <th>sec_overdue_accts</th>\n",
       "      <th>new_accts_in_last_six_months</th>\n",
       "      <th>delinquent_accts_in_last_six_months</th>\n",
       "      <th>average_acct_age</th>\n",
       "    </tr>\n",
       "  </thead>\n",
       "  <tbody>\n",
       "    <tr>\n",
       "      <th>count</th>\n",
       "      <td>233154</td>\n",
       "      <td>233154</td>\n",
       "      <td>233154</td>\n",
       "      <td>233154</td>\n",
       "      <td>233154</td>\n",
       "      <td>233154</td>\n",
       "      <td>233154</td>\n",
       "      <td>233154</td>\n",
       "      <td>233154</td>\n",
       "      <td>233154</td>\n",
       "      <td>233154</td>\n",
       "      <td>233154</td>\n",
       "      <td>233154</td>\n",
       "    </tr>\n",
       "    <tr>\n",
       "      <th>unique</th>\n",
       "      <td>82</td>\n",
       "      <td>2953</td>\n",
       "      <td>11</td>\n",
       "      <td>22</td>\n",
       "      <td>108</td>\n",
       "      <td>40</td>\n",
       "      <td>22</td>\n",
       "      <td>37</td>\n",
       "      <td>23</td>\n",
       "      <td>9</td>\n",
       "      <td>26</td>\n",
       "      <td>14</td>\n",
       "      <td>192</td>\n",
       "    </tr>\n",
       "    <tr>\n",
       "      <th>top</th>\n",
       "      <td>2</td>\n",
       "      <td>18317</td>\n",
       "      <td>86</td>\n",
       "      <td>4</td>\n",
       "      <td>0</td>\n",
       "      <td>0</td>\n",
       "      <td>0</td>\n",
       "      <td>0</td>\n",
       "      <td>0</td>\n",
       "      <td>0</td>\n",
       "      <td>0</td>\n",
       "      <td>0</td>\n",
       "      <td>0yrs 0mon</td>\n",
       "    </tr>\n",
       "    <tr>\n",
       "      <th>freq</th>\n",
       "      <td>13138</td>\n",
       "      <td>1432</td>\n",
       "      <td>109534</td>\n",
       "      <td>44870</td>\n",
       "      <td>116950</td>\n",
       "      <td>137016</td>\n",
       "      <td>206879</td>\n",
       "      <td>227289</td>\n",
       "      <td>229337</td>\n",
       "      <td>231817</td>\n",
       "      <td>181494</td>\n",
       "      <td>214959</td>\n",
       "      <td>119373</td>\n",
       "    </tr>\n",
       "  </tbody>\n",
       "</table>\n",
       "</div>"
      ],
      "text/plain": [
       "        branch_id  supplier_id  manufacturer_id  state_id  pri_no_of_accts  \\\n",
       "count      233154       233154           233154    233154           233154   \n",
       "unique         82         2953               11        22              108   \n",
       "top             2        18317               86         4                0   \n",
       "freq        13138         1432           109534     44870           116950   \n",
       "\n",
       "        pri_active_accts  pri_overdue_accts  sec_no_of_accts  \\\n",
       "count             233154             233154           233154   \n",
       "unique                40                 22               37   \n",
       "top                    0                  0                0   \n",
       "freq              137016             206879           227289   \n",
       "\n",
       "        sec_active_accts  sec_overdue_accts  new_accts_in_last_six_months  \\\n",
       "count             233154             233154                        233154   \n",
       "unique                23                  9                            26   \n",
       "top                    0                  0                             0   \n",
       "freq              229337             231817                        181494   \n",
       "\n",
       "        delinquent_accts_in_last_six_months average_acct_age  \n",
       "count                                233154           233154  \n",
       "unique                                   14              192  \n",
       "top                                       0        0yrs 0mon  \n",
       "freq                                 214959           119373  "
      ]
     },
     "execution_count": 21,
     "metadata": {},
     "output_type": "execute_result"
    }
   ],
   "source": [
    "df.describe(include = 'category')"
   ]
  },
  {
   "cell_type": "code",
   "execution_count": 22,
   "id": "f7ddf602",
   "metadata": {},
   "outputs": [
    {
     "data": {
      "text/plain": [
       "['aadhar_flag',\n",
       " 'pan_flag',\n",
       " 'voterid_flag',\n",
       " 'driving_flag',\n",
       " 'passport_flag',\n",
       " 'loan_default']"
      ]
     },
     "execution_count": 22,
     "metadata": {},
     "output_type": "execute_result"
    }
   ],
   "source": [
    "binary_columns = list(df.nunique()[df.nunique() == 2].index)\n",
    "binary_columns"
   ]
  },
  {
   "cell_type": "code",
   "execution_count": 23,
   "id": "c64dfe9f",
   "metadata": {},
   "outputs": [
    {
     "name": "stdout",
     "output_type": "stream",
     "text": [
      "aadhar_flag :\n",
      "1 : 195924\n",
      "0 : 37230\n",
      "pan_flag :\n",
      "0 : 215533\n",
      "1 : 17621\n",
      "voterid_flag :\n",
      "0 : 199360\n",
      "1 : 33794\n",
      "driving_flag :\n",
      "0 : 227735\n",
      "1 : 5419\n",
      "passport_flag :\n",
      "0 : 232658\n",
      "1 : 496\n",
      "loan_default :\n",
      "0 : 182543\n",
      "1 : 50611\n"
     ]
    }
   ],
   "source": [
    "#description for binary data using value counts\n",
    "for i in binary_columns:\n",
    "    vc=df[i].value_counts()\n",
    "    print(i , ':')\n",
    "    for j in vc.index:\n",
    "        print(j,':',vc[j])\n",
    "    "
   ]
  },
  {
   "cell_type": "code",
   "execution_count": 24,
   "id": "52f25711",
   "metadata": {},
   "outputs": [
    {
     "data": {
      "text/plain": [
       "uniqueid                               233154\n",
       "disbursed_amount                        24565\n",
       "asset_cost                              46252\n",
       "ltv                                      6579\n",
       "branch_id                                  82\n",
       "supplier_id                              2953\n",
       "manufacturer_id                            11\n",
       "current_pincode_id                       6698\n",
       "date_of_birth                           15433\n",
       "employment_type                             3\n",
       "disbursaldate                              84\n",
       "state_id                                   22\n",
       "employee_code_id                         3270\n",
       "mobileno_avl_flag                           1\n",
       "aadhar_flag                                 2\n",
       "pan_flag                                    2\n",
       "voterid_flag                                2\n",
       "driving_flag                                2\n",
       "passport_flag                               2\n",
       "perform_cns_score                         573\n",
       "perform_cns_score_description              20\n",
       "pri_no_of_accts                           108\n",
       "pri_active_accts                           40\n",
       "pri_overdue_accts                          22\n",
       "pri_current_balance                     71341\n",
       "pri_sanctioned_amount                   44390\n",
       "pri_disbursed_amount                    47909\n",
       "sec_no_of_accts                            37\n",
       "sec_active_accts                           23\n",
       "sec_overdue_accts                           9\n",
       "sec_current_balance                      3246\n",
       "sec_sanctioned_amount                    2223\n",
       "sec_disbursed_amount                     2553\n",
       "primary_instal_amt                      28067\n",
       "sec_instal_amt                           1918\n",
       "new_accts_in_last_six_months               26\n",
       "delinquent_accts_in_last_six_months        14\n",
       "average_acct_age                          192\n",
       "credit_history_length                     294\n",
       "no_of_inquiries                            25\n",
       "loan_default                                2\n",
       "dtype: int64"
      ]
     },
     "execution_count": 24,
     "metadata": {},
     "output_type": "execute_result"
    }
   ],
   "source": [
    "df.nunique()"
   ]
  },
  {
   "cell_type": "markdown",
   "id": "e9798fdf",
   "metadata": {},
   "source": [
    "### 2.Explain how is the target variable distributed overall"
   ]
  },
  {
   "cell_type": "code",
   "execution_count": 25,
   "id": "8cd7c4c8",
   "metadata": {},
   "outputs": [
    {
     "data": {
      "text/plain": [
       "array([0, 1], dtype=int64)"
      ]
     },
     "execution_count": 25,
     "metadata": {},
     "output_type": "execute_result"
    }
   ],
   "source": [
    "df['loan_default'].unique()"
   ]
  },
  {
   "cell_type": "code",
   "execution_count": 26,
   "id": "b47503db",
   "metadata": {},
   "outputs": [
    {
     "data": {
      "text/plain": [
       "0    182543\n",
       "1     50611\n",
       "Name: loan_default, dtype: int64"
      ]
     },
     "execution_count": 26,
     "metadata": {},
     "output_type": "execute_result"
    }
   ],
   "source": [
    "df.loan_default.value_counts()"
   ]
  },
  {
   "cell_type": "code",
   "execution_count": 27,
   "id": "2c810511",
   "metadata": {},
   "outputs": [
    {
     "data": {
      "text/plain": [
       "0         Non_Defaulter\n",
       "1         Non_Defaulter\n",
       "2             Defaulter\n",
       "3         Non_Defaulter\n",
       "4         Non_Defaulter\n",
       "              ...      \n",
       "233149    Non_Defaulter\n",
       "233150    Non_Defaulter\n",
       "233151    Non_Defaulter\n",
       "233152    Non_Defaulter\n",
       "233153    Non_Defaulter\n",
       "Name: loan_default_text, Length: 233154, dtype: object"
      ]
     },
     "execution_count": 27,
     "metadata": {},
     "output_type": "execute_result"
    }
   ],
   "source": [
    "def text(t):\n",
    "    if t==1: return \"Defaulter\"\n",
    "    if t==0: return 'Non_Defaulter'\n",
    "df['loan_default_text'] = df.loan_default.apply(text)\n",
    "df['loan_default_text']"
   ]
  },
  {
   "cell_type": "code",
   "execution_count": 28,
   "id": "1076fd22",
   "metadata": {},
   "outputs": [
    {
     "data": {
      "text/plain": [
       "Non_Defaulter    182543\n",
       "Defaulter         50611\n",
       "Name: loan_default_text, dtype: int64"
      ]
     },
     "execution_count": 28,
     "metadata": {},
     "output_type": "execute_result"
    }
   ],
   "source": [
    "dcv=df['loan_default_text'].value_counts()\n",
    "dcv"
   ]
  },
  {
   "cell_type": "code",
   "execution_count": 29,
   "id": "694a602a",
   "metadata": {},
   "outputs": [
    {
     "data": {
      "image/png": "[encoded data removed]",
      "text/plain": [
       "<Figure size 432x432 with 1 Axes>"
      ]
     },
     "metadata": {},
     "output_type": "display_data"
    }
   ],
   "source": [
    "plt.figure(figsize=(6,6))\n",
    "\n",
    "label=[\"Non_Defaulter \",\"Defaulter \"]\n",
    "mycolors = [\"aquamarine\", \"Grey\"]\n",
    "plt.pie(dcv,labels=label, colors=mycolors, shadow = True, autopct = '%1.1f%%', explode = [0.10,0.1], \n",
    "        textprops = {'size': 18,'weight': 'bold'})\n",
    "plt.title('Default Rate')\n",
    "plt.show()"
   ]
  },
  {
   "cell_type": "code",
   "execution_count": 30,
   "id": "db6af2f9",
   "metadata": {},
   "outputs": [
    {
     "data": {
      "image/png": "[encoded data removed]",
      "text/plain": [
       "<Figure size 432x288 with 1 Axes>"
      ]
     },
     "metadata": {
      "needs_background": "light"
     },
     "output_type": "display_data"
    }
   ],
   "source": [
    "sns.countplot(df['loan_default_text'])\n",
    "plt.title('Default Rate')\n",
    "plt.show()"
   ]
  },
  {
   "cell_type": "markdown",
   "id": "c9c58496",
   "metadata": {},
   "source": [
    "### Study the distribution of the target variable across the various categories such as branch, city, state, branch, supplier, manufacturer, etc.\n",
    "\n"
   ]
  },
  {
   "cell_type": "markdown",
   "id": "508ffaf6",
   "metadata": {},
   "source": [
    "### Univariate Analysis and Variable vs Target"
   ]
  },
  {
   "cell_type": "code",
   "execution_count": 31,
   "id": "0becd98d",
   "metadata": {},
   "outputs": [],
   "source": [
    "def barplot(var):\n",
    "    var_name=var.replace('_',' ').title()\n",
    "    plt.figure(figsize=(20,6))\n",
    "    sns.countplot(df[var], palette = 'Set2')\n",
    "    plt.title(var_name , weight= 'bold', fontsize=16)\n",
    "    plt.xlabel(var_name , fontsize=13,)\n",
    "    plt.ylabel('Frequency' , fontsize=13)\n",
    "    plt.xticks(rotation=90)\n",
    "    plt.show()"
   ]
  },
  {
   "cell_type": "code",
   "execution_count": 32,
   "id": "2fcc5002",
   "metadata": {},
   "outputs": [],
   "source": [
    "def cat_vs_target(var):\n",
    "    var_name=var.replace('_',' ').title()\n",
    "    plt.figure(figsize=(20,6))\n",
    "    sns.countplot(df[var],hue = df['loan_default_text'], palette= 'Set2')\n",
    "    plt.title(var_name , weight= 'bold', fontsize=16)\n",
    "    plt.xlabel(var_name , fontsize=14)\n",
    "    plt.ylabel('Frequency' , fontsize=14)\n",
    "    plt.xticks(rotation=90)\n",
    "    plt.show()"
   ]
  },
  {
   "cell_type": "code",
   "execution_count": 33,
   "id": "f505892e",
   "metadata": {},
   "outputs": [],
   "source": [
    "import scipy.stats as stats\n",
    "\n",
    "# is the category and target dependent on each other??\n",
    "\n",
    "\n",
    "def chi_test(var):\n",
    "    ct = pd.crosstab(df[var], df.loan_default_text)\n",
    "    st, p, data, ef = stats.chi2_contingency(ct)\n",
    "    var_name = var.replace('_',' ')\n",
    "    if p >= 0.05:\n",
    "        text = ('{} and Target are independent'.format(var_name.title()))\n",
    "    else :\n",
    "        text = ('{} and Target are dependent'.format(var_name.title()))\n",
    "    plt.figure(figsize = (1,1))\n",
    "    plt.plot([0,0],[0,0])\n",
    "    plt.xlim(0,50)\n",
    "    plt.ylim(0,5)\n",
    "    plt.axis('off')\n",
    "    plt.annotate(text,xy = (2.5,2.5), fontsize= 25 )\n",
    "    plt.show()"
   ]
  },
  {
   "cell_type": "markdown",
   "id": "2eb3f90c",
   "metadata": {},
   "source": [
    "### 1. branch_id"
   ]
  },
  {
   "cell_type": "code",
   "execution_count": 34,
   "id": "9d15cf34",
   "metadata": {},
   "outputs": [
    {
     "data": {
      "image/png": "[encoded data removed]",
      "text/plain": [
       "<Figure size 1440x432 with 1 Axes>"
      ]
     },
     "metadata": {
      "needs_background": "light"
     },
     "output_type": "display_data"
    },
    {
     "data": {
      "image/png": "[encoded data removed]",
      "text/plain": [
       "<Figure size 1440x432 with 1 Axes>"
      ]
     },
     "metadata": {
      "needs_background": "light"
     },
     "output_type": "display_data"
    },
    {
     "data": {
      "image/png": "[encoded data removed]",
      "text/plain": [
       "<Figure size 72x72 with 1 Axes>"
      ]
     },
     "metadata": {
      "needs_background": "light"
     },
     "output_type": "display_data"
    }
   ],
   "source": [
    "var = 'branch_id'\n",
    "barplot(var)\n",
    "cat_vs_target(var)\n",
    "chi_test(var)"
   ]
  },
  {
   "cell_type": "markdown",
   "id": "22edb40e",
   "metadata": {},
   "source": [
    "### Supplier Ids"
   ]
  },
  {
   "cell_type": "code",
   "execution_count": 35,
   "id": "4ca08744",
   "metadata": {},
   "outputs": [
    {
     "data": {
      "image/png": "[encoded data removed]",
      "text/plain": [
       "<Figure size 1440x432 with 1 Axes>"
      ]
     },
     "metadata": {
      "needs_background": "light"
     },
     "output_type": "display_data"
    },
    {
     "data": {
      "image/png": "[encoded data removed]",
      "text/plain": [
       "<Figure size 1440x432 with 1 Axes>"
      ]
     },
     "metadata": {
      "needs_background": "light"
     },
     "output_type": "display_data"
    },
    {
     "data": {
      "image/png": "[encoded data removed]",
      "text/plain": [
       "<Figure size 72x72 with 1 Axes>"
      ]
     },
     "metadata": {
      "needs_background": "light"
     },
     "output_type": "display_data"
    }
   ],
   "source": [
    "var = 'supplier_id'\n",
    "barplot(var)\n",
    "cat_vs_target(var)\n",
    "chi_test(var)"
   ]
  },
  {
   "cell_type": "markdown",
   "id": "770a9d3d",
   "metadata": {},
   "source": [
    "### manufacturer id"
   ]
  },
  {
   "cell_type": "code",
   "execution_count": 36,
   "id": "8eaa87bc",
   "metadata": {},
   "outputs": [
    {
     "data": {
      "image/png": "[encoded data removed]",
      "text/plain": [
       "<Figure size 1440x432 with 1 Axes>"
      ]
     },
     "metadata": {
      "needs_background": "light"
     },
     "output_type": "display_data"
    },
    {
     "data": {
      "image/png": "[encoded data removed]",
      "text/plain": [
       "<Figure size 1440x432 with 1 Axes>"
      ]
     },
     "metadata": {
      "needs_background": "light"
     },
     "output_type": "display_data"
    },
    {
     "data": {
      "image/png": "[encoded data removed]",
      "text/plain": [
       "<Figure size 72x72 with 1 Axes>"
      ]
     },
     "metadata": {
      "needs_background": "light"
     },
     "output_type": "display_data"
    }
   ],
   "source": [
    "var = 'manufacturer_id'\n",
    "barplot(var)\n",
    "cat_vs_target(var)\n",
    "chi_test(var)"
   ]
  },
  {
   "cell_type": "markdown",
   "id": "eb941c9e",
   "metadata": {},
   "source": [
    "### state id"
   ]
  },
  {
   "cell_type": "code",
   "execution_count": 37,
   "id": "4f4fa5ff",
   "metadata": {},
   "outputs": [
    {
     "data": {
      "image/png": "[encoded data removed]",
      "text/plain": [
       "<Figure size 1440x432 with 1 Axes>"
      ]
     },
     "metadata": {
      "needs_background": "light"
     },
     "output_type": "display_data"
    },
    {
     "data": {
      "image/png": "[encoded data removed]",
      "text/plain": [
       "<Figure size 1440x432 with 1 Axes>"
      ]
     },
     "metadata": {
      "needs_background": "light"
     },
     "output_type": "display_data"
    },
    {
     "data": {
      "image/png": "[encoded data removed]",
      "text/plain": [
       "<Figure size 72x72 with 1 Axes>"
      ]
     },
     "metadata": {
      "needs_background": "light"
     },
     "output_type": "display_data"
    }
   ],
   "source": [
    "var = 'state_id'\n",
    "barplot(var)\n",
    "cat_vs_target(var)\n",
    "chi_test(var)"
   ]
  },
  {
   "cell_type": "code",
   "execution_count": 38,
   "id": "6efabf82",
   "metadata": {},
   "outputs": [
    {
     "data": {
      "text/plain": [
       "Self employed    127635\n",
       "Salaried          97858\n",
       "unemployment       7661\n",
       "Name: employment_type, dtype: int64"
      ]
     },
     "execution_count": 38,
     "metadata": {},
     "output_type": "execute_result"
    }
   ],
   "source": [
    "df['employment_type'].value_counts()"
   ]
  },
  {
   "cell_type": "code",
   "execution_count": 39,
   "id": "e653423e",
   "metadata": {
    "scrolled": true
   },
   "outputs": [
    {
     "data": {
      "image/png": "[encoded data removed]",
      "text/plain": [
       "<Figure size 360x360 with 1 Axes>"
      ]
     },
     "metadata": {},
     "output_type": "display_data"
    }
   ],
   "source": [
    "#What are the different employment types given in the data? Can a strategy be developed to fill in the missing values (if any)?#Use pie charts to express the different types of employment that define the defaulters and non-defaulters.\n",
    "import plotly.express as px\n",
    "\n",
    "plt.figure(figsize=(5,5))\n",
    "value=np.array([127635,97858,7661])\n",
    "label = ('Self employed','Salaried','unemployment')\n",
    "mycolors = [\"aquamarine\", \"lightcoral\", \"darkgrey\"]\n",
    "plt.pie(value,labels=label, colors = mycolors,shadow = True,pctdistance = 0.7,autopct = '%.2f%%',\n",
    "        textprops={'size': 13} )\n",
    "plt.title('Employement Type', fontsize = 14,weight = 'bold')\n",
    "plt.show()\n",
    "\n"
   ]
  },
  {
   "cell_type": "code",
   "execution_count": 40,
   "id": "72162226",
   "metadata": {},
   "outputs": [
    {
     "data": {
      "image/png": "[encoded data removed]",
      "text/plain": [
       "<Figure size 432x288 with 1 Axes>"
      ]
     },
     "metadata": {
      "needs_background": "light"
     },
     "output_type": "display_data"
    }
   ],
   "source": [
    "sns.countplot(df['employment_type'],hue = df.loan_default_text,palette = 'Set2')\n",
    "plt.title('Employement Type', fontsize = 14,weight = 'bold')\n",
    "plt.show()"
   ]
  },
  {
   "cell_type": "code",
   "execution_count": 41,
   "id": "9e16e755",
   "metadata": {},
   "outputs": [
    {
     "data": {
      "text/plain": [
       "Index(['uniqueid', 'disbursed_amount', 'asset_cost', 'ltv', 'branch_id',\n",
       "       'supplier_id', 'manufacturer_id', 'current_pincode_id', 'date_of_birth',\n",
       "       'employment_type', 'disbursaldate', 'state_id', 'employee_code_id',\n",
       "       'mobileno_avl_flag', 'aadhar_flag', 'pan_flag', 'voterid_flag',\n",
       "       'driving_flag', 'passport_flag', 'perform_cns_score',\n",
       "       'perform_cns_score_description', 'pri_no_of_accts', 'pri_active_accts',\n",
       "       'pri_overdue_accts', 'pri_current_balance', 'pri_sanctioned_amount',\n",
       "       'pri_disbursed_amount', 'sec_no_of_accts', 'sec_active_accts',\n",
       "       'sec_overdue_accts', 'sec_current_balance', 'sec_sanctioned_amount',\n",
       "       'sec_disbursed_amount', 'primary_instal_amt', 'sec_instal_amt',\n",
       "       'new_accts_in_last_six_months', 'delinquent_accts_in_last_six_months',\n",
       "       'average_acct_age', 'credit_history_length', 'no_of_inquiries',\n",
       "       'loan_default', 'loan_default_text'],\n",
       "      dtype='object')"
      ]
     },
     "execution_count": 41,
     "metadata": {},
     "output_type": "execute_result"
    }
   ],
   "source": [
    "df.columns\n"
   ]
  },
  {
   "cell_type": "code",
   "execution_count": 42,
   "id": "aa1d2cf3",
   "metadata": {},
   "outputs": [
    {
     "data": {
      "text/plain": [
       "employment_type  loan_default\n",
       "Salaried         0               77948\n",
       "                 1               19910\n",
       "Self employed    0               98578\n",
       "                 1               29057\n",
       "unemployment     0                6017\n",
       "                 1                1644\n",
       "dtype: int64"
      ]
     },
     "execution_count": 42,
     "metadata": {},
     "output_type": "execute_result"
    }
   ],
   "source": [
    "emp_default_df= df.groupby(['employment_type','loan_default']).size()\n",
    "emp_default_df"
   ]
  },
  {
   "cell_type": "code",
   "execution_count": 43,
   "id": "1ed0b6cc",
   "metadata": {},
   "outputs": [
    {
     "data": {
      "text/plain": [
       "employment_type  loan_default\n",
       "Salaried         0               33.431981\n",
       "                 1                8.539420\n",
       "Self employed    0               42.280210\n",
       "                 1               12.462578\n",
       "unemployment     0                2.580698\n",
       "                 1                0.705113\n",
       "dtype: float64"
      ]
     },
     "execution_count": 43,
     "metadata": {},
     "output_type": "execute_result"
    }
   ],
   "source": [
    "emp_default_percentage = emp_default_df.apply(lambda x: 100*x/emp_default_df.sum())\n",
    "emp_default_percentage"
   ]
  },
  {
   "cell_type": "code",
   "execution_count": 44,
   "id": "f07dd15d",
   "metadata": {},
   "outputs": [
    {
     "data": {
      "image/png": "[encoded data removed]",
      "text/plain": [
       "<Figure size 468x468 with 1 Axes>"
      ]
     },
     "metadata": {},
     "output_type": "display_data"
    }
   ],
   "source": [
    "plt.figure(figsize=(6.5,6.5))\n",
    "label=\"Salaried-no_loan_default\",\"Salaried-loan_default\",\"Self Employed-no_loan_default\",\"Self Employed-loan_default\", \"Unemployed-no_loan_default\",\"Unemployed-loan_default\"\n",
    "mycolors = [\"aquamarine\",\"magenta\", \"lightcoral\", \"darkgrey\",\"darkviolet\",\"yellow\",\"orange\"]\n",
    "plt.pie(emp_default_percentage,colors = mycolors, labels=label,shadow = True, pctdistance = 0.7,autopct='%1.1f%%')\n",
    "\n",
    "\n",
    "plt.show()"
   ]
  },
  {
   "cell_type": "code",
   "execution_count": 45,
   "id": "befc696f",
   "metadata": {},
   "outputs": [
    {
     "data": {
      "text/plain": [
       "Index(['uniqueid', 'disbursed_amount', 'asset_cost', 'ltv', 'branch_id',\n",
       "       'supplier_id', 'manufacturer_id', 'current_pincode_id', 'date_of_birth',\n",
       "       'employment_type', 'disbursaldate', 'state_id', 'employee_code_id',\n",
       "       'mobileno_avl_flag', 'aadhar_flag', 'pan_flag', 'voterid_flag',\n",
       "       'driving_flag', 'passport_flag', 'perform_cns_score',\n",
       "       'perform_cns_score_description', 'pri_no_of_accts', 'pri_active_accts',\n",
       "       'pri_overdue_accts', 'pri_current_balance', 'pri_sanctioned_amount',\n",
       "       'pri_disbursed_amount', 'sec_no_of_accts', 'sec_active_accts',\n",
       "       'sec_overdue_accts', 'sec_current_balance', 'sec_sanctioned_amount',\n",
       "       'sec_disbursed_amount', 'primary_instal_amt', 'sec_instal_amt',\n",
       "       'new_accts_in_last_six_months', 'delinquent_accts_in_last_six_months',\n",
       "       'average_acct_age', 'credit_history_length', 'no_of_inquiries',\n",
       "       'loan_default', 'loan_default_text'],\n",
       "      dtype='object')"
      ]
     },
     "execution_count": 45,
     "metadata": {},
     "output_type": "execute_result"
    }
   ],
   "source": [
    "df.columns"
   ]
  },
  {
   "cell_type": "markdown",
   "id": "b969ed2b",
   "metadata": {},
   "source": [
    "### Has age got something to do with defaulting ? what is the distribution of age w.r.t. to defaulters and non-defaulters?"
   ]
  },
  {
   "cell_type": "code",
   "execution_count": 46,
   "id": "70b143d3",
   "metadata": {},
   "outputs": [
    {
     "data": {
      "text/plain": [
       "0         1984\n",
       "1         1985\n",
       "2         1977\n",
       "3         1988\n",
       "4         1994\n",
       "          ... \n",
       "233149    1981\n",
       "233150    1992\n",
       "233151    1981\n",
       "233152    1989\n",
       "233153    1968\n",
       "Name: date_of_birth, Length: 233154, dtype: int64"
      ]
     },
     "execution_count": 46,
     "metadata": {},
     "output_type": "execute_result"
    }
   ],
   "source": [
    "### Age of the customer at the time of disbursement of fund\n",
    "ndf=df['date_of_birth'].dt.year\n",
    "ddf=df['disbursaldate'].dt.year\n",
    "ndf\n"
   ]
  },
  {
   "cell_type": "code",
   "execution_count": 47,
   "id": "9ae2ee76",
   "metadata": {},
   "outputs": [
    {
     "data": {
      "text/plain": [
       "0         2018\n",
       "1         2018\n",
       "2         2018\n",
       "3         2018\n",
       "4         2018\n",
       "          ... \n",
       "233149    2018\n",
       "233150    2018\n",
       "233151    2018\n",
       "233152    2018\n",
       "233153    2018\n",
       "Name: disbursaldate, Length: 233154, dtype: int64"
      ]
     },
     "execution_count": 47,
     "metadata": {},
     "output_type": "execute_result"
    }
   ],
   "source": [
    "ddf"
   ]
  },
  {
   "cell_type": "code",
   "execution_count": 48,
   "id": "13943873",
   "metadata": {},
   "outputs": [
    {
     "data": {
      "text/plain": [
       "0         34\n",
       "1         33\n",
       "2         41\n",
       "3         30\n",
       "4         24\n",
       "          ..\n",
       "233149    37\n",
       "233150    26\n",
       "233151    37\n",
       "233152    29\n",
       "233153    50\n",
       "Name: age, Length: 233154, dtype: int64"
      ]
     },
     "execution_count": 48,
     "metadata": {},
     "output_type": "execute_result"
    }
   ],
   "source": [
    "df['age']=ddf-ndf\n",
    "df['age']"
   ]
  },
  {
   "cell_type": "code",
   "execution_count": 49,
   "id": "8f9a6f35",
   "metadata": {},
   "outputs": [],
   "source": [
    "# Dropping the DOB and Disbursal Date\n",
    "df.drop(['disbursaldate','date_of_birth'],axis=1,inplace = True)"
   ]
  },
  {
   "cell_type": "code",
   "execution_count": 50,
   "id": "f8f262c4",
   "metadata": {},
   "outputs": [
    {
     "data": {
      "text/plain": [
       "Index(['uniqueid', 'disbursed_amount', 'asset_cost', 'ltv', 'branch_id',\n",
       "       'supplier_id', 'manufacturer_id', 'current_pincode_id',\n",
       "       'employment_type', 'state_id', 'employee_code_id', 'mobileno_avl_flag',\n",
       "       'aadhar_flag', 'pan_flag', 'voterid_flag', 'driving_flag',\n",
       "       'passport_flag', 'perform_cns_score', 'perform_cns_score_description',\n",
       "       'pri_no_of_accts', 'pri_active_accts', 'pri_overdue_accts',\n",
       "       'pri_current_balance', 'pri_sanctioned_amount', 'pri_disbursed_amount',\n",
       "       'sec_no_of_accts', 'sec_active_accts', 'sec_overdue_accts',\n",
       "       'sec_current_balance', 'sec_sanctioned_amount', 'sec_disbursed_amount',\n",
       "       'primary_instal_amt', 'sec_instal_amt', 'new_accts_in_last_six_months',\n",
       "       'delinquent_accts_in_last_six_months', 'average_acct_age',\n",
       "       'credit_history_length', 'no_of_inquiries', 'loan_default',\n",
       "       'loan_default_text', 'age'],\n",
       "      dtype='object')"
      ]
     },
     "execution_count": 50,
     "metadata": {},
     "output_type": "execute_result"
    }
   ],
   "source": [
    "df.columns"
   ]
  },
  {
   "cell_type": "code",
   "execution_count": 51,
   "id": "3c45228e",
   "metadata": {},
   "outputs": [
    {
     "data": {
      "text/plain": [
       "count    233154.000000\n",
       "mean         34.100946\n",
       "std           9.805992\n",
       "min          18.000000\n",
       "25%          26.000000\n",
       "50%          32.000000\n",
       "75%          41.000000\n",
       "max          69.000000\n",
       "Name: age, dtype: float64"
      ]
     },
     "execution_count": 51,
     "metadata": {},
     "output_type": "execute_result"
    }
   ],
   "source": [
    "df['age'].describe()"
   ]
  },
  {
   "cell_type": "code",
   "execution_count": 52,
   "id": "9cd01d50",
   "metadata": {},
   "outputs": [
    {
     "data": {
      "text/plain": [
       "2         41\n",
       "7         50\n",
       "8         42\n",
       "12        22\n",
       "18        24\n",
       "          ..\n",
       "233125    33\n",
       "233127    43\n",
       "233134    38\n",
       "233138    54\n",
       "233147    29\n",
       "Name: age, Length: 50611, dtype: int64"
      ]
     },
     "execution_count": 52,
     "metadata": {},
     "output_type": "execute_result"
    }
   ],
   "source": [
    "age_defaulter= df[df['loan_default']==1]['age']\n",
    "age_defaulter"
   ]
  },
  {
   "cell_type": "code",
   "execution_count": 53,
   "id": "9212c907",
   "metadata": {},
   "outputs": [
    {
     "data": {
      "text/plain": [
       "0         34\n",
       "1         33\n",
       "3         30\n",
       "4         24\n",
       "5         29\n",
       "          ..\n",
       "233149    37\n",
       "233150    26\n",
       "233151    37\n",
       "233152    29\n",
       "233153    50\n",
       "Name: age, Length: 182543, dtype: int64"
      ]
     },
     "execution_count": 53,
     "metadata": {},
     "output_type": "execute_result"
    }
   ],
   "source": [
    "age_non_defaulter=df[df['loan_default']==0]['age']\n",
    "age_non_defaulter"
   ]
  },
  {
   "cell_type": "code",
   "execution_count": 54,
   "id": "e483cfb6",
   "metadata": {},
   "outputs": [
    {
     "data": {
      "text/plain": [
       "count    50611.000000\n",
       "mean        33.406552\n",
       "std          9.658769\n",
       "min         18.000000\n",
       "25%         25.000000\n",
       "50%         31.000000\n",
       "75%         40.000000\n",
       "max         64.000000\n",
       "Name: age, dtype: float64"
      ]
     },
     "execution_count": 54,
     "metadata": {},
     "output_type": "execute_result"
    }
   ],
   "source": [
    "age_defaulter.describe()"
   ]
  },
  {
   "cell_type": "code",
   "execution_count": 55,
   "id": "c43681cc",
   "metadata": {},
   "outputs": [
    {
     "data": {
      "text/plain": [
       "count    182543.000000\n",
       "mean         34.293471\n",
       "std           9.837772\n",
       "min          18.000000\n",
       "25%          26.000000\n",
       "50%          33.000000\n",
       "75%          41.000000\n",
       "max          69.000000\n",
       "Name: age, dtype: float64"
      ]
     },
     "execution_count": 55,
     "metadata": {},
     "output_type": "execute_result"
    }
   ],
   "source": [
    "age_non_defaulter.describe()"
   ]
  },
  {
   "cell_type": "code",
   "execution_count": 56,
   "id": "bc056ede",
   "metadata": {},
   "outputs": [
    {
     "data": {
      "image/png": "[encoded data removed]",
      "text/plain": [
       "<Figure size 1296x360 with 1 Axes>"
      ]
     },
     "metadata": {
      "needs_background": "light"
     },
     "output_type": "display_data"
    }
   ],
   "source": [
    "##All the stats of age are almost same for defaulters and non defaulters\n",
    "plt.figure(figsize=(18,5))\n",
    "sns.countplot(age_non_defaulter,color='aquamarine')\n",
    "sns.countplot(age_defaulter,color='black')\n",
    "plt.tight_layout()\n",
    "plt.title('Age on Disbursal for Non Defaulters',weight ='bold',fontsize= 15)\n",
    "plt.show()\n"
   ]
  },
  {
   "cell_type": "markdown",
   "id": "80ca1eec",
   "metadata": {},
   "source": [
    "#### In the above chart Black color represents age of Defaulters and blue color represents age of non Defaulters."
   ]
  },
  {
   "cell_type": "markdown",
   "id": "e1e62b8f",
   "metadata": {},
   "source": [
    "### What type of ID was presented by most of the customers as proof?"
   ]
  },
  {
   "cell_type": "code",
   "execution_count": 57,
   "id": "925ea6ce",
   "metadata": {},
   "outputs": [
    {
     "data": {
      "text/plain": [
       "Index(['uniqueid', 'disbursed_amount', 'asset_cost', 'ltv', 'branch_id',\n",
       "       'supplier_id', 'manufacturer_id', 'current_pincode_id',\n",
       "       'employment_type', 'state_id', 'employee_code_id', 'mobileno_avl_flag',\n",
       "       'aadhar_flag', 'pan_flag', 'voterid_flag', 'driving_flag',\n",
       "       'passport_flag', 'perform_cns_score', 'perform_cns_score_description',\n",
       "       'pri_no_of_accts', 'pri_active_accts', 'pri_overdue_accts',\n",
       "       'pri_current_balance', 'pri_sanctioned_amount', 'pri_disbursed_amount',\n",
       "       'sec_no_of_accts', 'sec_active_accts', 'sec_overdue_accts',\n",
       "       'sec_current_balance', 'sec_sanctioned_amount', 'sec_disbursed_amount',\n",
       "       'primary_instal_amt', 'sec_instal_amt', 'new_accts_in_last_six_months',\n",
       "       'delinquent_accts_in_last_six_months', 'average_acct_age',\n",
       "       'credit_history_length', 'no_of_inquiries', 'loan_default',\n",
       "       'loan_default_text', 'age'],\n",
       "      dtype='object')"
      ]
     },
     "execution_count": 57,
     "metadata": {},
     "output_type": "execute_result"
    }
   ],
   "source": [
    "\n",
    "df.columns"
   ]
  },
  {
   "cell_type": "code",
   "execution_count": 58,
   "id": "cc55131b",
   "metadata": {},
   "outputs": [
    {
     "data": {
      "image/png": "[encoded data removed]",
      "text/plain": [
       "<Figure size 792x792 with 1 Axes>"
      ]
     },
     "metadata": {},
     "output_type": "display_data"
    }
   ],
   "source": [
    "df_id=df[['passport_flag','pan_flag', 'aadhar_flag','voterid_flag', 'driving_flag'\n",
    "       ]].sum()\n",
    "plt.figure(figsize=(11,11))\n",
    "label=df_id.index\n",
    "plt.pie(df_id,labels=label,autopct='%1.1f%%', colors=mycolors,textprops={'size':13,'weight':'bold'},shadow=True)\n",
    "plt.title('ID proof presented by most of the customers', fontsize = 16, weight = 'bold')\n",
    "plt.show()\n"
   ]
  },
  {
   "cell_type": "code",
   "execution_count": 59,
   "id": "0d87528d",
   "metadata": {},
   "outputs": [
    {
     "data": {
      "text/plain": [
       "Index(['passport_flag', 'pan_flag', 'aadhar_flag', 'voterid_flag',\n",
       "       'driving_flag'],\n",
       "      dtype='object')"
      ]
     },
     "execution_count": 59,
     "metadata": {},
     "output_type": "execute_result"
    }
   ],
   "source": [
    "df_id.index"
   ]
  },
  {
   "cell_type": "code",
   "execution_count": 60,
   "id": "fcf72b25",
   "metadata": {},
   "outputs": [
    {
     "data": {
      "text/plain": [
       "Index(['uniqueid', 'disbursed_amount', 'asset_cost', 'ltv', 'branch_id',\n",
       "       'supplier_id', 'manufacturer_id', 'current_pincode_id',\n",
       "       'employment_type', 'state_id', 'employee_code_id', 'mobileno_avl_flag',\n",
       "       'aadhar_flag', 'pan_flag', 'voterid_flag', 'driving_flag',\n",
       "       'passport_flag', 'perform_cns_score', 'perform_cns_score_description',\n",
       "       'pri_no_of_accts', 'pri_active_accts', 'pri_overdue_accts',\n",
       "       'pri_current_balance', 'pri_sanctioned_amount', 'pri_disbursed_amount',\n",
       "       'sec_no_of_accts', 'sec_active_accts', 'sec_overdue_accts',\n",
       "       'sec_current_balance', 'sec_sanctioned_amount', 'sec_disbursed_amount',\n",
       "       'primary_instal_amt', 'sec_instal_amt', 'new_accts_in_last_six_months',\n",
       "       'delinquent_accts_in_last_six_months', 'average_acct_age',\n",
       "       'credit_history_length', 'no_of_inquiries', 'loan_default',\n",
       "       'loan_default_text', 'age'],\n",
       "      dtype='object')"
      ]
     },
     "execution_count": 60,
     "metadata": {},
     "output_type": "execute_result"
    }
   ],
   "source": [
    "df.columns"
   ]
  },
  {
   "cell_type": "code",
   "execution_count": 61,
   "id": "5146474e",
   "metadata": {},
   "outputs": [],
   "source": [
    "non_defaulter= df[(df['perform_cns_score']) & (df['loan_default']==0)]"
   ]
  },
  {
   "cell_type": "code",
   "execution_count": 62,
   "id": "27a56e47",
   "metadata": {},
   "outputs": [
    {
     "data": {
      "text/plain": [
       "Index(['perform_cns_score', 'loan_default', 'loan_default_text'], dtype='object')"
      ]
     },
     "execution_count": 62,
     "metadata": {},
     "output_type": "execute_result"
    }
   ],
   "source": [
    "non_defaulter= non_defaulter.loc[:,\"perform_cns_score\":]\n",
    "non_defaulter.drop(['perform_cns_score_description', 'pri_no_of_accts',\n",
    "       'pri_active_accts', 'pri_overdue_accts', 'pri_current_balance',\n",
    "       'pri_sanctioned_amount', 'pri_disbursed_amount', 'sec_no_of_accts',\n",
    "       'sec_active_accts', 'sec_overdue_accts', 'sec_current_balance',\n",
    "       'sec_sanctioned_amount', 'sec_disbursed_amount', 'primary_instal_amt',\n",
    "       'sec_instal_amt', 'new_accts_in_last_six_months',\n",
    "       'delinquent_accts_in_last_six_months', 'average_acct_age',\n",
    "       'credit_history_length', 'no_of_inquiries','age'], axis=1, inplace= True)\n",
    "non_defaulter.columns"
   ]
  },
  {
   "cell_type": "code",
   "execution_count": 63,
   "id": "48384f19",
   "metadata": {},
   "outputs": [],
   "source": [
    "defaulter= df[(df['perform_cns_score']) & (df['loan_default']==1)]"
   ]
  },
  {
   "cell_type": "code",
   "execution_count": 64,
   "id": "fd3190b6",
   "metadata": {},
   "outputs": [
    {
     "data": {
      "text/plain": [
       "Index(['uniqueid', 'disbursed_amount', 'asset_cost', 'ltv', 'branch_id',\n",
       "       'supplier_id', 'manufacturer_id', 'current_pincode_id',\n",
       "       'employment_type', 'state_id', 'employee_code_id', 'mobileno_avl_flag',\n",
       "       'aadhar_flag', 'pan_flag', 'voterid_flag', 'driving_flag',\n",
       "       'passport_flag', 'perform_cns_score', 'perform_cns_score_description',\n",
       "       'pri_no_of_accts', 'pri_active_accts', 'pri_overdue_accts',\n",
       "       'pri_current_balance', 'pri_sanctioned_amount', 'pri_disbursed_amount',\n",
       "       'sec_no_of_accts', 'sec_active_accts', 'sec_overdue_accts',\n",
       "       'sec_current_balance', 'sec_sanctioned_amount', 'sec_disbursed_amount',\n",
       "       'primary_instal_amt', 'sec_instal_amt', 'new_accts_in_last_six_months',\n",
       "       'delinquent_accts_in_last_six_months', 'average_acct_age',\n",
       "       'credit_history_length', 'no_of_inquiries', 'loan_default',\n",
       "       'loan_default_text', 'age'],\n",
       "      dtype='object')"
      ]
     },
     "execution_count": 64,
     "metadata": {},
     "output_type": "execute_result"
    }
   ],
   "source": [
    "defaulter.columns"
   ]
  },
  {
   "cell_type": "code",
   "execution_count": 65,
   "id": "1a7fb84e",
   "metadata": {},
   "outputs": [
    {
     "data": {
      "text/plain": [
       "Index(['perform_cns_score', 'perform_cns_score_description', 'pri_no_of_accts',\n",
       "       'pri_active_accts', 'pri_overdue_accts', 'pri_current_balance',\n",
       "       'pri_sanctioned_amount', 'pri_disbursed_amount', 'sec_no_of_accts',\n",
       "       'sec_active_accts', 'sec_overdue_accts', 'sec_current_balance',\n",
       "       'sec_sanctioned_amount', 'sec_disbursed_amount', 'primary_instal_amt',\n",
       "       'sec_instal_amt', 'new_accts_in_last_six_months',\n",
       "       'delinquent_accts_in_last_six_months', 'average_acct_age',\n",
       "       'credit_history_length', 'no_of_inquiries', 'loan_default',\n",
       "       'loan_default_text', 'age'],\n",
       "      dtype='object')"
      ]
     },
     "execution_count": 65,
     "metadata": {},
     "output_type": "execute_result"
    }
   ],
   "source": [
    "defaulter=defaulter.loc[:,\"perform_cns_score\":]\n",
    "defaulter.columns"
   ]
  },
  {
   "cell_type": "code",
   "execution_count": 66,
   "id": "b447a2a4",
   "metadata": {},
   "outputs": [],
   "source": [
    "defaulter.drop(['perform_cns_score_description', 'pri_no_of_accts',\n",
    "       'pri_active_accts', 'pri_overdue_accts', 'pri_current_balance',\n",
    "       'pri_sanctioned_amount', 'pri_disbursed_amount', 'sec_no_of_accts',\n",
    "       'sec_active_accts', 'sec_overdue_accts', 'sec_current_balance',\n",
    "       'sec_sanctioned_amount', 'sec_disbursed_amount', 'primary_instal_amt',\n",
    "       'sec_instal_amt', 'new_accts_in_last_six_months',\n",
    "       'delinquent_accts_in_last_six_months', 'average_acct_age',\n",
    "       'credit_history_length', 'no_of_inquiries','age'], axis=1, inplace= True)\n"
   ]
  },
  {
   "cell_type": "code",
   "execution_count": 67,
   "id": "dba3269b",
   "metadata": {},
   "outputs": [
    {
     "data": {
      "text/html": [
       "<div>\n",
       "<style scoped>\n",
       "    .dataframe tbody tr th:only-of-type {\n",
       "        vertical-align: middle;\n",
       "    }\n",
       "\n",
       "    .dataframe tbody tr th {\n",
       "        vertical-align: top;\n",
       "    }\n",
       "\n",
       "    .dataframe thead th {\n",
       "        text-align: right;\n",
       "    }\n",
       "</style>\n",
       "<table border=\"1\" class=\"dataframe\">\n",
       "  <thead>\n",
       "    <tr style=\"text-align: right;\">\n",
       "      <th></th>\n",
       "      <th>perform_cns_score</th>\n",
       "      <th>loan_default</th>\n",
       "      <th>loan_default_text</th>\n",
       "    </tr>\n",
       "  </thead>\n",
       "  <tbody>\n",
       "    <tr>\n",
       "      <th>116973</th>\n",
       "      <td>879</td>\n",
       "      <td>1</td>\n",
       "      <td>Defaulter</td>\n",
       "    </tr>\n",
       "    <tr>\n",
       "      <th>116977</th>\n",
       "      <td>879</td>\n",
       "      <td>1</td>\n",
       "      <td>Defaulter</td>\n",
       "    </tr>\n",
       "    <tr>\n",
       "      <th>116979</th>\n",
       "      <td>879</td>\n",
       "      <td>1</td>\n",
       "      <td>Defaulter</td>\n",
       "    </tr>\n",
       "    <tr>\n",
       "      <th>116998</th>\n",
       "      <td>879</td>\n",
       "      <td>1</td>\n",
       "      <td>Defaulter</td>\n",
       "    </tr>\n",
       "    <tr>\n",
       "      <th>117001</th>\n",
       "      <td>879</td>\n",
       "      <td>1</td>\n",
       "      <td>Defaulter</td>\n",
       "    </tr>\n",
       "    <tr>\n",
       "      <th>...</th>\n",
       "      <td>...</td>\n",
       "      <td>...</td>\n",
       "      <td>...</td>\n",
       "    </tr>\n",
       "    <tr>\n",
       "      <th>232148</th>\n",
       "      <td>15</td>\n",
       "      <td>1</td>\n",
       "      <td>Defaulter</td>\n",
       "    </tr>\n",
       "    <tr>\n",
       "      <th>232153</th>\n",
       "      <td>15</td>\n",
       "      <td>1</td>\n",
       "      <td>Defaulter</td>\n",
       "    </tr>\n",
       "    <tr>\n",
       "      <th>232166</th>\n",
       "      <td>15</td>\n",
       "      <td>1</td>\n",
       "      <td>Defaulter</td>\n",
       "    </tr>\n",
       "    <tr>\n",
       "      <th>232173</th>\n",
       "      <td>15</td>\n",
       "      <td>1</td>\n",
       "      <td>Defaulter</td>\n",
       "    </tr>\n",
       "    <tr>\n",
       "      <th>232174</th>\n",
       "      <td>15</td>\n",
       "      <td>1</td>\n",
       "      <td>Defaulter</td>\n",
       "    </tr>\n",
       "  </tbody>\n",
       "</table>\n",
       "<p>10965 rows × 3 columns</p>\n",
       "</div>"
      ],
      "text/plain": [
       "        perform_cns_score  loan_default loan_default_text\n",
       "116973                879             1         Defaulter\n",
       "116977                879             1         Defaulter\n",
       "116979                879             1         Defaulter\n",
       "116998                879             1         Defaulter\n",
       "117001                879             1         Defaulter\n",
       "...                   ...           ...               ...\n",
       "232148                 15             1         Defaulter\n",
       "232153                 15             1         Defaulter\n",
       "232166                 15             1         Defaulter\n",
       "232173                 15             1         Defaulter\n",
       "232174                 15             1         Defaulter\n",
       "\n",
       "[10965 rows x 3 columns]"
      ]
     },
     "execution_count": 67,
     "metadata": {},
     "output_type": "execute_result"
    }
   ],
   "source": [
    "defaulter"
   ]
  },
  {
   "cell_type": "code",
   "execution_count": 68,
   "id": "73c3e460",
   "metadata": {},
   "outputs": [
    {
     "data": {
      "image/png": "[encoded data removed]",
      "text/plain": [
       "<Figure size 792x792 with 1 Axes>"
      ]
     },
     "metadata": {
      "needs_background": "light"
     },
     "output_type": "display_data"
    }
   ],
   "source": [
    "plt.figure(figsize=(11,11))\n",
    "colorme=['lime','yellow']\n",
    "sns.distplot(defaulter.perform_cns_score)\n",
    "sns.distplot(non_defaulter.perform_cns_score)\n",
    "plt.title('Distribution for defaulters vs. non-defaulters', fontsize = 16, weight = 'bold')\n",
    "plt.show()"
   ]
  },
  {
   "cell_type": "markdown",
   "id": "9446b5df",
   "metadata": {},
   "source": [
    "##### For both the defaulters and non Defaulters the distribution of CNS score follow a similar distribution."
   ]
  },
  {
   "cell_type": "code",
   "execution_count": 69,
   "id": "0b5d2f02",
   "metadata": {},
   "outputs": [
    {
     "data": {
      "text/html": [
       "<div>\n",
       "<style scoped>\n",
       "    .dataframe tbody tr th:only-of-type {\n",
       "        vertical-align: middle;\n",
       "    }\n",
       "\n",
       "    .dataframe tbody tr th {\n",
       "        vertical-align: top;\n",
       "    }\n",
       "\n",
       "    .dataframe thead th {\n",
       "        text-align: right;\n",
       "    }\n",
       "</style>\n",
       "<table border=\"1\" class=\"dataframe\">\n",
       "  <thead>\n",
       "    <tr style=\"text-align: right;\">\n",
       "      <th></th>\n",
       "      <th>perform_cns_score</th>\n",
       "      <th>loan_default</th>\n",
       "    </tr>\n",
       "  </thead>\n",
       "  <tbody>\n",
       "    <tr>\n",
       "      <th>count</th>\n",
       "      <td>44262.000000</td>\n",
       "      <td>44262.0</td>\n",
       "    </tr>\n",
       "    <tr>\n",
       "      <th>mean</th>\n",
       "      <td>604.947223</td>\n",
       "      <td>0.0</td>\n",
       "    </tr>\n",
       "    <tr>\n",
       "      <th>std</th>\n",
       "      <td>251.488519</td>\n",
       "      <td>0.0</td>\n",
       "    </tr>\n",
       "    <tr>\n",
       "      <th>min</th>\n",
       "      <td>11.000000</td>\n",
       "      <td>0.0</td>\n",
       "    </tr>\n",
       "    <tr>\n",
       "      <th>25%</th>\n",
       "      <td>575.000000</td>\n",
       "      <td>0.0</td>\n",
       "    </tr>\n",
       "    <tr>\n",
       "      <th>50%</th>\n",
       "      <td>691.000000</td>\n",
       "      <td>0.0</td>\n",
       "    </tr>\n",
       "    <tr>\n",
       "      <th>75%</th>\n",
       "      <td>763.000000</td>\n",
       "      <td>0.0</td>\n",
       "    </tr>\n",
       "    <tr>\n",
       "      <th>max</th>\n",
       "      <td>879.000000</td>\n",
       "      <td>0.0</td>\n",
       "    </tr>\n",
       "  </tbody>\n",
       "</table>\n",
       "</div>"
      ],
      "text/plain": [
       "       perform_cns_score  loan_default\n",
       "count       44262.000000       44262.0\n",
       "mean          604.947223           0.0\n",
       "std           251.488519           0.0\n",
       "min            11.000000           0.0\n",
       "25%           575.000000           0.0\n",
       "50%           691.000000           0.0\n",
       "75%           763.000000           0.0\n",
       "max           879.000000           0.0"
      ]
     },
     "execution_count": 69,
     "metadata": {},
     "output_type": "execute_result"
    }
   ],
   "source": [
    "non_defaulter.describe()"
   ]
  },
  {
   "cell_type": "code",
   "execution_count": 70,
   "id": "1f08cc57",
   "metadata": {},
   "outputs": [
    {
     "data": {
      "text/html": [
       "<div>\n",
       "<style scoped>\n",
       "    .dataframe tbody tr th:only-of-type {\n",
       "        vertical-align: middle;\n",
       "    }\n",
       "\n",
       "    .dataframe tbody tr th {\n",
       "        vertical-align: top;\n",
       "    }\n",
       "\n",
       "    .dataframe thead th {\n",
       "        text-align: right;\n",
       "    }\n",
       "</style>\n",
       "<table border=\"1\" class=\"dataframe\">\n",
       "  <thead>\n",
       "    <tr style=\"text-align: right;\">\n",
       "      <th></th>\n",
       "      <th>perform_cns_score</th>\n",
       "      <th>loan_default</th>\n",
       "    </tr>\n",
       "  </thead>\n",
       "  <tbody>\n",
       "    <tr>\n",
       "      <th>count</th>\n",
       "      <td>10965.000000</td>\n",
       "      <td>10965.0</td>\n",
       "    </tr>\n",
       "    <tr>\n",
       "      <th>mean</th>\n",
       "      <td>555.918194</td>\n",
       "      <td>1.0</td>\n",
       "    </tr>\n",
       "    <tr>\n",
       "      <th>std</th>\n",
       "      <td>262.763883</td>\n",
       "      <td>0.0</td>\n",
       "    </tr>\n",
       "    <tr>\n",
       "      <th>min</th>\n",
       "      <td>15.000000</td>\n",
       "      <td>1.0</td>\n",
       "    </tr>\n",
       "    <tr>\n",
       "      <th>25%</th>\n",
       "      <td>459.000000</td>\n",
       "      <td>1.0</td>\n",
       "    </tr>\n",
       "    <tr>\n",
       "      <th>50%</th>\n",
       "      <td>633.000000</td>\n",
       "      <td>1.0</td>\n",
       "    </tr>\n",
       "    <tr>\n",
       "      <th>75%</th>\n",
       "      <td>747.000000</td>\n",
       "      <td>1.0</td>\n",
       "    </tr>\n",
       "    <tr>\n",
       "      <th>max</th>\n",
       "      <td>879.000000</td>\n",
       "      <td>1.0</td>\n",
       "    </tr>\n",
       "  </tbody>\n",
       "</table>\n",
       "</div>"
      ],
      "text/plain": [
       "       perform_cns_score  loan_default\n",
       "count       10965.000000       10965.0\n",
       "mean          555.918194           1.0\n",
       "std           262.763883           0.0\n",
       "min            15.000000           1.0\n",
       "25%           459.000000           1.0\n",
       "50%           633.000000           1.0\n",
       "75%           747.000000           1.0\n",
       "max           879.000000           1.0"
      ]
     },
     "execution_count": 70,
     "metadata": {},
     "output_type": "execute_result"
    }
   ],
   "source": [
    "defaulter.describe()"
   ]
  },
  {
   "cell_type": "markdown",
   "id": "5e219f26",
   "metadata": {},
   "source": [
    "#### Mean of PERFORM_CNS.SCORE is higher in case of non-defaulters which says higher the cibil Score lesser the default."
   ]
  },
  {
   "cell_type": "code",
   "execution_count": 71,
   "id": "b8d6438f",
   "metadata": {},
   "outputs": [
    {
     "data": {
      "text/plain": [
       "Index(['uniqueid', 'disbursed_amount', 'asset_cost', 'ltv', 'branch_id',\n",
       "       'supplier_id', 'manufacturer_id', 'current_pincode_id',\n",
       "       'employment_type', 'state_id', 'employee_code_id', 'mobileno_avl_flag',\n",
       "       'aadhar_flag', 'pan_flag', 'voterid_flag', 'driving_flag',\n",
       "       'passport_flag', 'perform_cns_score', 'perform_cns_score_description',\n",
       "       'pri_no_of_accts', 'pri_active_accts', 'pri_overdue_accts',\n",
       "       'pri_current_balance', 'pri_sanctioned_amount', 'pri_disbursed_amount',\n",
       "       'sec_no_of_accts', 'sec_active_accts', 'sec_overdue_accts',\n",
       "       'sec_current_balance', 'sec_sanctioned_amount', 'sec_disbursed_amount',\n",
       "       'primary_instal_amt', 'sec_instal_amt', 'new_accts_in_last_six_months',\n",
       "       'delinquent_accts_in_last_six_months', 'average_acct_age',\n",
       "       'credit_history_length', 'no_of_inquiries', 'loan_default',\n",
       "       'loan_default_text', 'age'],\n",
       "      dtype='object')"
      ]
     },
     "execution_count": 71,
     "metadata": {},
     "output_type": "execute_result"
    }
   ],
   "source": [
    "df.columns"
   ]
  },
  {
   "cell_type": "code",
   "execution_count": 72,
   "id": "16ce2871",
   "metadata": {},
   "outputs": [],
   "source": [
    "df[\"perform_score\"] = 'No Score'\n",
    "df.loc[df.perform_cns_score_description.str.contains('High'),'perform_score'] = \"High\"\n",
    "df.loc[df.perform_cns_score_description.str.contains('Very High'),'perform_score'] = \"Very High\"\n",
    "df.loc[df.perform_cns_score_description.str.contains('Low'),'perform_score'] = \"Low\"\n",
    "df.loc[df.perform_cns_score_description.str.contains('Very Low'),'perform_score'] = \"Very Low\"\n",
    "df.loc[df.perform_cns_score_description.str.contains('Medium'),'perform_score'] = \"Medium\""
   ]
  },
  {
   "cell_type": "code",
   "execution_count": 73,
   "id": "10bc3837",
   "metadata": {},
   "outputs": [
    {
     "data": {
      "text/plain": [
       "array(['No Score', 'Very Low', 'Low', 'Medium', 'High', 'Very High'],\n",
       "      dtype=object)"
      ]
     },
     "execution_count": 73,
     "metadata": {},
     "output_type": "execute_result"
    }
   ],
   "source": [
    "df[\"perform_score\"].unique()"
   ]
  },
  {
   "cell_type": "code",
   "execution_count": 74,
   "id": "05d7d7a3",
   "metadata": {},
   "outputs": [
    {
     "data": {
      "image/png": "[encoded data removed]",
      "text/plain": [
       "<Figure size 432x432 with 1 Axes>"
      ]
     },
     "metadata": {
      "needs_background": "light"
     },
     "output_type": "display_data"
    }
   ],
   "source": [
    "plt.figure(figsize=(6,6))\n",
    "sns.countplot(df[\"perform_score\"],hue=df[\"loan_default_text\"],palette='Set2')\n",
    "plt.show()"
   ]
  },
  {
   "cell_type": "markdown",
   "id": "1cb52c36",
   "metadata": {},
   "source": [
    "### Explore the primary and secondary account details. Is the information in some way related to the loan default probability?\n"
   ]
  },
  {
   "cell_type": "code",
   "execution_count": 75,
   "id": "d2674f20",
   "metadata": {},
   "outputs": [
    {
     "data": {
      "text/plain": [
       "Index(['uniqueid', 'disbursed_amount', 'asset_cost', 'ltv', 'branch_id',\n",
       "       'supplier_id', 'manufacturer_id', 'current_pincode_id',\n",
       "       'employment_type', 'state_id', 'employee_code_id', 'mobileno_avl_flag',\n",
       "       'aadhar_flag', 'pan_flag', 'voterid_flag', 'driving_flag',\n",
       "       'passport_flag', 'perform_cns_score', 'perform_cns_score_description',\n",
       "       'pri_no_of_accts', 'pri_active_accts', 'pri_overdue_accts',\n",
       "       'pri_current_balance', 'pri_sanctioned_amount', 'pri_disbursed_amount',\n",
       "       'sec_no_of_accts', 'sec_active_accts', 'sec_overdue_accts',\n",
       "       'sec_current_balance', 'sec_sanctioned_amount', 'sec_disbursed_amount',\n",
       "       'primary_instal_amt', 'sec_instal_amt', 'new_accts_in_last_six_months',\n",
       "       'delinquent_accts_in_last_six_months', 'average_acct_age',\n",
       "       'credit_history_length', 'no_of_inquiries', 'loan_default',\n",
       "       'loan_default_text', 'age', 'perform_score'],\n",
       "      dtype='object')"
      ]
     },
     "execution_count": 75,
     "metadata": {},
     "output_type": "execute_result"
    }
   ],
   "source": [
    "df.columns"
   ]
  },
  {
   "cell_type": "code",
   "execution_count": 77,
   "id": "b9ee3d6a",
   "metadata": {},
   "outputs": [],
   "source": [
    "#There is correlation between primary and secondary accounts."
   ]
  },
  {
   "cell_type": "code",
   "execution_count": 79,
   "id": "c09b5a9a",
   "metadata": {},
   "outputs": [
    {
     "data": {
      "text/plain": [
       "Index(['uniqueid', 'disbursed_amount', 'asset_cost', 'ltv', 'branch_id',\n",
       "       'supplier_id', 'manufacturer_id', 'current_pincode_id',\n",
       "       'employment_type', 'state_id', 'employee_code_id', 'mobileno_avl_flag',\n",
       "       'aadhar_flag', 'pan_flag', 'voterid_flag', 'driving_flag',\n",
       "       'passport_flag', 'perform_cns_score', 'perform_cns_score_description',\n",
       "       'pri_no_of_accts', 'pri_active_accts', 'pri_overdue_accts',\n",
       "       'pri_current_balance', 'pri_sanctioned_amount', 'pri_disbursed_amount',\n",
       "       'sec_no_of_accts', 'sec_active_accts', 'sec_overdue_accts',\n",
       "       'sec_current_balance', 'sec_sanctioned_amount', 'sec_disbursed_amount',\n",
       "       'primary_instal_amt', 'sec_instal_amt', 'new_accts_in_last_six_months',\n",
       "       'delinquent_accts_in_last_six_months', 'average_acct_age',\n",
       "       'credit_history_length', 'no_of_inquiries', 'loan_default',\n",
       "       'loan_default_text', 'age', 'perform_score'],\n",
       "      dtype='object')"
      ]
     },
     "execution_count": 79,
     "metadata": {},
     "output_type": "execute_result"
    }
   ],
   "source": [
    "# Combining the Primary and Secondary Accounts\n",
    "df.columns"
   ]
  },
  {
   "cell_type": "code",
   "execution_count": 80,
   "id": "882c53b5",
   "metadata": {},
   "outputs": [],
   "source": [
    "df.pri_no_of_accts=pd.to_numeric(df.pri_no_of_accts)"
   ]
  },
  {
   "cell_type": "code",
   "execution_count": 81,
   "id": "b0d5e8ba",
   "metadata": {},
   "outputs": [],
   "source": [
    "df.pri_no_of_accts=pd.to_numeric(df.pri_no_of_accts)\n",
    "df.pri_active_accts=pd.to_numeric(df.pri_active_accts)\n",
    "df.pri_overdue_accts=pd.to_numeric(df.pri_overdue_accts)\n",
    "df.pri_current_balance=pd.to_numeric(df.pri_current_balance)\n",
    "df.pri_sanctioned_amount=pd.to_numeric(df.pri_sanctioned_amount)\n",
    "df.pri_disbursed_amount=pd.to_numeric(df.pri_disbursed_amount)\n",
    "df.primary_instal_amt=pd.to_numeric(df.primary_instal_amt)\n",
    "\n",
    "df.sec_no_of_accts=pd.to_numeric(df.sec_no_of_accts)\n",
    "df.sec_active_accts=pd.to_numeric(df.sec_active_accts)\n",
    "df.sec_overdue_accts=pd.to_numeric(df.sec_overdue_accts)\n",
    "df.sec_current_balance=pd.to_numeric(df.sec_current_balance) \n",
    "df.sec_sanctioned_amount=pd.to_numeric(df.sec_sanctioned_amount)\n",
    "df.sec_disbursed_amount=pd.to_numeric(df.sec_disbursed_amount)\n",
    "df.sec_instal_amt=pd.to_numeric(df.sec_instal_amt)\n",
    "    "
   ]
  },
  {
   "cell_type": "code",
   "execution_count": 82,
   "id": "5af2f895",
   "metadata": {},
   "outputs": [],
   "source": [
    "df['no_of_accts'] = df['pri_no_of_accts'] + df['sec_no_of_accts']\n",
    "df['active_accts'] = df['pri_active_accts'] + df['sec_active_accts']\n",
    "df['overdue_accts'] = df['pri_overdue_accts'] + df['sec_overdue_accts']\n",
    "df['outstanding_amount'] = df['pri_current_balance'] + df['sec_current_balance']\n",
    "df['sanctioned_amount'] = df['pri_sanctioned_amount'] + df['sec_sanctioned_amount']\n",
    "df['psdisbursed_amount'] = df['pri_disbursed_amount'] + df['sec_disbursed_amount']\n",
    "df['install_amt'] = df['primary_instal_amt'] + df['sec_instal_amt']"
   ]
  },
  {
   "cell_type": "code",
   "execution_count": 83,
   "id": "66edaeb2",
   "metadata": {},
   "outputs": [],
   "source": [
    "df.drop(['pri_no_of_accts', 'pri_active_accts', 'pri_overdue_accts',\n",
    "       'pri_current_balance', 'pri_sanctioned_amount', 'pri_disbursed_amount',\n",
    "       'sec_no_of_accts', 'sec_active_accts', 'sec_overdue_accts',\n",
    "       'sec_current_balance', 'sec_sanctioned_amount', 'sec_disbursed_amount',\n",
    "       'primary_instal_amt', 'sec_instal_amt'], axis = 1,inplace = True)\n"
   ]
  },
  {
   "cell_type": "code",
   "execution_count": 84,
   "id": "9f2b7b91",
   "metadata": {},
   "outputs": [
    {
     "data": {
      "text/plain": [
       "Index(['uniqueid', 'disbursed_amount', 'asset_cost', 'ltv', 'branch_id',\n",
       "       'supplier_id', 'manufacturer_id', 'current_pincode_id',\n",
       "       'employment_type', 'state_id', 'employee_code_id', 'mobileno_avl_flag',\n",
       "       'aadhar_flag', 'pan_flag', 'voterid_flag', 'driving_flag',\n",
       "       'passport_flag', 'perform_cns_score', 'perform_cns_score_description',\n",
       "       'new_accts_in_last_six_months', 'delinquent_accts_in_last_six_months',\n",
       "       'average_acct_age', 'credit_history_length', 'no_of_inquiries',\n",
       "       'loan_default', 'loan_default_text', 'age', 'perform_score',\n",
       "       'no_of_accts', 'active_accts', 'overdue_accts', 'outstanding_amount',\n",
       "       'sanctioned_amount', 'psdisbursed_amount', 'install_amt'],\n",
       "      dtype='object')"
      ]
     },
     "execution_count": 84,
     "metadata": {},
     "output_type": "execute_result"
    }
   ],
   "source": [
    "df.columns"
   ]
  },
  {
   "cell_type": "code",
   "execution_count": 85,
   "id": "349a2de6",
   "metadata": {},
   "outputs": [
    {
     "data": {
      "text/plain": [
       "0           0\n",
       "1           0\n",
       "3           0\n",
       "4           0\n",
       "5           0\n",
       "         ... \n",
       "233149      1\n",
       "233150      1\n",
       "233151     68\n",
       "233152     72\n",
       "233153    194\n",
       "Name: no_of_accts, Length: 182543, dtype: int64"
      ]
     },
     "execution_count": 85,
     "metadata": {},
     "output_type": "execute_result"
    }
   ],
   "source": [
    "no_of_NON_Default_acc = df[df['loan_default']==0]['no_of_accts']\n",
    "no_of_NON_Default_acc"
   ]
  },
  {
   "cell_type": "code",
   "execution_count": 86,
   "id": "9776a70c",
   "metadata": {},
   "outputs": [
    {
     "data": {
      "text/plain": [
       "2         0\n",
       "7         0\n",
       "8         0\n",
       "12        0\n",
       "18        0\n",
       "         ..\n",
       "233125    1\n",
       "233127    7\n",
       "233134    1\n",
       "233138    1\n",
       "233147    1\n",
       "Name: no_of_accts, Length: 50611, dtype: int64"
      ]
     },
     "execution_count": 86,
     "metadata": {},
     "output_type": "execute_result"
    }
   ],
   "source": [
    "no_of_Default_acc = df[df['loan_default']==1]['no_of_accts']\n",
    "no_of_Default_acc"
   ]
  },
  {
   "cell_type": "code",
   "execution_count": 87,
   "id": "1bcf1aa5",
   "metadata": {},
   "outputs": [
    {
     "data": {
      "text/plain": [
       "count    50611.000000\n",
       "mean         2.138428\n",
       "std          5.094236\n",
       "min          0.000000\n",
       "25%          0.000000\n",
       "50%          0.000000\n",
       "75%          2.000000\n",
       "max        453.000000\n",
       "Name: no_of_accts, dtype: float64"
      ]
     },
     "execution_count": 87,
     "metadata": {},
     "output_type": "execute_result"
    }
   ],
   "source": [
    "no_of_Default_acc.describe()"
   ]
  },
  {
   "cell_type": "code",
   "execution_count": 88,
   "id": "c473b48d",
   "metadata": {},
   "outputs": [
    {
     "data": {
      "text/plain": [
       "count    182543.000000\n",
       "mean          2.599886\n",
       "std           5.338380\n",
       "min           0.000000\n",
       "25%           0.000000\n",
       "50%           1.000000\n",
       "75%           3.000000\n",
       "max         354.000000\n",
       "Name: no_of_accts, dtype: float64"
      ]
     },
     "execution_count": 88,
     "metadata": {},
     "output_type": "execute_result"
    }
   ],
   "source": [
    "no_of_NON_Default_acc.describe()"
   ]
  },
  {
   "cell_type": "markdown",
   "id": "da1557b0",
   "metadata": {},
   "source": [
    "### Active Accounts"
   ]
  },
  {
   "cell_type": "code",
   "execution_count": 89,
   "id": "4959b3af",
   "metadata": {},
   "outputs": [
    {
     "data": {
      "text/plain": [
       "Index(['uniqueid', 'disbursed_amount', 'asset_cost', 'ltv', 'branch_id',\n",
       "       'supplier_id', 'manufacturer_id', 'current_pincode_id',\n",
       "       'employment_type', 'state_id', 'employee_code_id', 'mobileno_avl_flag',\n",
       "       'aadhar_flag', 'pan_flag', 'voterid_flag', 'driving_flag',\n",
       "       'passport_flag', 'perform_cns_score', 'perform_cns_score_description',\n",
       "       'new_accts_in_last_six_months', 'delinquent_accts_in_last_six_months',\n",
       "       'average_acct_age', 'credit_history_length', 'no_of_inquiries',\n",
       "       'loan_default', 'loan_default_text', 'age', 'perform_score',\n",
       "       'no_of_accts', 'active_accts', 'overdue_accts', 'outstanding_amount',\n",
       "       'sanctioned_amount', 'psdisbursed_amount', 'install_amt'],\n",
       "      dtype='object')"
      ]
     },
     "execution_count": 89,
     "metadata": {},
     "output_type": "execute_result"
    }
   ],
   "source": [
    "df.columns\n"
   ]
  },
  {
   "cell_type": "code",
   "execution_count": 90,
   "id": "e33fce03",
   "metadata": {},
   "outputs": [
    {
     "data": {
      "text/plain": [
       "0           0\n",
       "1           0\n",
       "2           0\n",
       "3           0\n",
       "4           0\n",
       "         ... \n",
       "233149      0\n",
       "233150      1\n",
       "233151     65\n",
       "233152     52\n",
       "233153    144\n",
       "Name: active_accts, Length: 233154, dtype: int64"
      ]
     },
     "execution_count": 90,
     "metadata": {},
     "output_type": "execute_result"
    }
   ],
   "source": [
    "df['active_accts']"
   ]
  },
  {
   "cell_type": "code",
   "execution_count": 91,
   "id": "85109f12",
   "metadata": {},
   "outputs": [
    {
     "data": {
      "text/html": [
       "<div>\n",
       "<style scoped>\n",
       "    .dataframe tbody tr th:only-of-type {\n",
       "        vertical-align: middle;\n",
       "    }\n",
       "\n",
       "    .dataframe tbody tr th {\n",
       "        vertical-align: top;\n",
       "    }\n",
       "\n",
       "    .dataframe thead th {\n",
       "        text-align: right;\n",
       "    }\n",
       "</style>\n",
       "<table border=\"1\" class=\"dataframe\">\n",
       "  <thead>\n",
       "    <tr style=\"text-align: right;\">\n",
       "      <th></th>\n",
       "      <th>Counts</th>\n",
       "      <th>Percentage_of_counts</th>\n",
       "    </tr>\n",
       "  </thead>\n",
       "  <tbody>\n",
       "    <tr>\n",
       "      <th>0</th>\n",
       "      <td>135726</td>\n",
       "      <td>58.213027</td>\n",
       "    </tr>\n",
       "    <tr>\n",
       "      <th>1</th>\n",
       "      <td>42203</td>\n",
       "      <td>18.100912</td>\n",
       "    </tr>\n",
       "    <tr>\n",
       "      <th>2</th>\n",
       "      <td>21780</td>\n",
       "      <td>9.341465</td>\n",
       "    </tr>\n",
       "    <tr>\n",
       "      <th>3</th>\n",
       "      <td>12426</td>\n",
       "      <td>5.329525</td>\n",
       "    </tr>\n",
       "    <tr>\n",
       "      <th>4</th>\n",
       "      <td>7660</td>\n",
       "      <td>3.285382</td>\n",
       "    </tr>\n",
       "    <tr>\n",
       "      <th>5</th>\n",
       "      <td>4674</td>\n",
       "      <td>2.004684</td>\n",
       "    </tr>\n",
       "    <tr>\n",
       "      <th>6</th>\n",
       "      <td>2886</td>\n",
       "      <td>1.237808</td>\n",
       "    </tr>\n",
       "    <tr>\n",
       "      <th>7</th>\n",
       "      <td>1884</td>\n",
       "      <td>0.808050</td>\n",
       "    </tr>\n",
       "    <tr>\n",
       "      <th>8</th>\n",
       "      <td>1235</td>\n",
       "      <td>0.529693</td>\n",
       "    </tr>\n",
       "    <tr>\n",
       "      <th>9</th>\n",
       "      <td>810</td>\n",
       "      <td>0.347410</td>\n",
       "    </tr>\n",
       "    <tr>\n",
       "      <th>10</th>\n",
       "      <td>552</td>\n",
       "      <td>0.236753</td>\n",
       "    </tr>\n",
       "    <tr>\n",
       "      <th>11</th>\n",
       "      <td>370</td>\n",
       "      <td>0.158693</td>\n",
       "    </tr>\n",
       "    <tr>\n",
       "      <th>12</th>\n",
       "      <td>240</td>\n",
       "      <td>0.102936</td>\n",
       "    </tr>\n",
       "    <tr>\n",
       "      <th>13</th>\n",
       "      <td>194</td>\n",
       "      <td>0.083207</td>\n",
       "    </tr>\n",
       "    <tr>\n",
       "      <th>14</th>\n",
       "      <td>131</td>\n",
       "      <td>0.056186</td>\n",
       "    </tr>\n",
       "    <tr>\n",
       "      <th>15</th>\n",
       "      <td>103</td>\n",
       "      <td>0.044177</td>\n",
       "    </tr>\n",
       "    <tr>\n",
       "      <th>17</th>\n",
       "      <td>58</td>\n",
       "      <td>0.024876</td>\n",
       "    </tr>\n",
       "    <tr>\n",
       "      <th>16</th>\n",
       "      <td>58</td>\n",
       "      <td>0.024876</td>\n",
       "    </tr>\n",
       "    <tr>\n",
       "      <th>18</th>\n",
       "      <td>34</td>\n",
       "      <td>0.014583</td>\n",
       "    </tr>\n",
       "    <tr>\n",
       "      <th>19</th>\n",
       "      <td>28</td>\n",
       "      <td>0.012009</td>\n",
       "    </tr>\n",
       "    <tr>\n",
       "      <th>20</th>\n",
       "      <td>13</td>\n",
       "      <td>0.005576</td>\n",
       "    </tr>\n",
       "    <tr>\n",
       "      <th>21</th>\n",
       "      <td>13</td>\n",
       "      <td>0.005576</td>\n",
       "    </tr>\n",
       "    <tr>\n",
       "      <th>23</th>\n",
       "      <td>12</td>\n",
       "      <td>0.005147</td>\n",
       "    </tr>\n",
       "    <tr>\n",
       "      <th>24</th>\n",
       "      <td>10</td>\n",
       "      <td>0.004289</td>\n",
       "    </tr>\n",
       "    <tr>\n",
       "      <th>22</th>\n",
       "      <td>9</td>\n",
       "      <td>0.003860</td>\n",
       "    </tr>\n",
       "    <tr>\n",
       "      <th>25</th>\n",
       "      <td>8</td>\n",
       "      <td>0.003431</td>\n",
       "    </tr>\n",
       "    <tr>\n",
       "      <th>26</th>\n",
       "      <td>7</td>\n",
       "      <td>0.003002</td>\n",
       "    </tr>\n",
       "    <tr>\n",
       "      <th>28</th>\n",
       "      <td>7</td>\n",
       "      <td>0.003002</td>\n",
       "    </tr>\n",
       "    <tr>\n",
       "      <th>31</th>\n",
       "      <td>4</td>\n",
       "      <td>0.001716</td>\n",
       "    </tr>\n",
       "    <tr>\n",
       "      <th>27</th>\n",
       "      <td>3</td>\n",
       "      <td>0.001287</td>\n",
       "    </tr>\n",
       "    <tr>\n",
       "      <th>34</th>\n",
       "      <td>3</td>\n",
       "      <td>0.001287</td>\n",
       "    </tr>\n",
       "    <tr>\n",
       "      <th>35</th>\n",
       "      <td>2</td>\n",
       "      <td>0.000858</td>\n",
       "    </tr>\n",
       "    <tr>\n",
       "      <th>37</th>\n",
       "      <td>2</td>\n",
       "      <td>0.000858</td>\n",
       "    </tr>\n",
       "    <tr>\n",
       "      <th>32</th>\n",
       "      <td>2</td>\n",
       "      <td>0.000858</td>\n",
       "    </tr>\n",
       "    <tr>\n",
       "      <th>36</th>\n",
       "      <td>1</td>\n",
       "      <td>0.000429</td>\n",
       "    </tr>\n",
       "    <tr>\n",
       "      <th>42</th>\n",
       "      <td>1</td>\n",
       "      <td>0.000429</td>\n",
       "    </tr>\n",
       "    <tr>\n",
       "      <th>43</th>\n",
       "      <td>1</td>\n",
       "      <td>0.000429</td>\n",
       "    </tr>\n",
       "    <tr>\n",
       "      <th>39</th>\n",
       "      <td>1</td>\n",
       "      <td>0.000429</td>\n",
       "    </tr>\n",
       "    <tr>\n",
       "      <th>65</th>\n",
       "      <td>1</td>\n",
       "      <td>0.000429</td>\n",
       "    </tr>\n",
       "    <tr>\n",
       "      <th>52</th>\n",
       "      <td>1</td>\n",
       "      <td>0.000429</td>\n",
       "    </tr>\n",
       "    <tr>\n",
       "      <th>144</th>\n",
       "      <td>1</td>\n",
       "      <td>0.000429</td>\n",
       "    </tr>\n",
       "  </tbody>\n",
       "</table>\n",
       "</div>"
      ],
      "text/plain": [
       "     Counts  Percentage_of_counts\n",
       "0    135726             58.213027\n",
       "1     42203             18.100912\n",
       "2     21780              9.341465\n",
       "3     12426              5.329525\n",
       "4      7660              3.285382\n",
       "5      4674              2.004684\n",
       "6      2886              1.237808\n",
       "7      1884              0.808050\n",
       "8      1235              0.529693\n",
       "9       810              0.347410\n",
       "10      552              0.236753\n",
       "11      370              0.158693\n",
       "12      240              0.102936\n",
       "13      194              0.083207\n",
       "14      131              0.056186\n",
       "15      103              0.044177\n",
       "17       58              0.024876\n",
       "16       58              0.024876\n",
       "18       34              0.014583\n",
       "19       28              0.012009\n",
       "20       13              0.005576\n",
       "21       13              0.005576\n",
       "23       12              0.005147\n",
       "24       10              0.004289\n",
       "22        9              0.003860\n",
       "25        8              0.003431\n",
       "26        7              0.003002\n",
       "28        7              0.003002\n",
       "31        4              0.001716\n",
       "27        3              0.001287\n",
       "34        3              0.001287\n",
       "35        2              0.000858\n",
       "37        2              0.000858\n",
       "32        2              0.000858\n",
       "36        1              0.000429\n",
       "42        1              0.000429\n",
       "43        1              0.000429\n",
       "39        1              0.000429\n",
       "65        1              0.000429\n",
       "52        1              0.000429\n",
       "144       1              0.000429"
      ]
     },
     "execution_count": 91,
     "metadata": {},
     "output_type": "execute_result"
    }
   ],
   "source": [
    "Counts = df['active_accts'].value_counts()\n",
    "Percentage_of_counts = df['active_accts'].value_counts(normalize=True)*100\n",
    "pd.DataFrame({\"Counts\":Counts,\"Percentage_of_counts\":Percentage_of_counts})"
   ]
  },
  {
   "cell_type": "markdown",
   "id": "89e6f94e",
   "metadata": {},
   "source": [
    "#### Around 58% of accounts are inactive and only 18% have 1 active account present."
   ]
  },
  {
   "cell_type": "code",
   "execution_count": 92,
   "id": "e62f6b98",
   "metadata": {},
   "outputs": [
    {
     "data": {
      "text/plain": [
       "Index(['uniqueid', 'disbursed_amount', 'asset_cost', 'ltv', 'branch_id',\n",
       "       'supplier_id', 'manufacturer_id', 'current_pincode_id',\n",
       "       'employment_type', 'state_id', 'employee_code_id', 'mobileno_avl_flag',\n",
       "       'aadhar_flag', 'pan_flag', 'voterid_flag', 'driving_flag',\n",
       "       'passport_flag', 'perform_cns_score', 'perform_cns_score_description',\n",
       "       'new_accts_in_last_six_months', 'delinquent_accts_in_last_six_months',\n",
       "       'average_acct_age', 'credit_history_length', 'no_of_inquiries',\n",
       "       'loan_default', 'loan_default_text', 'age', 'perform_score',\n",
       "       'no_of_accts', 'active_accts', 'overdue_accts', 'outstanding_amount',\n",
       "       'sanctioned_amount', 'psdisbursed_amount', 'install_amt'],\n",
       "      dtype='object')"
      ]
     },
     "execution_count": 92,
     "metadata": {},
     "output_type": "execute_result"
    }
   ],
   "source": [
    "df.columns"
   ]
  },
  {
   "cell_type": "markdown",
   "id": "c5a542e5",
   "metadata": {},
   "source": [
    "#### overdue accts\n"
   ]
  },
  {
   "cell_type": "code",
   "execution_count": 93,
   "id": "2bcc6639",
   "metadata": {},
   "outputs": [
    {
     "data": {
      "text/html": [
       "<div>\n",
       "<style scoped>\n",
       "    .dataframe tbody tr th:only-of-type {\n",
       "        vertical-align: middle;\n",
       "    }\n",
       "\n",
       "    .dataframe tbody tr th {\n",
       "        vertical-align: top;\n",
       "    }\n",
       "\n",
       "    .dataframe thead th {\n",
       "        text-align: right;\n",
       "    }\n",
       "</style>\n",
       "<table border=\"1\" class=\"dataframe\">\n",
       "  <thead>\n",
       "    <tr style=\"text-align: right;\">\n",
       "      <th></th>\n",
       "      <th>Counts</th>\n",
       "      <th>Percentage_of_counts</th>\n",
       "    </tr>\n",
       "  </thead>\n",
       "  <tbody>\n",
       "    <tr>\n",
       "      <th>0</th>\n",
       "      <td>205911</td>\n",
       "      <td>88.315448</td>\n",
       "    </tr>\n",
       "    <tr>\n",
       "      <th>1</th>\n",
       "      <td>20556</td>\n",
       "      <td>8.816490</td>\n",
       "    </tr>\n",
       "    <tr>\n",
       "      <th>2</th>\n",
       "      <td>4510</td>\n",
       "      <td>1.934344</td>\n",
       "    </tr>\n",
       "    <tr>\n",
       "      <th>3</th>\n",
       "      <td>1301</td>\n",
       "      <td>0.558000</td>\n",
       "    </tr>\n",
       "    <tr>\n",
       "      <th>4</th>\n",
       "      <td>443</td>\n",
       "      <td>0.190003</td>\n",
       "    </tr>\n",
       "    <tr>\n",
       "      <th>5</th>\n",
       "      <td>180</td>\n",
       "      <td>0.077202</td>\n",
       "    </tr>\n",
       "    <tr>\n",
       "      <th>6</th>\n",
       "      <td>107</td>\n",
       "      <td>0.045892</td>\n",
       "    </tr>\n",
       "    <tr>\n",
       "      <th>7</th>\n",
       "      <td>42</td>\n",
       "      <td>0.018014</td>\n",
       "    </tr>\n",
       "    <tr>\n",
       "      <th>8</th>\n",
       "      <td>29</td>\n",
       "      <td>0.012438</td>\n",
       "    </tr>\n",
       "    <tr>\n",
       "      <th>9</th>\n",
       "      <td>27</td>\n",
       "      <td>0.011580</td>\n",
       "    </tr>\n",
       "    <tr>\n",
       "      <th>11</th>\n",
       "      <td>11</td>\n",
       "      <td>0.004718</td>\n",
       "    </tr>\n",
       "    <tr>\n",
       "      <th>12</th>\n",
       "      <td>10</td>\n",
       "      <td>0.004289</td>\n",
       "    </tr>\n",
       "    <tr>\n",
       "      <th>10</th>\n",
       "      <td>7</td>\n",
       "      <td>0.003002</td>\n",
       "    </tr>\n",
       "    <tr>\n",
       "      <th>13</th>\n",
       "      <td>6</td>\n",
       "      <td>0.002573</td>\n",
       "    </tr>\n",
       "    <tr>\n",
       "      <th>14</th>\n",
       "      <td>5</td>\n",
       "      <td>0.002145</td>\n",
       "    </tr>\n",
       "    <tr>\n",
       "      <th>18</th>\n",
       "      <td>2</td>\n",
       "      <td>0.000858</td>\n",
       "    </tr>\n",
       "    <tr>\n",
       "      <th>17</th>\n",
       "      <td>2</td>\n",
       "      <td>0.000858</td>\n",
       "    </tr>\n",
       "    <tr>\n",
       "      <th>23</th>\n",
       "      <td>1</td>\n",
       "      <td>0.000429</td>\n",
       "    </tr>\n",
       "    <tr>\n",
       "      <th>19</th>\n",
       "      <td>1</td>\n",
       "      <td>0.000429</td>\n",
       "    </tr>\n",
       "    <tr>\n",
       "      <th>15</th>\n",
       "      <td>1</td>\n",
       "      <td>0.000429</td>\n",
       "    </tr>\n",
       "    <tr>\n",
       "      <th>16</th>\n",
       "      <td>1</td>\n",
       "      <td>0.000429</td>\n",
       "    </tr>\n",
       "    <tr>\n",
       "      <th>25</th>\n",
       "      <td>1</td>\n",
       "      <td>0.000429</td>\n",
       "    </tr>\n",
       "  </tbody>\n",
       "</table>\n",
       "</div>"
      ],
      "text/plain": [
       "    Counts  Percentage_of_counts\n",
       "0   205911             88.315448\n",
       "1    20556              8.816490\n",
       "2     4510              1.934344\n",
       "3     1301              0.558000\n",
       "4      443              0.190003\n",
       "5      180              0.077202\n",
       "6      107              0.045892\n",
       "7       42              0.018014\n",
       "8       29              0.012438\n",
       "9       27              0.011580\n",
       "11      11              0.004718\n",
       "12      10              0.004289\n",
       "10       7              0.003002\n",
       "13       6              0.002573\n",
       "14       5              0.002145\n",
       "18       2              0.000858\n",
       "17       2              0.000858\n",
       "23       1              0.000429\n",
       "19       1              0.000429\n",
       "15       1              0.000429\n",
       "16       1              0.000429\n",
       "25       1              0.000429"
      ]
     },
     "execution_count": 93,
     "metadata": {},
     "output_type": "execute_result"
    }
   ],
   "source": [
    "Counts1 = df['overdue_accts'].value_counts()\n",
    "Percentage_of_counts1 = df['overdue_accts'].value_counts(normalize=True)*100\n",
    "pd.DataFrame({\"Counts\":Counts1,\"Percentage_of_counts\":Percentage_of_counts1})"
   ]
  },
  {
   "cell_type": "markdown",
   "id": "8870b7db",
   "metadata": {},
   "source": [
    "#### Over 88% are not overdue.  "
   ]
  },
  {
   "cell_type": "code",
   "execution_count": 94,
   "id": "4a689fbe",
   "metadata": {},
   "outputs": [
    {
     "data": {
      "text/html": [
       "<div>\n",
       "<style scoped>\n",
       "    .dataframe tbody tr th:only-of-type {\n",
       "        vertical-align: middle;\n",
       "    }\n",
       "\n",
       "    .dataframe tbody tr th {\n",
       "        vertical-align: top;\n",
       "    }\n",
       "\n",
       "    .dataframe thead th {\n",
       "        text-align: right;\n",
       "    }\n",
       "</style>\n",
       "<table border=\"1\" class=\"dataframe\">\n",
       "  <thead>\n",
       "    <tr style=\"text-align: right;\">\n",
       "      <th>loan_default</th>\n",
       "      <th>0</th>\n",
       "      <th>1</th>\n",
       "      <th>pct_default</th>\n",
       "    </tr>\n",
       "    <tr>\n",
       "      <th>overdue_accts</th>\n",
       "      <th></th>\n",
       "      <th></th>\n",
       "      <th></th>\n",
       "    </tr>\n",
       "  </thead>\n",
       "  <tbody>\n",
       "    <tr>\n",
       "      <th>0</th>\n",
       "      <td>162687</td>\n",
       "      <td>43224</td>\n",
       "      <td>20.991593</td>\n",
       "    </tr>\n",
       "    <tr>\n",
       "      <th>1</th>\n",
       "      <td>15072</td>\n",
       "      <td>5484</td>\n",
       "      <td>26.678342</td>\n",
       "    </tr>\n",
       "    <tr>\n",
       "      <th>2</th>\n",
       "      <td>3232</td>\n",
       "      <td>1278</td>\n",
       "      <td>28.337029</td>\n",
       "    </tr>\n",
       "    <tr>\n",
       "      <th>3</th>\n",
       "      <td>914</td>\n",
       "      <td>387</td>\n",
       "      <td>29.746349</td>\n",
       "    </tr>\n",
       "    <tr>\n",
       "      <th>4</th>\n",
       "      <td>314</td>\n",
       "      <td>129</td>\n",
       "      <td>29.119639</td>\n",
       "    </tr>\n",
       "    <tr>\n",
       "      <th>5</th>\n",
       "      <td>125</td>\n",
       "      <td>55</td>\n",
       "      <td>30.555556</td>\n",
       "    </tr>\n",
       "    <tr>\n",
       "      <th>6</th>\n",
       "      <td>83</td>\n",
       "      <td>24</td>\n",
       "      <td>22.429907</td>\n",
       "    </tr>\n",
       "    <tr>\n",
       "      <th>7</th>\n",
       "      <td>35</td>\n",
       "      <td>7</td>\n",
       "      <td>16.666667</td>\n",
       "    </tr>\n",
       "    <tr>\n",
       "      <th>8</th>\n",
       "      <td>22</td>\n",
       "      <td>7</td>\n",
       "      <td>24.137931</td>\n",
       "    </tr>\n",
       "    <tr>\n",
       "      <th>9</th>\n",
       "      <td>23</td>\n",
       "      <td>4</td>\n",
       "      <td>14.814815</td>\n",
       "    </tr>\n",
       "    <tr>\n",
       "      <th>10</th>\n",
       "      <td>6</td>\n",
       "      <td>1</td>\n",
       "      <td>14.285714</td>\n",
       "    </tr>\n",
       "    <tr>\n",
       "      <th>11</th>\n",
       "      <td>9</td>\n",
       "      <td>2</td>\n",
       "      <td>18.181818</td>\n",
       "    </tr>\n",
       "    <tr>\n",
       "      <th>12</th>\n",
       "      <td>6</td>\n",
       "      <td>4</td>\n",
       "      <td>40.000000</td>\n",
       "    </tr>\n",
       "    <tr>\n",
       "      <th>13</th>\n",
       "      <td>4</td>\n",
       "      <td>2</td>\n",
       "      <td>33.333333</td>\n",
       "    </tr>\n",
       "    <tr>\n",
       "      <th>14</th>\n",
       "      <td>4</td>\n",
       "      <td>1</td>\n",
       "      <td>20.000000</td>\n",
       "    </tr>\n",
       "    <tr>\n",
       "      <th>15</th>\n",
       "      <td>1</td>\n",
       "      <td>0</td>\n",
       "      <td>0.000000</td>\n",
       "    </tr>\n",
       "    <tr>\n",
       "      <th>16</th>\n",
       "      <td>0</td>\n",
       "      <td>1</td>\n",
       "      <td>100.000000</td>\n",
       "    </tr>\n",
       "    <tr>\n",
       "      <th>17</th>\n",
       "      <td>2</td>\n",
       "      <td>0</td>\n",
       "      <td>0.000000</td>\n",
       "    </tr>\n",
       "    <tr>\n",
       "      <th>18</th>\n",
       "      <td>1</td>\n",
       "      <td>1</td>\n",
       "      <td>50.000000</td>\n",
       "    </tr>\n",
       "    <tr>\n",
       "      <th>19</th>\n",
       "      <td>1</td>\n",
       "      <td>0</td>\n",
       "      <td>0.000000</td>\n",
       "    </tr>\n",
       "    <tr>\n",
       "      <th>23</th>\n",
       "      <td>1</td>\n",
       "      <td>0</td>\n",
       "      <td>0.000000</td>\n",
       "    </tr>\n",
       "    <tr>\n",
       "      <th>25</th>\n",
       "      <td>1</td>\n",
       "      <td>0</td>\n",
       "      <td>0.000000</td>\n",
       "    </tr>\n",
       "  </tbody>\n",
       "</table>\n",
       "</div>"
      ],
      "text/plain": [
       "loan_default        0      1  pct_default\n",
       "overdue_accts                            \n",
       "0              162687  43224    20.991593\n",
       "1               15072   5484    26.678342\n",
       "2                3232   1278    28.337029\n",
       "3                 914    387    29.746349\n",
       "4                 314    129    29.119639\n",
       "5                 125     55    30.555556\n",
       "6                  83     24    22.429907\n",
       "7                  35      7    16.666667\n",
       "8                  22      7    24.137931\n",
       "9                  23      4    14.814815\n",
       "10                  6      1    14.285714\n",
       "11                  9      2    18.181818\n",
       "12                  6      4    40.000000\n",
       "13                  4      2    33.333333\n",
       "14                  4      1    20.000000\n",
       "15                  1      0     0.000000\n",
       "16                  0      1   100.000000\n",
       "17                  2      0     0.000000\n",
       "18                  1      1    50.000000\n",
       "19                  1      0     0.000000\n",
       "23                  1      0     0.000000\n",
       "25                  1      0     0.000000"
      ]
     },
     "execution_count": 94,
     "metadata": {},
     "output_type": "execute_result"
    }
   ],
   "source": [
    "no_Defaults = pd.crosstab(index=df['overdue_accts'], columns=df['loan_default'])\n",
    "no_Defaults['pct_default'] = (no_Defaults[1]/no_Defaults.sum(axis=1))*100\n",
    "no_Defaults"
   ]
  },
  {
   "cell_type": "markdown",
   "id": "a9ff703a",
   "metadata": {},
   "source": [
    "#### For first five rows we can see that the number of overdue accounts increases with percentage default."
   ]
  },
  {
   "cell_type": "markdown",
   "id": "b37b21dd",
   "metadata": {},
   "source": [
    "#### outstanding.bal"
   ]
  },
  {
   "cell_type": "code",
   "execution_count": 95,
   "id": "ccaaaa96",
   "metadata": {},
   "outputs": [
    {
     "data": {
      "text/plain": [
       "Index(['uniqueid', 'disbursed_amount', 'asset_cost', 'ltv', 'branch_id',\n",
       "       'supplier_id', 'manufacturer_id', 'current_pincode_id',\n",
       "       'employment_type', 'state_id', 'employee_code_id', 'mobileno_avl_flag',\n",
       "       'aadhar_flag', 'pan_flag', 'voterid_flag', 'driving_flag',\n",
       "       'passport_flag', 'perform_cns_score', 'perform_cns_score_description',\n",
       "       'new_accts_in_last_six_months', 'delinquent_accts_in_last_six_months',\n",
       "       'average_acct_age', 'credit_history_length', 'no_of_inquiries',\n",
       "       'loan_default', 'loan_default_text', 'age', 'perform_score',\n",
       "       'no_of_accts', 'active_accts', 'overdue_accts', 'outstanding_amount',\n",
       "       'sanctioned_amount', 'psdisbursed_amount', 'install_amt'],\n",
       "      dtype='object')"
      ]
     },
     "execution_count": 95,
     "metadata": {},
     "output_type": "execute_result"
    }
   ],
   "source": [
    "df.columns"
   ]
  },
  {
   "cell_type": "code",
   "execution_count": 96,
   "id": "6a339f16",
   "metadata": {},
   "outputs": [
    {
     "data": {
      "text/html": [
       "<div>\n",
       "<style scoped>\n",
       "    .dataframe tbody tr th:only-of-type {\n",
       "        vertical-align: middle;\n",
       "    }\n",
       "\n",
       "    .dataframe tbody tr th {\n",
       "        vertical-align: top;\n",
       "    }\n",
       "\n",
       "    .dataframe thead th {\n",
       "        text-align: right;\n",
       "    }\n",
       "</style>\n",
       "<table border=\"1\" class=\"dataframe\">\n",
       "  <thead>\n",
       "    <tr style=\"text-align: right;\">\n",
       "      <th></th>\n",
       "      <th>Counts</th>\n",
       "      <th>Percentage_of_counts</th>\n",
       "    </tr>\n",
       "  </thead>\n",
       "  <tbody>\n",
       "    <tr>\n",
       "      <th>0</th>\n",
       "      <td>140434</td>\n",
       "      <td>60.232293</td>\n",
       "    </tr>\n",
       "    <tr>\n",
       "      <th>400</th>\n",
       "      <td>121</td>\n",
       "      <td>0.051897</td>\n",
       "    </tr>\n",
       "    <tr>\n",
       "      <th>800</th>\n",
       "      <td>121</td>\n",
       "      <td>0.051897</td>\n",
       "    </tr>\n",
       "    <tr>\n",
       "      <th>30000</th>\n",
       "      <td>101</td>\n",
       "      <td>0.043319</td>\n",
       "    </tr>\n",
       "    <tr>\n",
       "      <th>50000</th>\n",
       "      <td>82</td>\n",
       "      <td>0.035170</td>\n",
       "    </tr>\n",
       "    <tr>\n",
       "      <th>...</th>\n",
       "      <td>...</td>\n",
       "      <td>...</td>\n",
       "    </tr>\n",
       "    <tr>\n",
       "      <th>191742</th>\n",
       "      <td>1</td>\n",
       "      <td>0.000429</td>\n",
       "    </tr>\n",
       "    <tr>\n",
       "      <th>21059</th>\n",
       "      <td>1</td>\n",
       "      <td>0.000429</td>\n",
       "    </tr>\n",
       "    <tr>\n",
       "      <th>709936</th>\n",
       "      <td>1</td>\n",
       "      <td>0.000429</td>\n",
       "    </tr>\n",
       "    <tr>\n",
       "      <th>206858</th>\n",
       "      <td>1</td>\n",
       "      <td>0.000429</td>\n",
       "    </tr>\n",
       "    <tr>\n",
       "      <th>43194372</th>\n",
       "      <td>1</td>\n",
       "      <td>0.000429</td>\n",
       "    </tr>\n",
       "  </tbody>\n",
       "</table>\n",
       "<p>72483 rows × 2 columns</p>\n",
       "</div>"
      ],
      "text/plain": [
       "          Counts  Percentage_of_counts\n",
       "0         140434             60.232293\n",
       "400          121              0.051897\n",
       "800          121              0.051897\n",
       "30000        101              0.043319\n",
       "50000         82              0.035170\n",
       "...          ...                   ...\n",
       "191742         1              0.000429\n",
       "21059          1              0.000429\n",
       "709936         1              0.000429\n",
       "206858         1              0.000429\n",
       "43194372       1              0.000429\n",
       "\n",
       "[72483 rows x 2 columns]"
      ]
     },
     "execution_count": 96,
     "metadata": {},
     "output_type": "execute_result"
    }
   ],
   "source": [
    "#outstanding.bal\n",
    "Counts2 = df['outstanding_amount'].value_counts()\n",
    "Percentage_of_counts2 = df['outstanding_amount'].value_counts(normalize=True)*100\n",
    "pd.DataFrame({\"Counts\":Counts2,\"Percentage_of_counts\":Percentage_of_counts2})"
   ]
  },
  {
   "cell_type": "markdown",
   "id": "72cb94e3",
   "metadata": {},
   "source": [
    "#### 60% have no outstanding balance."
   ]
  },
  {
   "cell_type": "markdown",
   "id": "1d71922f",
   "metadata": {},
   "source": [
    "#### SANCTIONED.AMOUNT"
   ]
  },
  {
   "cell_type": "code",
   "execution_count": 97,
   "id": "7b4dcc14",
   "metadata": {},
   "outputs": [
    {
     "data": {
      "text/plain": [
       "Index(['uniqueid', 'disbursed_amount', 'asset_cost', 'ltv', 'branch_id',\n",
       "       'supplier_id', 'manufacturer_id', 'current_pincode_id',\n",
       "       'employment_type', 'state_id', 'employee_code_id', 'mobileno_avl_flag',\n",
       "       'aadhar_flag', 'pan_flag', 'voterid_flag', 'driving_flag',\n",
       "       'passport_flag', 'perform_cns_score', 'perform_cns_score_description',\n",
       "       'new_accts_in_last_six_months', 'delinquent_accts_in_last_six_months',\n",
       "       'average_acct_age', 'credit_history_length', 'no_of_inquiries',\n",
       "       'loan_default', 'loan_default_text', 'age', 'perform_score',\n",
       "       'no_of_accts', 'active_accts', 'overdue_accts', 'outstanding_amount',\n",
       "       'sanctioned_amount', 'psdisbursed_amount', 'install_amt'],\n",
       "      dtype='object')"
      ]
     },
     "execution_count": 97,
     "metadata": {},
     "output_type": "execute_result"
    }
   ],
   "source": [
    "df.columns"
   ]
  },
  {
   "cell_type": "code",
   "execution_count": 98,
   "id": "0aa841c0",
   "metadata": {},
   "outputs": [
    {
     "data": {
      "text/html": [
       "<div>\n",
       "<style scoped>\n",
       "    .dataframe tbody tr th:only-of-type {\n",
       "        vertical-align: middle;\n",
       "    }\n",
       "\n",
       "    .dataframe tbody tr th {\n",
       "        vertical-align: top;\n",
       "    }\n",
       "\n",
       "    .dataframe thead th {\n",
       "        text-align: right;\n",
       "    }\n",
       "</style>\n",
       "<table border=\"1\" class=\"dataframe\">\n",
       "  <thead>\n",
       "    <tr style=\"text-align: right;\">\n",
       "      <th></th>\n",
       "      <th>Counts</th>\n",
       "      <th>Percentage_of_counts</th>\n",
       "    </tr>\n",
       "  </thead>\n",
       "  <tbody>\n",
       "    <tr>\n",
       "      <th>0</th>\n",
       "      <td>136818</td>\n",
       "      <td>58.681387</td>\n",
       "    </tr>\n",
       "    <tr>\n",
       "      <th>50000</th>\n",
       "      <td>1508</td>\n",
       "      <td>0.646783</td>\n",
       "    </tr>\n",
       "    <tr>\n",
       "      <th>30000</th>\n",
       "      <td>1448</td>\n",
       "      <td>0.621049</td>\n",
       "    </tr>\n",
       "    <tr>\n",
       "      <th>100000</th>\n",
       "      <td>977</td>\n",
       "      <td>0.419036</td>\n",
       "    </tr>\n",
       "    <tr>\n",
       "      <th>25000</th>\n",
       "      <td>949</td>\n",
       "      <td>0.407027</td>\n",
       "    </tr>\n",
       "    <tr>\n",
       "      <th>...</th>\n",
       "      <td>...</td>\n",
       "      <td>...</td>\n",
       "    </tr>\n",
       "    <tr>\n",
       "      <th>64499</th>\n",
       "      <td>1</td>\n",
       "      <td>0.000429</td>\n",
       "    </tr>\n",
       "    <tr>\n",
       "      <th>156629</th>\n",
       "      <td>1</td>\n",
       "      <td>0.000429</td>\n",
       "    </tr>\n",
       "    <tr>\n",
       "      <th>31835</th>\n",
       "      <td>1</td>\n",
       "      <td>0.000429</td>\n",
       "    </tr>\n",
       "    <tr>\n",
       "      <th>362087</th>\n",
       "      <td>1</td>\n",
       "      <td>0.000429</td>\n",
       "    </tr>\n",
       "    <tr>\n",
       "      <th>92622816</th>\n",
       "      <td>1</td>\n",
       "      <td>0.000429</td>\n",
       "    </tr>\n",
       "  </tbody>\n",
       "</table>\n",
       "<p>45367 rows × 2 columns</p>\n",
       "</div>"
      ],
      "text/plain": [
       "          Counts  Percentage_of_counts\n",
       "0         136818             58.681387\n",
       "50000       1508              0.646783\n",
       "30000       1448              0.621049\n",
       "100000       977              0.419036\n",
       "25000        949              0.407027\n",
       "...          ...                   ...\n",
       "64499          1              0.000429\n",
       "156629         1              0.000429\n",
       "31835          1              0.000429\n",
       "362087         1              0.000429\n",
       "92622816       1              0.000429\n",
       "\n",
       "[45367 rows x 2 columns]"
      ]
     },
     "execution_count": 98,
     "metadata": {},
     "output_type": "execute_result"
    }
   ],
   "source": [
    "#SANCTIONED.AMOUNT\n",
    "Counts3 = df['sanctioned_amount'].value_counts()\n",
    "Percentage_of_counts3 = df['sanctioned_amount'].value_counts(normalize=True)*100\n",
    "pd.DataFrame({\"Counts\":Counts3,\"Percentage_of_counts\":Percentage_of_counts3})"
   ]
  },
  {
   "cell_type": "markdown",
   "id": "b12736fb",
   "metadata": {},
   "source": [
    "#### for 58% of accounts, no amount was sanctioned."
   ]
  },
  {
   "cell_type": "markdown",
   "id": "85a821f5",
   "metadata": {},
   "source": [
    "#### Disbursed_amount"
   ]
  },
  {
   "cell_type": "code",
   "execution_count": 99,
   "id": "25839963",
   "metadata": {},
   "outputs": [
    {
     "data": {
      "text/html": [
       "<div>\n",
       "<style scoped>\n",
       "    .dataframe tbody tr th:only-of-type {\n",
       "        vertical-align: middle;\n",
       "    }\n",
       "\n",
       "    .dataframe tbody tr th {\n",
       "        vertical-align: top;\n",
       "    }\n",
       "\n",
       "    .dataframe thead th {\n",
       "        text-align: right;\n",
       "    }\n",
       "</style>\n",
       "<table border=\"1\" class=\"dataframe\">\n",
       "  <thead>\n",
       "    <tr style=\"text-align: right;\">\n",
       "      <th></th>\n",
       "      <th>Counts</th>\n",
       "      <th>Percentage_of_counts</th>\n",
       "    </tr>\n",
       "  </thead>\n",
       "  <tbody>\n",
       "    <tr>\n",
       "      <th>48349</th>\n",
       "      <td>2140</td>\n",
       "      <td>0.917848</td>\n",
       "    </tr>\n",
       "    <tr>\n",
       "      <th>53303</th>\n",
       "      <td>2125</td>\n",
       "      <td>0.911415</td>\n",
       "    </tr>\n",
       "    <tr>\n",
       "      <th>51303</th>\n",
       "      <td>1992</td>\n",
       "      <td>0.854371</td>\n",
       "    </tr>\n",
       "    <tr>\n",
       "      <th>50303</th>\n",
       "      <td>1960</td>\n",
       "      <td>0.840646</td>\n",
       "    </tr>\n",
       "    <tr>\n",
       "      <th>55259</th>\n",
       "      <td>1887</td>\n",
       "      <td>0.809336</td>\n",
       "    </tr>\n",
       "    <tr>\n",
       "      <th>...</th>\n",
       "      <td>...</td>\n",
       "      <td>...</td>\n",
       "    </tr>\n",
       "    <tr>\n",
       "      <th>54656</th>\n",
       "      <td>1</td>\n",
       "      <td>0.000429</td>\n",
       "    </tr>\n",
       "    <tr>\n",
       "      <th>28706</th>\n",
       "      <td>1</td>\n",
       "      <td>0.000429</td>\n",
       "    </tr>\n",
       "    <tr>\n",
       "      <th>95840</th>\n",
       "      <td>1</td>\n",
       "      <td>0.000429</td>\n",
       "    </tr>\n",
       "    <tr>\n",
       "      <th>25679</th>\n",
       "      <td>1</td>\n",
       "      <td>0.000429</td>\n",
       "    </tr>\n",
       "    <tr>\n",
       "      <th>69194</th>\n",
       "      <td>1</td>\n",
       "      <td>0.000429</td>\n",
       "    </tr>\n",
       "  </tbody>\n",
       "</table>\n",
       "<p>24565 rows × 2 columns</p>\n",
       "</div>"
      ],
      "text/plain": [
       "       Counts  Percentage_of_counts\n",
       "48349    2140              0.917848\n",
       "53303    2125              0.911415\n",
       "51303    1992              0.854371\n",
       "50303    1960              0.840646\n",
       "55259    1887              0.809336\n",
       "...       ...                   ...\n",
       "54656       1              0.000429\n",
       "28706       1              0.000429\n",
       "95840       1              0.000429\n",
       "25679       1              0.000429\n",
       "69194       1              0.000429\n",
       "\n",
       "[24565 rows x 2 columns]"
      ]
     },
     "execution_count": 99,
     "metadata": {},
     "output_type": "execute_result"
    }
   ],
   "source": [
    "#DISBURSED.AMOUNT\n",
    "Counts4 = df['disbursed_amount'].value_counts()\n",
    "Percentage_of_counts4 = df['disbursed_amount'].value_counts(normalize=True)*100\n",
    "pd.DataFrame({\"Counts\":Counts4,\"Percentage_of_counts\":Percentage_of_counts4})"
   ]
  },
  {
   "cell_type": "markdown",
   "id": "13d3914b",
   "metadata": {},
   "source": [
    "#### for 58% of accounts, no amount was sanctioned."
   ]
  },
  {
   "cell_type": "code",
   "execution_count": 100,
   "id": "765ae0de",
   "metadata": {},
   "outputs": [
    {
     "data": {
      "text/plain": [
       "Index(['uniqueid', 'disbursed_amount', 'asset_cost', 'ltv', 'branch_id',\n",
       "       'supplier_id', 'manufacturer_id', 'current_pincode_id',\n",
       "       'employment_type', 'state_id', 'employee_code_id', 'mobileno_avl_flag',\n",
       "       'aadhar_flag', 'pan_flag', 'voterid_flag', 'driving_flag',\n",
       "       'passport_flag', 'perform_cns_score', 'perform_cns_score_description',\n",
       "       'new_accts_in_last_six_months', 'delinquent_accts_in_last_six_months',\n",
       "       'average_acct_age', 'credit_history_length', 'no_of_inquiries',\n",
       "       'loan_default', 'loan_default_text', 'age', 'perform_score',\n",
       "       'no_of_accts', 'active_accts', 'overdue_accts', 'outstanding_amount',\n",
       "       'sanctioned_amount', 'psdisbursed_amount', 'install_amt'],\n",
       "      dtype='object')"
      ]
     },
     "execution_count": 100,
     "metadata": {},
     "output_type": "execute_result"
    }
   ],
   "source": [
    "df.columns"
   ]
  },
  {
   "cell_type": "markdown",
   "id": "5c11a8ee",
   "metadata": {},
   "source": [
    "#### INSTALl.AMT"
   ]
  },
  {
   "cell_type": "code",
   "execution_count": 101,
   "id": "ce4325e2",
   "metadata": {},
   "outputs": [
    {
     "data": {
      "text/plain": [
       "Index(['uniqueid', 'disbursed_amount', 'asset_cost', 'ltv', 'branch_id',\n",
       "       'supplier_id', 'manufacturer_id', 'current_pincode_id',\n",
       "       'employment_type', 'state_id', 'employee_code_id', 'mobileno_avl_flag',\n",
       "       'aadhar_flag', 'pan_flag', 'voterid_flag', 'driving_flag',\n",
       "       'passport_flag', 'perform_cns_score', 'perform_cns_score_description',\n",
       "       'new_accts_in_last_six_months', 'delinquent_accts_in_last_six_months',\n",
       "       'average_acct_age', 'credit_history_length', 'no_of_inquiries',\n",
       "       'loan_default', 'loan_default_text', 'age', 'perform_score',\n",
       "       'no_of_accts', 'active_accts', 'overdue_accts', 'outstanding_amount',\n",
       "       'sanctioned_amount', 'psdisbursed_amount', 'install_amt'],\n",
       "      dtype='object')"
      ]
     },
     "execution_count": 101,
     "metadata": {},
     "output_type": "execute_result"
    }
   ],
   "source": [
    "df.columns"
   ]
  },
  {
   "cell_type": "code",
   "execution_count": 102,
   "id": "c0aefc9d",
   "metadata": {},
   "outputs": [
    {
     "data": {
      "text/html": [
       "<div>\n",
       "<style scoped>\n",
       "    .dataframe tbody tr th:only-of-type {\n",
       "        vertical-align: middle;\n",
       "    }\n",
       "\n",
       "    .dataframe tbody tr th {\n",
       "        vertical-align: top;\n",
       "    }\n",
       "\n",
       "    .dataframe thead th {\n",
       "        text-align: right;\n",
       "    }\n",
       "</style>\n",
       "<table border=\"1\" class=\"dataframe\">\n",
       "  <thead>\n",
       "    <tr style=\"text-align: right;\">\n",
       "      <th></th>\n",
       "      <th>count</th>\n",
       "      <th>Percentage_of_counts</th>\n",
       "    </tr>\n",
       "  </thead>\n",
       "  <tbody>\n",
       "    <tr>\n",
       "      <th>0</th>\n",
       "      <td>158556</td>\n",
       "      <td>68.004838</td>\n",
       "    </tr>\n",
       "    <tr>\n",
       "      <th>1620</th>\n",
       "      <td>292</td>\n",
       "      <td>0.125239</td>\n",
       "    </tr>\n",
       "    <tr>\n",
       "      <th>1500</th>\n",
       "      <td>157</td>\n",
       "      <td>0.067337</td>\n",
       "    </tr>\n",
       "    <tr>\n",
       "      <th>1600</th>\n",
       "      <td>145</td>\n",
       "      <td>0.062191</td>\n",
       "    </tr>\n",
       "    <tr>\n",
       "      <th>2000</th>\n",
       "      <td>140</td>\n",
       "      <td>0.060046</td>\n",
       "    </tr>\n",
       "    <tr>\n",
       "      <th>...</th>\n",
       "      <td>...</td>\n",
       "      <td>...</td>\n",
       "    </tr>\n",
       "    <tr>\n",
       "      <th>144062</th>\n",
       "      <td>1</td>\n",
       "      <td>0.000429</td>\n",
       "    </tr>\n",
       "    <tr>\n",
       "      <th>48280</th>\n",
       "      <td>1</td>\n",
       "      <td>0.000429</td>\n",
       "    </tr>\n",
       "    <tr>\n",
       "      <th>19203</th>\n",
       "      <td>1</td>\n",
       "      <td>0.000429</td>\n",
       "    </tr>\n",
       "    <tr>\n",
       "      <th>628116</th>\n",
       "      <td>1</td>\n",
       "      <td>0.000429</td>\n",
       "    </tr>\n",
       "    <tr>\n",
       "      <th>293886</th>\n",
       "      <td>1</td>\n",
       "      <td>0.000429</td>\n",
       "    </tr>\n",
       "  </tbody>\n",
       "</table>\n",
       "<p>28540 rows × 2 columns</p>\n",
       "</div>"
      ],
      "text/plain": [
       "         count  Percentage_of_counts\n",
       "0       158556             68.004838\n",
       "1620       292              0.125239\n",
       "1500       157              0.067337\n",
       "1600       145              0.062191\n",
       "2000       140              0.060046\n",
       "...        ...                   ...\n",
       "144062       1              0.000429\n",
       "48280        1              0.000429\n",
       "19203        1              0.000429\n",
       "628116       1              0.000429\n",
       "293886       1              0.000429\n",
       "\n",
       "[28540 rows x 2 columns]"
      ]
     },
     "execution_count": 102,
     "metadata": {},
     "output_type": "execute_result"
    }
   ],
   "source": [
    "count5=df['install_amt'].value_counts()\n",
    "Percentage_of_counts5=df['install_amt'].value_counts(normalize=True)*100\n",
    "pd.DataFrame({'count':count5,'Percentage_of_counts':Percentage_of_counts5})"
   ]
  },
  {
   "cell_type": "markdown",
   "id": "a43b9f35",
   "metadata": {},
   "source": [
    "#### Around 68 percent of data do not have any installment amount to pay"
   ]
  },
  {
   "cell_type": "markdown",
   "id": "1bc9c39a",
   "metadata": {},
   "source": [
    "#### Is there a difference between the sanctioned and disbursed amount of primary and secondary loans? Study the difference by providing appropriate statistics and graphs.\n"
   ]
  },
  {
   "cell_type": "code",
   "execution_count": 103,
   "id": "d444ac54",
   "metadata": {},
   "outputs": [
    {
     "data": {
      "text/plain": [
       "Index(['uniqueid', 'disbursed_amount', 'asset_cost', 'ltv', 'branch_id',\n",
       "       'supplier_id', 'manufacturer_id', 'current_pincode_id',\n",
       "       'employment_type', 'state_id', 'employee_code_id', 'mobileno_avl_flag',\n",
       "       'aadhar_flag', 'pan_flag', 'voterid_flag', 'driving_flag',\n",
       "       'passport_flag', 'perform_cns_score', 'perform_cns_score_description',\n",
       "       'new_accts_in_last_six_months', 'delinquent_accts_in_last_six_months',\n",
       "       'average_acct_age', 'credit_history_length', 'no_of_inquiries',\n",
       "       'loan_default', 'loan_default_text', 'age', 'perform_score',\n",
       "       'no_of_accts', 'active_accts', 'overdue_accts', 'outstanding_amount',\n",
       "       'sanctioned_amount', 'psdisbursed_amount', 'install_amt'],\n",
       "      dtype='object')"
      ]
     },
     "execution_count": 103,
     "metadata": {},
     "output_type": "execute_result"
    }
   ],
   "source": [
    "df.columns"
   ]
  },
  {
   "cell_type": "code",
   "execution_count": 104,
   "id": "0afe37c2",
   "metadata": {},
   "outputs": [],
   "source": [
    "df3=df[['disbursed_amount', 'asset_cost', 'ltv',  'perform_cns_score', 'perform_cns_score_description',\n",
    "       'new_accts_in_last_six_months', 'delinquent_accts_in_last_six_months',\n",
    "       'average_acct_age', 'credit_history_length', 'no_of_inquiries',\n",
    "       'loan_default', 'loan_default_text', 'age', 'no_of_accts', 'active_accts', 'overdue_accts', 'outstanding_amount',\n",
    "       'sanctioned_amount', 'psdisbursed_amount', 'install_amt']]"
   ]
  },
  {
   "cell_type": "code",
   "execution_count": null,
   "id": "d328528c",
   "metadata": {},
   "outputs": [],
   "source": []
  },
  {
   "cell_type": "code",
   "execution_count": 105,
   "id": "d5da7597",
   "metadata": {},
   "outputs": [
    {
     "data": {
      "image/png": "[encoded data removed]",
      "text/plain": [
       "<Figure size 1008x1008 with 2 Axes>"
      ]
     },
     "metadata": {
      "needs_background": "light"
     },
     "output_type": "display_data"
    }
   ],
   "source": [
    "plt.figure(figsize=(14,14))\n",
    "sns.heatmap(df3.corr(),annot= True,cmap=\"Blues\")\n",
    "plt.show()"
   ]
  },
  {
   "cell_type": "markdown",
   "id": "38c097b7",
   "metadata": {},
   "source": [
    "From the above correlation heatmap, we can see that some of the features are highly correlated(>0.70) with each other.\n",
    "\n",
    "#--- disbursed amount and asset cost - 0.75\n",
    "#--- no_of_accts and active_accts - 0.76\n",
    "#--- sanctioned_amount and psdisbursed_amount - 1"
   ]
  },
  {
   "cell_type": "code",
   "execution_count": 106,
   "id": "190f5d36",
   "metadata": {},
   "outputs": [
    {
     "data": {
      "text/plain": [
       "count    233154.000000\n",
       "mean      54356.993528\n",
       "std       12971.314171\n",
       "min       13320.000000\n",
       "25%       47145.000000\n",
       "50%       53803.000000\n",
       "75%       60413.000000\n",
       "max      990572.000000\n",
       "Name: disbursed_amount, dtype: float64"
      ]
     },
     "execution_count": 106,
     "metadata": {},
     "output_type": "execute_result"
    }
   ],
   "source": [
    "df['disbursed_amount'].describe()"
   ]
  },
  {
   "cell_type": "code",
   "execution_count": 107,
   "id": "18c24d40",
   "metadata": {},
   "outputs": [
    {
     "data": {
      "text/plain": [
       "count    2.331540e+05\n",
       "mean     2.257998e+05\n",
       "std      2.384011e+06\n",
       "min      0.000000e+00\n",
       "25%      0.000000e+00\n",
       "50%      0.000000e+00\n",
       "75%      6.564975e+04\n",
       "max      1.000000e+09\n",
       "Name: sanctioned_amount, dtype: float64"
      ]
     },
     "execution_count": 107,
     "metadata": {},
     "output_type": "execute_result"
    }
   ],
   "source": [
    "df['sanctioned_amount'].describe()"
   ]
  },
  {
   "cell_type": "code",
   "execution_count": 108,
   "id": "7a820544",
   "metadata": {},
   "outputs": [
    {
     "data": {
      "image/png": "[encoded data removed]",
      "text/plain": [
       "<Figure size 432x288 with 1 Axes>"
      ]
     },
     "metadata": {
      "needs_background": "light"
     },
     "output_type": "display_data"
    }
   ],
   "source": [
    "x=df['disbursed_amount']\n",
    "y=df['disbursed_amount']\n",
    "plt.scatter(x,y)\n",
    "plt.show()"
   ]
  },
  {
   "cell_type": "markdown",
   "id": "062235c4",
   "metadata": {},
   "source": [
    "#### There is very very slight difference in x and y. it has been seen very slight difference in the sactioned amount and disbursed amount.\n"
   ]
  },
  {
   "cell_type": "markdown",
   "id": "175dd501",
   "metadata": {},
   "source": [
    "### Do customer who make higher number of enquiries end up being higher risk candidates? "
   ]
  },
  {
   "cell_type": "code",
   "execution_count": 109,
   "id": "81937500",
   "metadata": {},
   "outputs": [
    {
     "data": {
      "text/plain": [
       "Index(['uniqueid', 'disbursed_amount', 'asset_cost', 'ltv', 'branch_id',\n",
       "       'supplier_id', 'manufacturer_id', 'current_pincode_id',\n",
       "       'employment_type', 'state_id', 'employee_code_id', 'mobileno_avl_flag',\n",
       "       'aadhar_flag', 'pan_flag', 'voterid_flag', 'driving_flag',\n",
       "       'passport_flag', 'perform_cns_score', 'perform_cns_score_description',\n",
       "       'new_accts_in_last_six_months', 'delinquent_accts_in_last_six_months',\n",
       "       'average_acct_age', 'credit_history_length', 'no_of_inquiries',\n",
       "       'loan_default', 'loan_default_text', 'age', 'perform_score',\n",
       "       'no_of_accts', 'active_accts', 'overdue_accts', 'outstanding_amount',\n",
       "       'sanctioned_amount', 'psdisbursed_amount', 'install_amt'],\n",
       "      dtype='object')"
      ]
     },
     "execution_count": 109,
     "metadata": {},
     "output_type": "execute_result"
    }
   ],
   "source": [
    "df.columns"
   ]
  },
  {
   "cell_type": "code",
   "execution_count": 110,
   "id": "a8398c3d",
   "metadata": {},
   "outputs": [
    {
     "data": {
      "text/plain": [
       "0     201961\n",
       "1      22285\n",
       "2       5409\n",
       "3       1767\n",
       "4        760\n",
       "5        343\n",
       "6        239\n",
       "7        135\n",
       "8        105\n",
       "9         44\n",
       "10        34\n",
       "11        15\n",
       "12        14\n",
       "14         8\n",
       "15         7\n",
       "19         6\n",
       "13         6\n",
       "17         4\n",
       "18         4\n",
       "16         3\n",
       "28         1\n",
       "20         1\n",
       "23         1\n",
       "36         1\n",
       "22         1\n",
       "Name: no_of_inquiries, dtype: int64"
      ]
     },
     "execution_count": 110,
     "metadata": {},
     "output_type": "execute_result"
    }
   ],
   "source": [
    "df['no_of_inquiries'].value_counts()"
   ]
  },
  {
   "cell_type": "code",
   "execution_count": 111,
   "id": "4db6c374",
   "metadata": {},
   "outputs": [
    {
     "data": {
      "text/html": [
       "<div>\n",
       "<style scoped>\n",
       "    .dataframe tbody tr th:only-of-type {\n",
       "        vertical-align: middle;\n",
       "    }\n",
       "\n",
       "    .dataframe tbody tr th {\n",
       "        vertical-align: top;\n",
       "    }\n",
       "\n",
       "    .dataframe thead th {\n",
       "        text-align: right;\n",
       "    }\n",
       "</style>\n",
       "<table border=\"1\" class=\"dataframe\">\n",
       "  <thead>\n",
       "    <tr style=\"text-align: right;\">\n",
       "      <th></th>\n",
       "      <th>no_of_inquiries</th>\n",
       "    </tr>\n",
       "    <tr>\n",
       "      <th>loan_default</th>\n",
       "      <th></th>\n",
       "    </tr>\n",
       "  </thead>\n",
       "  <tbody>\n",
       "    <tr>\n",
       "      <th>0</th>\n",
       "      <td>34750</td>\n",
       "    </tr>\n",
       "    <tr>\n",
       "      <th>1</th>\n",
       "      <td>13423</td>\n",
       "    </tr>\n",
       "  </tbody>\n",
       "</table>\n",
       "</div>"
      ],
      "text/plain": [
       "              no_of_inquiries\n",
       "loan_default                 \n",
       "0                       34750\n",
       "1                       13423"
      ]
     },
     "execution_count": 111,
     "metadata": {},
     "output_type": "execute_result"
    }
   ],
   "source": [
    "df[['no_of_inquiries','loan_default']].groupby('loan_default').sum()"
   ]
  },
  {
   "cell_type": "markdown",
   "id": "560cc283",
   "metadata": {},
   "source": [
    "#### the number of enquires is more for non defaulters.hence higher number of enquiries end up being no risk candidates"
   ]
  },
  {
   "cell_type": "code",
   "execution_count": 112,
   "id": "6f21ed28",
   "metadata": {},
   "outputs": [
    {
     "data": {
      "text/html": [
       "<div>\n",
       "<style scoped>\n",
       "    .dataframe tbody tr th:only-of-type {\n",
       "        vertical-align: middle;\n",
       "    }\n",
       "\n",
       "    .dataframe tbody tr th {\n",
       "        vertical-align: top;\n",
       "    }\n",
       "\n",
       "    .dataframe thead th {\n",
       "        text-align: right;\n",
       "    }\n",
       "</style>\n",
       "<table border=\"1\" class=\"dataframe\">\n",
       "  <thead>\n",
       "    <tr style=\"text-align: right;\">\n",
       "      <th>loan_default</th>\n",
       "      <th>0</th>\n",
       "      <th>1</th>\n",
       "      <th>pct_default</th>\n",
       "    </tr>\n",
       "    <tr>\n",
       "      <th>no_of_inquiries</th>\n",
       "      <th></th>\n",
       "      <th></th>\n",
       "      <th></th>\n",
       "    </tr>\n",
       "  </thead>\n",
       "  <tbody>\n",
       "    <tr>\n",
       "      <th>0</th>\n",
       "      <td>159404</td>\n",
       "      <td>42557</td>\n",
       "      <td>21.071890</td>\n",
       "    </tr>\n",
       "    <tr>\n",
       "      <th>1</th>\n",
       "      <td>16844</td>\n",
       "      <td>5441</td>\n",
       "      <td>24.415526</td>\n",
       "    </tr>\n",
       "    <tr>\n",
       "      <th>2</th>\n",
       "      <td>3918</td>\n",
       "      <td>1491</td>\n",
       "      <td>27.565169</td>\n",
       "    </tr>\n",
       "    <tr>\n",
       "      <th>3</th>\n",
       "      <td>1250</td>\n",
       "      <td>517</td>\n",
       "      <td>29.258630</td>\n",
       "    </tr>\n",
       "    <tr>\n",
       "      <th>4</th>\n",
       "      <td>526</td>\n",
       "      <td>234</td>\n",
       "      <td>30.789474</td>\n",
       "    </tr>\n",
       "    <tr>\n",
       "      <th>5</th>\n",
       "      <td>212</td>\n",
       "      <td>131</td>\n",
       "      <td>38.192420</td>\n",
       "    </tr>\n",
       "    <tr>\n",
       "      <th>6</th>\n",
       "      <td>148</td>\n",
       "      <td>91</td>\n",
       "      <td>38.075314</td>\n",
       "    </tr>\n",
       "    <tr>\n",
       "      <th>7</th>\n",
       "      <td>80</td>\n",
       "      <td>55</td>\n",
       "      <td>40.740741</td>\n",
       "    </tr>\n",
       "    <tr>\n",
       "      <th>8</th>\n",
       "      <td>61</td>\n",
       "      <td>44</td>\n",
       "      <td>41.904762</td>\n",
       "    </tr>\n",
       "    <tr>\n",
       "      <th>9</th>\n",
       "      <td>30</td>\n",
       "      <td>14</td>\n",
       "      <td>31.818182</td>\n",
       "    </tr>\n",
       "    <tr>\n",
       "      <th>10</th>\n",
       "      <td>23</td>\n",
       "      <td>11</td>\n",
       "      <td>32.352941</td>\n",
       "    </tr>\n",
       "    <tr>\n",
       "      <th>11</th>\n",
       "      <td>8</td>\n",
       "      <td>7</td>\n",
       "      <td>46.666667</td>\n",
       "    </tr>\n",
       "    <tr>\n",
       "      <th>12</th>\n",
       "      <td>10</td>\n",
       "      <td>4</td>\n",
       "      <td>28.571429</td>\n",
       "    </tr>\n",
       "    <tr>\n",
       "      <th>13</th>\n",
       "      <td>2</td>\n",
       "      <td>4</td>\n",
       "      <td>66.666667</td>\n",
       "    </tr>\n",
       "    <tr>\n",
       "      <th>14</th>\n",
       "      <td>6</td>\n",
       "      <td>2</td>\n",
       "      <td>25.000000</td>\n",
       "    </tr>\n",
       "    <tr>\n",
       "      <th>15</th>\n",
       "      <td>3</td>\n",
       "      <td>4</td>\n",
       "      <td>57.142857</td>\n",
       "    </tr>\n",
       "    <tr>\n",
       "      <th>16</th>\n",
       "      <td>3</td>\n",
       "      <td>0</td>\n",
       "      <td>0.000000</td>\n",
       "    </tr>\n",
       "    <tr>\n",
       "      <th>17</th>\n",
       "      <td>4</td>\n",
       "      <td>0</td>\n",
       "      <td>0.000000</td>\n",
       "    </tr>\n",
       "    <tr>\n",
       "      <th>18</th>\n",
       "      <td>2</td>\n",
       "      <td>2</td>\n",
       "      <td>50.000000</td>\n",
       "    </tr>\n",
       "    <tr>\n",
       "      <th>19</th>\n",
       "      <td>4</td>\n",
       "      <td>2</td>\n",
       "      <td>33.333333</td>\n",
       "    </tr>\n",
       "    <tr>\n",
       "      <th>20</th>\n",
       "      <td>1</td>\n",
       "      <td>0</td>\n",
       "      <td>0.000000</td>\n",
       "    </tr>\n",
       "    <tr>\n",
       "      <th>22</th>\n",
       "      <td>1</td>\n",
       "      <td>0</td>\n",
       "      <td>0.000000</td>\n",
       "    </tr>\n",
       "    <tr>\n",
       "      <th>23</th>\n",
       "      <td>1</td>\n",
       "      <td>0</td>\n",
       "      <td>0.000000</td>\n",
       "    </tr>\n",
       "    <tr>\n",
       "      <th>28</th>\n",
       "      <td>1</td>\n",
       "      <td>0</td>\n",
       "      <td>0.000000</td>\n",
       "    </tr>\n",
       "    <tr>\n",
       "      <th>36</th>\n",
       "      <td>1</td>\n",
       "      <td>0</td>\n",
       "      <td>0.000000</td>\n",
       "    </tr>\n",
       "  </tbody>\n",
       "</table>\n",
       "</div>"
      ],
      "text/plain": [
       "loan_default          0      1  pct_default\n",
       "no_of_inquiries                            \n",
       "0                159404  42557    21.071890\n",
       "1                 16844   5441    24.415526\n",
       "2                  3918   1491    27.565169\n",
       "3                  1250    517    29.258630\n",
       "4                   526    234    30.789474\n",
       "5                   212    131    38.192420\n",
       "6                   148     91    38.075314\n",
       "7                    80     55    40.740741\n",
       "8                    61     44    41.904762\n",
       "9                    30     14    31.818182\n",
       "10                   23     11    32.352941\n",
       "11                    8      7    46.666667\n",
       "12                   10      4    28.571429\n",
       "13                    2      4    66.666667\n",
       "14                    6      2    25.000000\n",
       "15                    3      4    57.142857\n",
       "16                    3      0     0.000000\n",
       "17                    4      0     0.000000\n",
       "18                    2      2    50.000000\n",
       "19                    4      2    33.333333\n",
       "20                    1      0     0.000000\n",
       "22                    1      0     0.000000\n",
       "23                    1      0     0.000000\n",
       "28                    1      0     0.000000\n",
       "36                    1      0     0.000000"
      ]
     },
     "execution_count": 112,
     "metadata": {},
     "output_type": "execute_result"
    }
   ],
   "source": [
    "no_Defaults0 = pd.crosstab(index=df['no_of_inquiries'], columns=df['loan_default'])\n",
    "no_Defaults0['pct_default'] = (no_Defaults0[1]/no_Defaults0.sum(axis=1))*100\n",
    "no_Defaults0"
   ]
  },
  {
   "cell_type": "markdown",
   "id": "14bbe03c",
   "metadata": {},
   "source": [
    "#### Here, except for few cases, as the number of enquires increase, there is an increase in the pct of default."
   ]
  },
  {
   "cell_type": "markdown",
   "id": "63c9e421",
   "metadata": {},
   "source": [
    "### Is credit history, that is new loans in last six months, loans defaulted in last six months, time since first loan, etc., a significant factor in estimating probability of loan defaulters?"
   ]
  },
  {
   "cell_type": "code",
   "execution_count": 113,
   "id": "c809727b",
   "metadata": {},
   "outputs": [
    {
     "data": {
      "text/plain": [
       "Index(['uniqueid', 'disbursed_amount', 'asset_cost', 'ltv', 'branch_id',\n",
       "       'supplier_id', 'manufacturer_id', 'current_pincode_id',\n",
       "       'employment_type', 'state_id', 'employee_code_id', 'mobileno_avl_flag',\n",
       "       'aadhar_flag', 'pan_flag', 'voterid_flag', 'driving_flag',\n",
       "       'passport_flag', 'perform_cns_score', 'perform_cns_score_description',\n",
       "       'new_accts_in_last_six_months', 'delinquent_accts_in_last_six_months',\n",
       "       'average_acct_age', 'credit_history_length', 'no_of_inquiries',\n",
       "       'loan_default', 'loan_default_text', 'age', 'perform_score',\n",
       "       'no_of_accts', 'active_accts', 'overdue_accts', 'outstanding_amount',\n",
       "       'sanctioned_amount', 'psdisbursed_amount', 'install_amt'],\n",
       "      dtype='object')"
      ]
     },
     "execution_count": 113,
     "metadata": {},
     "output_type": "execute_result"
    }
   ],
   "source": [
    "df.columns"
   ]
  },
  {
   "cell_type": "code",
   "execution_count": 114,
   "id": "dbbebb18",
   "metadata": {},
   "outputs": [
    {
     "data": {
      "text/html": [
       "<div>\n",
       "<style scoped>\n",
       "    .dataframe tbody tr th:only-of-type {\n",
       "        vertical-align: middle;\n",
       "    }\n",
       "\n",
       "    .dataframe tbody tr th {\n",
       "        vertical-align: top;\n",
       "    }\n",
       "\n",
       "    .dataframe thead th {\n",
       "        text-align: right;\n",
       "    }\n",
       "</style>\n",
       "<table border=\"1\" class=\"dataframe\">\n",
       "  <thead>\n",
       "    <tr style=\"text-align: right;\">\n",
       "      <th></th>\n",
       "      <th>counts</th>\n",
       "      <th>percentage_of_counts</th>\n",
       "    </tr>\n",
       "  </thead>\n",
       "  <tbody>\n",
       "    <tr>\n",
       "      <th>0</th>\n",
       "      <td>181494</td>\n",
       "      <td>77.842971</td>\n",
       "    </tr>\n",
       "    <tr>\n",
       "      <th>1</th>\n",
       "      <td>32099</td>\n",
       "      <td>13.767295</td>\n",
       "    </tr>\n",
       "    <tr>\n",
       "      <th>2</th>\n",
       "      <td>11015</td>\n",
       "      <td>4.724345</td>\n",
       "    </tr>\n",
       "    <tr>\n",
       "      <th>3</th>\n",
       "      <td>4458</td>\n",
       "      <td>1.912041</td>\n",
       "    </tr>\n",
       "    <tr>\n",
       "      <th>4</th>\n",
       "      <td>1957</td>\n",
       "      <td>0.839359</td>\n",
       "    </tr>\n",
       "    <tr>\n",
       "      <th>5</th>\n",
       "      <td>964</td>\n",
       "      <td>0.413461</td>\n",
       "    </tr>\n",
       "    <tr>\n",
       "      <th>6</th>\n",
       "      <td>480</td>\n",
       "      <td>0.205873</td>\n",
       "    </tr>\n",
       "    <tr>\n",
       "      <th>7</th>\n",
       "      <td>302</td>\n",
       "      <td>0.129528</td>\n",
       "    </tr>\n",
       "    <tr>\n",
       "      <th>8</th>\n",
       "      <td>147</td>\n",
       "      <td>0.063048</td>\n",
       "    </tr>\n",
       "    <tr>\n",
       "      <th>9</th>\n",
       "      <td>79</td>\n",
       "      <td>0.033883</td>\n",
       "    </tr>\n",
       "    <tr>\n",
       "      <th>10</th>\n",
       "      <td>55</td>\n",
       "      <td>0.023590</td>\n",
       "    </tr>\n",
       "    <tr>\n",
       "      <th>11</th>\n",
       "      <td>31</td>\n",
       "      <td>0.013296</td>\n",
       "    </tr>\n",
       "    <tr>\n",
       "      <th>12</th>\n",
       "      <td>20</td>\n",
       "      <td>0.008578</td>\n",
       "    </tr>\n",
       "    <tr>\n",
       "      <th>13</th>\n",
       "      <td>15</td>\n",
       "      <td>0.006434</td>\n",
       "    </tr>\n",
       "    <tr>\n",
       "      <th>14</th>\n",
       "      <td>11</td>\n",
       "      <td>0.004718</td>\n",
       "    </tr>\n",
       "    <tr>\n",
       "      <th>16</th>\n",
       "      <td>6</td>\n",
       "      <td>0.002573</td>\n",
       "    </tr>\n",
       "    <tr>\n",
       "      <th>17</th>\n",
       "      <td>6</td>\n",
       "      <td>0.002573</td>\n",
       "    </tr>\n",
       "    <tr>\n",
       "      <th>20</th>\n",
       "      <td>3</td>\n",
       "      <td>0.001287</td>\n",
       "    </tr>\n",
       "    <tr>\n",
       "      <th>15</th>\n",
       "      <td>2</td>\n",
       "      <td>0.000858</td>\n",
       "    </tr>\n",
       "    <tr>\n",
       "      <th>18</th>\n",
       "      <td>2</td>\n",
       "      <td>0.000858</td>\n",
       "    </tr>\n",
       "    <tr>\n",
       "      <th>19</th>\n",
       "      <td>2</td>\n",
       "      <td>0.000858</td>\n",
       "    </tr>\n",
       "    <tr>\n",
       "      <th>23</th>\n",
       "      <td>2</td>\n",
       "      <td>0.000858</td>\n",
       "    </tr>\n",
       "    <tr>\n",
       "      <th>21</th>\n",
       "      <td>1</td>\n",
       "      <td>0.000429</td>\n",
       "    </tr>\n",
       "    <tr>\n",
       "      <th>22</th>\n",
       "      <td>1</td>\n",
       "      <td>0.000429</td>\n",
       "    </tr>\n",
       "    <tr>\n",
       "      <th>28</th>\n",
       "      <td>1</td>\n",
       "      <td>0.000429</td>\n",
       "    </tr>\n",
       "    <tr>\n",
       "      <th>35</th>\n",
       "      <td>1</td>\n",
       "      <td>0.000429</td>\n",
       "    </tr>\n",
       "  </tbody>\n",
       "</table>\n",
       "</div>"
      ],
      "text/plain": [
       "    counts  percentage_of_counts\n",
       "0   181494             77.842971\n",
       "1    32099             13.767295\n",
       "2    11015              4.724345\n",
       "3     4458              1.912041\n",
       "4     1957              0.839359\n",
       "5      964              0.413461\n",
       "6      480              0.205873\n",
       "7      302              0.129528\n",
       "8      147              0.063048\n",
       "9       79              0.033883\n",
       "10      55              0.023590\n",
       "11      31              0.013296\n",
       "12      20              0.008578\n",
       "13      15              0.006434\n",
       "14      11              0.004718\n",
       "16       6              0.002573\n",
       "17       6              0.002573\n",
       "20       3              0.001287\n",
       "15       2              0.000858\n",
       "18       2              0.000858\n",
       "19       2              0.000858\n",
       "23       2              0.000858\n",
       "21       1              0.000429\n",
       "22       1              0.000429\n",
       "28       1              0.000429\n",
       "35       1              0.000429"
      ]
     },
     "execution_count": 114,
     "metadata": {},
     "output_type": "execute_result"
    }
   ],
   "source": [
    "counts= df['new_accts_in_last_six_months'].value_counts()\n",
    "percentage_of_counts =  df['new_accts_in_last_six_months'].value_counts(normalize= True) *100\n",
    "pd.DataFrame({\"counts\":counts,\"percentage_of_counts\":percentage_of_counts})"
   ]
  },
  {
   "cell_type": "markdown",
   "id": "340458fc",
   "metadata": {},
   "source": [
    "#### Most of them(77%) have not opened any new account in the last 6 months"
   ]
  },
  {
   "cell_type": "markdown",
   "id": "71f26c08",
   "metadata": {},
   "source": [
    "#### Delinquent Accounts in last six months"
   ]
  },
  {
   "cell_type": "code",
   "execution_count": 115,
   "id": "4c28577e",
   "metadata": {},
   "outputs": [
    {
     "data": {
      "text/plain": [
       "Index(['uniqueid', 'disbursed_amount', 'asset_cost', 'ltv', 'branch_id',\n",
       "       'supplier_id', 'manufacturer_id', 'current_pincode_id',\n",
       "       'employment_type', 'state_id', 'employee_code_id', 'mobileno_avl_flag',\n",
       "       'aadhar_flag', 'pan_flag', 'voterid_flag', 'driving_flag',\n",
       "       'passport_flag', 'perform_cns_score', 'perform_cns_score_description',\n",
       "       'new_accts_in_last_six_months', 'delinquent_accts_in_last_six_months',\n",
       "       'average_acct_age', 'credit_history_length', 'no_of_inquiries',\n",
       "       'loan_default', 'loan_default_text', 'age', 'perform_score',\n",
       "       'no_of_accts', 'active_accts', 'overdue_accts', 'outstanding_amount',\n",
       "       'sanctioned_amount', 'psdisbursed_amount', 'install_amt'],\n",
       "      dtype='object')"
      ]
     },
     "execution_count": 115,
     "metadata": {},
     "output_type": "execute_result"
    }
   ],
   "source": [
    "# Delinquent Accounts in last six months\n",
    "df.columns"
   ]
  },
  {
   "cell_type": "code",
   "execution_count": 116,
   "id": "b881779e",
   "metadata": {},
   "outputs": [
    {
     "data": {
      "text/html": [
       "<div>\n",
       "<style scoped>\n",
       "    .dataframe tbody tr th:only-of-type {\n",
       "        vertical-align: middle;\n",
       "    }\n",
       "\n",
       "    .dataframe tbody tr th {\n",
       "        vertical-align: top;\n",
       "    }\n",
       "\n",
       "    .dataframe thead th {\n",
       "        text-align: right;\n",
       "    }\n",
       "</style>\n",
       "<table border=\"1\" class=\"dataframe\">\n",
       "  <thead>\n",
       "    <tr style=\"text-align: right;\">\n",
       "      <th></th>\n",
       "      <th>counts</th>\n",
       "      <th>percentage_of_counts</th>\n",
       "    </tr>\n",
       "  </thead>\n",
       "  <tbody>\n",
       "    <tr>\n",
       "      <th>0</th>\n",
       "      <td>214959</td>\n",
       "      <td>92.196145</td>\n",
       "    </tr>\n",
       "    <tr>\n",
       "      <th>1</th>\n",
       "      <td>14941</td>\n",
       "      <td>6.408211</td>\n",
       "    </tr>\n",
       "    <tr>\n",
       "      <th>2</th>\n",
       "      <td>2470</td>\n",
       "      <td>1.059386</td>\n",
       "    </tr>\n",
       "    <tr>\n",
       "      <th>3</th>\n",
       "      <td>537</td>\n",
       "      <td>0.230320</td>\n",
       "    </tr>\n",
       "    <tr>\n",
       "      <th>4</th>\n",
       "      <td>138</td>\n",
       "      <td>0.059188</td>\n",
       "    </tr>\n",
       "    <tr>\n",
       "      <th>5</th>\n",
       "      <td>58</td>\n",
       "      <td>0.024876</td>\n",
       "    </tr>\n",
       "    <tr>\n",
       "      <th>6</th>\n",
       "      <td>20</td>\n",
       "      <td>0.008578</td>\n",
       "    </tr>\n",
       "    <tr>\n",
       "      <th>7</th>\n",
       "      <td>13</td>\n",
       "      <td>0.005576</td>\n",
       "    </tr>\n",
       "    <tr>\n",
       "      <th>8</th>\n",
       "      <td>7</td>\n",
       "      <td>0.003002</td>\n",
       "    </tr>\n",
       "    <tr>\n",
       "      <th>11</th>\n",
       "      <td>3</td>\n",
       "      <td>0.001287</td>\n",
       "    </tr>\n",
       "    <tr>\n",
       "      <th>12</th>\n",
       "      <td>3</td>\n",
       "      <td>0.001287</td>\n",
       "    </tr>\n",
       "    <tr>\n",
       "      <th>9</th>\n",
       "      <td>2</td>\n",
       "      <td>0.000858</td>\n",
       "    </tr>\n",
       "    <tr>\n",
       "      <th>10</th>\n",
       "      <td>2</td>\n",
       "      <td>0.000858</td>\n",
       "    </tr>\n",
       "    <tr>\n",
       "      <th>20</th>\n",
       "      <td>1</td>\n",
       "      <td>0.000429</td>\n",
       "    </tr>\n",
       "  </tbody>\n",
       "</table>\n",
       "</div>"
      ],
      "text/plain": [
       "    counts  percentage_of_counts\n",
       "0   214959             92.196145\n",
       "1    14941              6.408211\n",
       "2     2470              1.059386\n",
       "3      537              0.230320\n",
       "4      138              0.059188\n",
       "5       58              0.024876\n",
       "6       20              0.008578\n",
       "7       13              0.005576\n",
       "8        7              0.003002\n",
       "11       3              0.001287\n",
       "12       3              0.001287\n",
       "9        2              0.000858\n",
       "10       2              0.000858\n",
       "20       1              0.000429"
      ]
     },
     "execution_count": 116,
     "metadata": {},
     "output_type": "execute_result"
    }
   ],
   "source": [
    "counts= df['delinquent_accts_in_last_six_months'].value_counts()\n",
    "percentage_of_counts =  df['delinquent_accts_in_last_six_months'].value_counts(normalize= True) *100\n",
    "pd.DataFrame({\"counts\":counts,\"percentage_of_counts\":percentage_of_counts})"
   ]
  },
  {
   "cell_type": "markdown",
   "id": "621611e8",
   "metadata": {},
   "source": [
    "#### We can see that 92% of customers have not defaulted loans in last six months. 8% of customers have defaulted loans for >= 1 time"
   ]
  },
  {
   "cell_type": "code",
   "execution_count": 117,
   "id": "d8bdc837",
   "metadata": {},
   "outputs": [
    {
     "data": {
      "text/plain": [
       "Index(['uniqueid', 'disbursed_amount', 'asset_cost', 'ltv', 'branch_id',\n",
       "       'supplier_id', 'manufacturer_id', 'current_pincode_id',\n",
       "       'employment_type', 'state_id', 'employee_code_id', 'mobileno_avl_flag',\n",
       "       'aadhar_flag', 'pan_flag', 'voterid_flag', 'driving_flag',\n",
       "       'passport_flag', 'perform_cns_score', 'perform_cns_score_description',\n",
       "       'new_accts_in_last_six_months', 'delinquent_accts_in_last_six_months',\n",
       "       'average_acct_age', 'credit_history_length', 'no_of_inquiries',\n",
       "       'loan_default', 'loan_default_text', 'age', 'perform_score',\n",
       "       'no_of_accts', 'active_accts', 'overdue_accts', 'outstanding_amount',\n",
       "       'sanctioned_amount', 'psdisbursed_amount', 'install_amt'],\n",
       "      dtype='object')"
      ]
     },
     "execution_count": 117,
     "metadata": {},
     "output_type": "execute_result"
    }
   ],
   "source": [
    "df.columns"
   ]
  },
  {
   "cell_type": "code",
   "execution_count": 118,
   "id": "4522be18",
   "metadata": {},
   "outputs": [],
   "source": [
    "def duration(dur):\n",
    "    year=int(dur.split(' ')[0].replace('yrs',''))\n",
    "    mon=int(dur.split(' ')[1].replace('mon',''))\n",
    "    return year*12+mon"
   ]
  },
  {
   "cell_type": "code",
   "execution_count": 119,
   "id": "6f03c0d3",
   "metadata": {},
   "outputs": [],
   "source": [
    "df['credit_history_length'] = df['credit_history_length'].apply(duration)\n",
    "df['average_acct_age'] = df['average_acct_age'].apply(duration)\n"
   ]
  },
  {
   "cell_type": "code",
   "execution_count": 120,
   "id": "55586031",
   "metadata": {},
   "outputs": [
    {
     "data": {
      "text/plain": [
       "count     233154\n",
       "unique       192\n",
       "top            0\n",
       "freq      119373\n",
       "Name: average_acct_age, dtype: int64"
      ]
     },
     "execution_count": 120,
     "metadata": {},
     "output_type": "execute_result"
    }
   ],
   "source": [
    "df['average_acct_age'].describe()"
   ]
  },
  {
   "cell_type": "code",
   "execution_count": 121,
   "id": "fbd67b62",
   "metadata": {},
   "outputs": [],
   "source": [
    "acct_age_non_defaulters = df[df['loan_default'] == 0]['average_acct_age']\n",
    "acct_age_defaulters = df[df['loan_default'] == 1]['average_acct_age']"
   ]
  },
  {
   "cell_type": "code",
   "execution_count": 122,
   "id": "06610b9b",
   "metadata": {},
   "outputs": [
    {
     "data": {
      "text/plain": [
       "count     182543\n",
       "unique       190\n",
       "top            0\n",
       "freq       91716\n",
       "Name: average_acct_age, dtype: int64"
      ]
     },
     "execution_count": 122,
     "metadata": {},
     "output_type": "execute_result"
    }
   ],
   "source": [
    "acct_age_non_defaulters.describe()"
   ]
  },
  {
   "cell_type": "code",
   "execution_count": 123,
   "id": "124e3da3",
   "metadata": {},
   "outputs": [
    {
     "data": {
      "text/plain": [
       "count     50611\n",
       "unique      155\n",
       "top           0\n",
       "freq      27657\n",
       "Name: average_acct_age, dtype: int64"
      ]
     },
     "execution_count": 123,
     "metadata": {},
     "output_type": "execute_result"
    }
   ],
   "source": [
    "acct_age_defaulters.describe()"
   ]
  },
  {
   "cell_type": "markdown",
   "id": "d6440eb6",
   "metadata": {},
   "source": [
    "#### The maximum average account age is higher for non defaulters\n"
   ]
  },
  {
   "cell_type": "code",
   "execution_count": 124,
   "id": "031e1a20",
   "metadata": {},
   "outputs": [
    {
     "data": {
      "image/png": "[encoded data removed]",
      "text/plain": [
       "<Figure size 1080x432 with 1 Axes>"
      ]
     },
     "metadata": {
      "needs_background": "light"
     },
     "output_type": "display_data"
    }
   ],
   "source": [
    "plt.figure(figsize=(15,6))\n",
    "sns.countplot(hue ='loan_default',x\n",
    "              ='average_acct_age',data=df)\n",
    "plt.show()"
   ]
  },
  {
   "cell_type": "code",
   "execution_count": 125,
   "id": "1f2b2572",
   "metadata": {},
   "outputs": [
    {
     "data": {
      "text/plain": [
       "count    233154.000000\n",
       "mean         16.252404\n",
       "std          28.581255\n",
       "min           0.000000\n",
       "25%           0.000000\n",
       "50%           0.000000\n",
       "75%          24.000000\n",
       "max         468.000000\n",
       "Name: credit_history_length, dtype: float64"
      ]
     },
     "execution_count": 125,
     "metadata": {},
     "output_type": "execute_result"
    }
   ],
   "source": [
    "df['credit_history_length'].describe()"
   ]
  },
  {
   "cell_type": "code",
   "execution_count": 126,
   "id": "ca5704e3",
   "metadata": {},
   "outputs": [
    {
     "data": {
      "text/plain": [
       "0          0\n",
       "1          0\n",
       "3          0\n",
       "4          0\n",
       "5          0\n",
       "          ..\n",
       "233149    28\n",
       "233150    17\n",
       "233151    46\n",
       "233152    38\n",
       "233153    64\n",
       "Name: credit_history_length, Length: 182543, dtype: int64"
      ]
     },
     "execution_count": 126,
     "metadata": {},
     "output_type": "execute_result"
    }
   ],
   "source": [
    "credit_non_default = df[df['loan_default'] == 0]['credit_history_length']\n",
    "credit_default = df[df['loan_default'] == 1]['credit_history_length']\n",
    "credit_non_default"
   ]
  },
  {
   "cell_type": "code",
   "execution_count": 127,
   "id": "9c728151",
   "metadata": {},
   "outputs": [
    {
     "data": {
      "text/plain": [
       "count    182543.000000\n",
       "mean         16.886377\n",
       "std          29.342245\n",
       "min           0.000000\n",
       "25%           0.000000\n",
       "50%           0.000000\n",
       "75%          24.000000\n",
       "max         449.000000\n",
       "Name: credit_history_length, dtype: float64"
      ]
     },
     "execution_count": 127,
     "metadata": {},
     "output_type": "execute_result"
    }
   ],
   "source": [
    "credit_non_default.describe()"
   ]
  },
  {
   "cell_type": "code",
   "execution_count": 128,
   "id": "230219e9",
   "metadata": {},
   "outputs": [
    {
     "data": {
      "text/plain": [
       "count    50611.000000\n",
       "mean        13.965798\n",
       "std         25.519395\n",
       "min          0.000000\n",
       "25%          0.000000\n",
       "50%          0.000000\n",
       "75%         21.000000\n",
       "max        468.000000\n",
       "Name: credit_history_length, dtype: float64"
      ]
     },
     "execution_count": 128,
     "metadata": {},
     "output_type": "execute_result"
    }
   ],
   "source": [
    "credit_default.describe()"
   ]
  },
  {
   "cell_type": "markdown",
   "id": "575e5b20",
   "metadata": {},
   "source": [
    "#### The mean and std is slightly higher for non defaulters.Less the length higher the risk and higher the credit history length less the default.\n",
    "#### Credit history, that is new loans in last six months, loans defaulted in last six months, time since first loan, etc., a significant factor in estimating probability of loan defaulters"
   ]
  },
  {
   "cell_type": "markdown",
   "id": "0ebeeaee",
   "metadata": {},
   "source": [
    "### Perform logistic regression modeling, predict the outcome for the test data, and validate the results using the confusion matrix."
   ]
  },
  {
   "cell_type": "code",
   "execution_count": 129,
   "id": "ee5c0a46",
   "metadata": {},
   "outputs": [
    {
     "data": {
      "text/html": [
       "<div>\n",
       "<style scoped>\n",
       "    .dataframe tbody tr th:only-of-type {\n",
       "        vertical-align: middle;\n",
       "    }\n",
       "\n",
       "    .dataframe tbody tr th {\n",
       "        vertical-align: top;\n",
       "    }\n",
       "\n",
       "    .dataframe thead th {\n",
       "        text-align: right;\n",
       "    }\n",
       "</style>\n",
       "<table border=\"1\" class=\"dataframe\">\n",
       "  <thead>\n",
       "    <tr style=\"text-align: right;\">\n",
       "      <th></th>\n",
       "      <th>uniqueid</th>\n",
       "      <th>disbursed_amount</th>\n",
       "      <th>asset_cost</th>\n",
       "      <th>ltv</th>\n",
       "      <th>branch_id</th>\n",
       "      <th>supplier_id</th>\n",
       "      <th>manufacturer_id</th>\n",
       "      <th>current_pincode_id</th>\n",
       "      <th>employment_type</th>\n",
       "      <th>state_id</th>\n",
       "      <th>...</th>\n",
       "      <th>loan_default_text</th>\n",
       "      <th>age</th>\n",
       "      <th>perform_score</th>\n",
       "      <th>no_of_accts</th>\n",
       "      <th>active_accts</th>\n",
       "      <th>overdue_accts</th>\n",
       "      <th>outstanding_amount</th>\n",
       "      <th>sanctioned_amount</th>\n",
       "      <th>psdisbursed_amount</th>\n",
       "      <th>install_amt</th>\n",
       "    </tr>\n",
       "  </thead>\n",
       "  <tbody>\n",
       "    <tr>\n",
       "      <th>0</th>\n",
       "      <td>420825</td>\n",
       "      <td>50578</td>\n",
       "      <td>58400</td>\n",
       "      <td>89.55</td>\n",
       "      <td>67</td>\n",
       "      <td>22807</td>\n",
       "      <td>45</td>\n",
       "      <td>1441</td>\n",
       "      <td>Salaried</td>\n",
       "      <td>6</td>\n",
       "      <td>...</td>\n",
       "      <td>Non_Defaulter</td>\n",
       "      <td>34</td>\n",
       "      <td>No Score</td>\n",
       "      <td>0</td>\n",
       "      <td>0</td>\n",
       "      <td>0</td>\n",
       "      <td>0</td>\n",
       "      <td>0</td>\n",
       "      <td>0</td>\n",
       "      <td>0</td>\n",
       "    </tr>\n",
       "    <tr>\n",
       "      <th>1</th>\n",
       "      <td>417566</td>\n",
       "      <td>53278</td>\n",
       "      <td>61360</td>\n",
       "      <td>89.63</td>\n",
       "      <td>67</td>\n",
       "      <td>22807</td>\n",
       "      <td>45</td>\n",
       "      <td>1497</td>\n",
       "      <td>Self employed</td>\n",
       "      <td>6</td>\n",
       "      <td>...</td>\n",
       "      <td>Non_Defaulter</td>\n",
       "      <td>33</td>\n",
       "      <td>No Score</td>\n",
       "      <td>0</td>\n",
       "      <td>0</td>\n",
       "      <td>0</td>\n",
       "      <td>0</td>\n",
       "      <td>0</td>\n",
       "      <td>0</td>\n",
       "      <td>0</td>\n",
       "    </tr>\n",
       "    <tr>\n",
       "      <th>2</th>\n",
       "      <td>539055</td>\n",
       "      <td>52378</td>\n",
       "      <td>60300</td>\n",
       "      <td>88.39</td>\n",
       "      <td>67</td>\n",
       "      <td>22807</td>\n",
       "      <td>45</td>\n",
       "      <td>1495</td>\n",
       "      <td>Self employed</td>\n",
       "      <td>6</td>\n",
       "      <td>...</td>\n",
       "      <td>Defaulter</td>\n",
       "      <td>41</td>\n",
       "      <td>No Score</td>\n",
       "      <td>0</td>\n",
       "      <td>0</td>\n",
       "      <td>0</td>\n",
       "      <td>0</td>\n",
       "      <td>0</td>\n",
       "      <td>0</td>\n",
       "      <td>0</td>\n",
       "    </tr>\n",
       "    <tr>\n",
       "      <th>3</th>\n",
       "      <td>529269</td>\n",
       "      <td>46349</td>\n",
       "      <td>61500</td>\n",
       "      <td>76.42</td>\n",
       "      <td>67</td>\n",
       "      <td>22807</td>\n",
       "      <td>45</td>\n",
       "      <td>1502</td>\n",
       "      <td>Salaried</td>\n",
       "      <td>6</td>\n",
       "      <td>...</td>\n",
       "      <td>Non_Defaulter</td>\n",
       "      <td>30</td>\n",
       "      <td>No Score</td>\n",
       "      <td>0</td>\n",
       "      <td>0</td>\n",
       "      <td>0</td>\n",
       "      <td>0</td>\n",
       "      <td>0</td>\n",
       "      <td>0</td>\n",
       "      <td>0</td>\n",
       "    </tr>\n",
       "    <tr>\n",
       "      <th>4</th>\n",
       "      <td>563215</td>\n",
       "      <td>43594</td>\n",
       "      <td>78256</td>\n",
       "      <td>57.50</td>\n",
       "      <td>67</td>\n",
       "      <td>22744</td>\n",
       "      <td>86</td>\n",
       "      <td>1499</td>\n",
       "      <td>Self employed</td>\n",
       "      <td>6</td>\n",
       "      <td>...</td>\n",
       "      <td>Non_Defaulter</td>\n",
       "      <td>24</td>\n",
       "      <td>No Score</td>\n",
       "      <td>0</td>\n",
       "      <td>0</td>\n",
       "      <td>0</td>\n",
       "      <td>0</td>\n",
       "      <td>0</td>\n",
       "      <td>0</td>\n",
       "      <td>0</td>\n",
       "    </tr>\n",
       "    <tr>\n",
       "      <th>...</th>\n",
       "      <td>...</td>\n",
       "      <td>...</td>\n",
       "      <td>...</td>\n",
       "      <td>...</td>\n",
       "      <td>...</td>\n",
       "      <td>...</td>\n",
       "      <td>...</td>\n",
       "      <td>...</td>\n",
       "      <td>...</td>\n",
       "      <td>...</td>\n",
       "      <td>...</td>\n",
       "      <td>...</td>\n",
       "      <td>...</td>\n",
       "      <td>...</td>\n",
       "      <td>...</td>\n",
       "      <td>...</td>\n",
       "      <td>...</td>\n",
       "      <td>...</td>\n",
       "      <td>...</td>\n",
       "      <td>...</td>\n",
       "      <td>...</td>\n",
       "    </tr>\n",
       "    <tr>\n",
       "      <th>233149</th>\n",
       "      <td>561031</td>\n",
       "      <td>57759</td>\n",
       "      <td>76350</td>\n",
       "      <td>77.28</td>\n",
       "      <td>5</td>\n",
       "      <td>22289</td>\n",
       "      <td>51</td>\n",
       "      <td>3326</td>\n",
       "      <td>Self employed</td>\n",
       "      <td>9</td>\n",
       "      <td>...</td>\n",
       "      <td>Non_Defaulter</td>\n",
       "      <td>37</td>\n",
       "      <td>No Score</td>\n",
       "      <td>1</td>\n",
       "      <td>0</td>\n",
       "      <td>0</td>\n",
       "      <td>0</td>\n",
       "      <td>0</td>\n",
       "      <td>0</td>\n",
       "      <td>0</td>\n",
       "    </tr>\n",
       "    <tr>\n",
       "      <th>233150</th>\n",
       "      <td>649600</td>\n",
       "      <td>55009</td>\n",
       "      <td>71200</td>\n",
       "      <td>78.72</td>\n",
       "      <td>138</td>\n",
       "      <td>17408</td>\n",
       "      <td>51</td>\n",
       "      <td>3385</td>\n",
       "      <td>Self employed</td>\n",
       "      <td>9</td>\n",
       "      <td>...</td>\n",
       "      <td>Non_Defaulter</td>\n",
       "      <td>26</td>\n",
       "      <td>No Score</td>\n",
       "      <td>1</td>\n",
       "      <td>1</td>\n",
       "      <td>1</td>\n",
       "      <td>0</td>\n",
       "      <td>464727</td>\n",
       "      <td>464727</td>\n",
       "      <td>15209</td>\n",
       "    </tr>\n",
       "    <tr>\n",
       "      <th>233151</th>\n",
       "      <td>603445</td>\n",
       "      <td>58513</td>\n",
       "      <td>68000</td>\n",
       "      <td>88.24</td>\n",
       "      <td>135</td>\n",
       "      <td>23313</td>\n",
       "      <td>45</td>\n",
       "      <td>1797</td>\n",
       "      <td>Self employed</td>\n",
       "      <td>4</td>\n",
       "      <td>...</td>\n",
       "      <td>Non_Defaulter</td>\n",
       "      <td>37</td>\n",
       "      <td>No Score</td>\n",
       "      <td>68</td>\n",
       "      <td>65</td>\n",
       "      <td>1</td>\n",
       "      <td>96524920</td>\n",
       "      <td>105865712</td>\n",
       "      <td>105755712</td>\n",
       "      <td>257948</td>\n",
       "    </tr>\n",
       "    <tr>\n",
       "      <th>233152</th>\n",
       "      <td>442948</td>\n",
       "      <td>22824</td>\n",
       "      <td>40458</td>\n",
       "      <td>61.79</td>\n",
       "      <td>160</td>\n",
       "      <td>16212</td>\n",
       "      <td>48</td>\n",
       "      <td>96</td>\n",
       "      <td>Self employed</td>\n",
       "      <td>16</td>\n",
       "      <td>...</td>\n",
       "      <td>Non_Defaulter</td>\n",
       "      <td>29</td>\n",
       "      <td>No Score</td>\n",
       "      <td>72</td>\n",
       "      <td>52</td>\n",
       "      <td>1</td>\n",
       "      <td>23286804</td>\n",
       "      <td>33280996</td>\n",
       "      <td>33280996</td>\n",
       "      <td>26046</td>\n",
       "    </tr>\n",
       "    <tr>\n",
       "      <th>233153</th>\n",
       "      <td>545300</td>\n",
       "      <td>35299</td>\n",
       "      <td>72698</td>\n",
       "      <td>52.27</td>\n",
       "      <td>3</td>\n",
       "      <td>14573</td>\n",
       "      <td>45</td>\n",
       "      <td>17</td>\n",
       "      <td>Self employed</td>\n",
       "      <td>1</td>\n",
       "      <td>...</td>\n",
       "      <td>Non_Defaulter</td>\n",
       "      <td>50</td>\n",
       "      <td>No Score</td>\n",
       "      <td>194</td>\n",
       "      <td>144</td>\n",
       "      <td>3</td>\n",
       "      <td>43194372</td>\n",
       "      <td>92622816</td>\n",
       "      <td>92628728</td>\n",
       "      <td>293886</td>\n",
       "    </tr>\n",
       "  </tbody>\n",
       "</table>\n",
       "<p>233154 rows × 35 columns</p>\n",
       "</div>"
      ],
      "text/plain": [
       "        uniqueid  disbursed_amount  asset_cost    ltv branch_id supplier_id  \\\n",
       "0         420825             50578       58400  89.55        67       22807   \n",
       "1         417566             53278       61360  89.63        67       22807   \n",
       "2         539055             52378       60300  88.39        67       22807   \n",
       "3         529269             46349       61500  76.42        67       22807   \n",
       "4         563215             43594       78256  57.50        67       22744   \n",
       "...          ...               ...         ...    ...       ...         ...   \n",
       "233149    561031             57759       76350  77.28         5       22289   \n",
       "233150    649600             55009       71200  78.72       138       17408   \n",
       "233151    603445             58513       68000  88.24       135       23313   \n",
       "233152    442948             22824       40458  61.79       160       16212   \n",
       "233153    545300             35299       72698  52.27         3       14573   \n",
       "\n",
       "       manufacturer_id  current_pincode_id employment_type state_id  ...  \\\n",
       "0                   45                1441        Salaried        6  ...   \n",
       "1                   45                1497   Self employed        6  ...   \n",
       "2                   45                1495   Self employed        6  ...   \n",
       "3                   45                1502        Salaried        6  ...   \n",
       "4                   86                1499   Self employed        6  ...   \n",
       "...                ...                 ...             ...      ...  ...   \n",
       "233149              51                3326   Self employed        9  ...   \n",
       "233150              51                3385   Self employed        9  ...   \n",
       "233151              45                1797   Self employed        4  ...   \n",
       "233152              48                  96   Self employed       16  ...   \n",
       "233153              45                  17   Self employed        1  ...   \n",
       "\n",
       "        loan_default_text  age  perform_score  no_of_accts  active_accts  \\\n",
       "0           Non_Defaulter   34       No Score            0             0   \n",
       "1           Non_Defaulter   33       No Score            0             0   \n",
       "2               Defaulter   41       No Score            0             0   \n",
       "3           Non_Defaulter   30       No Score            0             0   \n",
       "4           Non_Defaulter   24       No Score            0             0   \n",
       "...                   ...  ...            ...          ...           ...   \n",
       "233149      Non_Defaulter   37       No Score            1             0   \n",
       "233150      Non_Defaulter   26       No Score            1             1   \n",
       "233151      Non_Defaulter   37       No Score           68            65   \n",
       "233152      Non_Defaulter   29       No Score           72            52   \n",
       "233153      Non_Defaulter   50       No Score          194           144   \n",
       "\n",
       "        overdue_accts  outstanding_amount  sanctioned_amount  \\\n",
       "0                   0                   0                  0   \n",
       "1                   0                   0                  0   \n",
       "2                   0                   0                  0   \n",
       "3                   0                   0                  0   \n",
       "4                   0                   0                  0   \n",
       "...               ...                 ...                ...   \n",
       "233149              0                   0                  0   \n",
       "233150              1                   0             464727   \n",
       "233151              1            96524920          105865712   \n",
       "233152              1            23286804           33280996   \n",
       "233153              3            43194372           92622816   \n",
       "\n",
       "       psdisbursed_amount install_amt  \n",
       "0                       0           0  \n",
       "1                       0           0  \n",
       "2                       0           0  \n",
       "3                       0           0  \n",
       "4                       0           0  \n",
       "...                   ...         ...  \n",
       "233149                  0           0  \n",
       "233150             464727       15209  \n",
       "233151          105755712      257948  \n",
       "233152           33280996       26046  \n",
       "233153           92628728      293886  \n",
       "\n",
       "[233154 rows x 35 columns]"
      ]
     },
     "execution_count": 129,
     "metadata": {},
     "output_type": "execute_result"
    }
   ],
   "source": [
    "df"
   ]
  },
  {
   "cell_type": "code",
   "execution_count": 130,
   "id": "70cf480c",
   "metadata": {},
   "outputs": [],
   "source": [
    "#X_train,X_test,y_train,y_test = train_test_split(X,y,train_size =0.80,random_state=30)"
   ]
  },
  {
   "cell_type": "code",
   "execution_count": 131,
   "id": "d41028bd",
   "metadata": {},
   "outputs": [],
   "source": [
    "#clf = LogisticRegression().fit(X_train, y_train)"
   ]
  },
  {
   "cell_type": "markdown",
   "id": "d14ca706",
   "metadata": {},
   "source": [
    "### Logistic Regression"
   ]
  },
  {
   "cell_type": "code",
   "execution_count": 132,
   "id": "06ba2f35",
   "metadata": {},
   "outputs": [
    {
     "data": {
      "text/plain": [
       "Index(['uniqueid', 'disbursed_amount', 'asset_cost', 'ltv', 'branch_id',\n",
       "       'supplier_id', 'manufacturer_id', 'current_pincode_id',\n",
       "       'employment_type', 'state_id', 'employee_code_id', 'mobileno_avl_flag',\n",
       "       'aadhar_flag', 'pan_flag', 'voterid_flag', 'driving_flag',\n",
       "       'passport_flag', 'perform_cns_score', 'perform_cns_score_description',\n",
       "       'new_accts_in_last_six_months', 'delinquent_accts_in_last_six_months',\n",
       "       'average_acct_age', 'credit_history_length', 'no_of_inquiries',\n",
       "       'loan_default', 'loan_default_text', 'age', 'perform_score',\n",
       "       'no_of_accts', 'active_accts', 'overdue_accts', 'outstanding_amount',\n",
       "       'sanctioned_amount', 'psdisbursed_amount', 'install_amt'],\n",
       "      dtype='object')"
      ]
     },
     "execution_count": 132,
     "metadata": {},
     "output_type": "execute_result"
    }
   ],
   "source": [
    "df.columns"
   ]
  },
  {
   "cell_type": "code",
   "execution_count": 133,
   "id": "9886ca47",
   "metadata": {},
   "outputs": [],
   "source": [
    "df1=pd.get_dummies(df)"
   ]
  },
  {
   "cell_type": "code",
   "execution_count": 134,
   "id": "3cfe686b",
   "metadata": {},
   "outputs": [],
   "source": [
    "x = df1.drop('loan_default',axis=1) # independent Variable\n",
    "\n",
    "y = pd.DataFrame(df1['loan_default']) # Dependent Variable"
   ]
  },
  {
   "cell_type": "code",
   "execution_count": 135,
   "id": "d30b1ef9",
   "metadata": {},
   "outputs": [
    {
     "data": {
      "text/html": [
       "<div>\n",
       "<style scoped>\n",
       "    .dataframe tbody tr th:only-of-type {\n",
       "        vertical-align: middle;\n",
       "    }\n",
       "\n",
       "    .dataframe tbody tr th {\n",
       "        vertical-align: top;\n",
       "    }\n",
       "\n",
       "    .dataframe thead th {\n",
       "        text-align: right;\n",
       "    }\n",
       "</style>\n",
       "<table border=\"1\" class=\"dataframe\">\n",
       "  <thead>\n",
       "    <tr style=\"text-align: right;\">\n",
       "      <th></th>\n",
       "      <th>uniqueid</th>\n",
       "      <th>disbursed_amount</th>\n",
       "      <th>asset_cost</th>\n",
       "      <th>ltv</th>\n",
       "      <th>current_pincode_id</th>\n",
       "      <th>employee_code_id</th>\n",
       "      <th>mobileno_avl_flag</th>\n",
       "      <th>aadhar_flag</th>\n",
       "      <th>pan_flag</th>\n",
       "      <th>voterid_flag</th>\n",
       "      <th>...</th>\n",
       "      <th>average_acct_age_116</th>\n",
       "      <th>average_acct_age_117</th>\n",
       "      <th>loan_default_text_Defaulter</th>\n",
       "      <th>loan_default_text_Non_Defaulter</th>\n",
       "      <th>perform_score_High</th>\n",
       "      <th>perform_score_Low</th>\n",
       "      <th>perform_score_Medium</th>\n",
       "      <th>perform_score_No Score</th>\n",
       "      <th>perform_score_Very High</th>\n",
       "      <th>perform_score_Very Low</th>\n",
       "    </tr>\n",
       "  </thead>\n",
       "  <tbody>\n",
       "    <tr>\n",
       "      <th>0</th>\n",
       "      <td>420825</td>\n",
       "      <td>50578</td>\n",
       "      <td>58400</td>\n",
       "      <td>89.55</td>\n",
       "      <td>1441</td>\n",
       "      <td>1998</td>\n",
       "      <td>1</td>\n",
       "      <td>1</td>\n",
       "      <td>0</td>\n",
       "      <td>0</td>\n",
       "      <td>...</td>\n",
       "      <td>0</td>\n",
       "      <td>0</td>\n",
       "      <td>0</td>\n",
       "      <td>1</td>\n",
       "      <td>0</td>\n",
       "      <td>0</td>\n",
       "      <td>0</td>\n",
       "      <td>1</td>\n",
       "      <td>0</td>\n",
       "      <td>0</td>\n",
       "    </tr>\n",
       "    <tr>\n",
       "      <th>1</th>\n",
       "      <td>417566</td>\n",
       "      <td>53278</td>\n",
       "      <td>61360</td>\n",
       "      <td>89.63</td>\n",
       "      <td>1497</td>\n",
       "      <td>1998</td>\n",
       "      <td>1</td>\n",
       "      <td>1</td>\n",
       "      <td>0</td>\n",
       "      <td>0</td>\n",
       "      <td>...</td>\n",
       "      <td>0</td>\n",
       "      <td>0</td>\n",
       "      <td>0</td>\n",
       "      <td>1</td>\n",
       "      <td>0</td>\n",
       "      <td>0</td>\n",
       "      <td>0</td>\n",
       "      <td>1</td>\n",
       "      <td>0</td>\n",
       "      <td>0</td>\n",
       "    </tr>\n",
       "    <tr>\n",
       "      <th>2</th>\n",
       "      <td>539055</td>\n",
       "      <td>52378</td>\n",
       "      <td>60300</td>\n",
       "      <td>88.39</td>\n",
       "      <td>1495</td>\n",
       "      <td>1998</td>\n",
       "      <td>1</td>\n",
       "      <td>1</td>\n",
       "      <td>0</td>\n",
       "      <td>0</td>\n",
       "      <td>...</td>\n",
       "      <td>0</td>\n",
       "      <td>0</td>\n",
       "      <td>1</td>\n",
       "      <td>0</td>\n",
       "      <td>0</td>\n",
       "      <td>0</td>\n",
       "      <td>0</td>\n",
       "      <td>1</td>\n",
       "      <td>0</td>\n",
       "      <td>0</td>\n",
       "    </tr>\n",
       "    <tr>\n",
       "      <th>3</th>\n",
       "      <td>529269</td>\n",
       "      <td>46349</td>\n",
       "      <td>61500</td>\n",
       "      <td>76.42</td>\n",
       "      <td>1502</td>\n",
       "      <td>1998</td>\n",
       "      <td>1</td>\n",
       "      <td>1</td>\n",
       "      <td>0</td>\n",
       "      <td>0</td>\n",
       "      <td>...</td>\n",
       "      <td>0</td>\n",
       "      <td>0</td>\n",
       "      <td>0</td>\n",
       "      <td>1</td>\n",
       "      <td>0</td>\n",
       "      <td>0</td>\n",
       "      <td>0</td>\n",
       "      <td>1</td>\n",
       "      <td>0</td>\n",
       "      <td>0</td>\n",
       "    </tr>\n",
       "    <tr>\n",
       "      <th>4</th>\n",
       "      <td>563215</td>\n",
       "      <td>43594</td>\n",
       "      <td>78256</td>\n",
       "      <td>57.50</td>\n",
       "      <td>1499</td>\n",
       "      <td>1998</td>\n",
       "      <td>1</td>\n",
       "      <td>1</td>\n",
       "      <td>0</td>\n",
       "      <td>0</td>\n",
       "      <td>...</td>\n",
       "      <td>0</td>\n",
       "      <td>0</td>\n",
       "      <td>0</td>\n",
       "      <td>1</td>\n",
       "      <td>0</td>\n",
       "      <td>0</td>\n",
       "      <td>0</td>\n",
       "      <td>1</td>\n",
       "      <td>0</td>\n",
       "      <td>0</td>\n",
       "    </tr>\n",
       "    <tr>\n",
       "      <th>...</th>\n",
       "      <td>...</td>\n",
       "      <td>...</td>\n",
       "      <td>...</td>\n",
       "      <td>...</td>\n",
       "      <td>...</td>\n",
       "      <td>...</td>\n",
       "      <td>...</td>\n",
       "      <td>...</td>\n",
       "      <td>...</td>\n",
       "      <td>...</td>\n",
       "      <td>...</td>\n",
       "      <td>...</td>\n",
       "      <td>...</td>\n",
       "      <td>...</td>\n",
       "      <td>...</td>\n",
       "      <td>...</td>\n",
       "      <td>...</td>\n",
       "      <td>...</td>\n",
       "      <td>...</td>\n",
       "      <td>...</td>\n",
       "      <td>...</td>\n",
       "    </tr>\n",
       "    <tr>\n",
       "      <th>233149</th>\n",
       "      <td>561031</td>\n",
       "      <td>57759</td>\n",
       "      <td>76350</td>\n",
       "      <td>77.28</td>\n",
       "      <td>3326</td>\n",
       "      <td>2229</td>\n",
       "      <td>1</td>\n",
       "      <td>1</td>\n",
       "      <td>0</td>\n",
       "      <td>0</td>\n",
       "      <td>...</td>\n",
       "      <td>0</td>\n",
       "      <td>0</td>\n",
       "      <td>0</td>\n",
       "      <td>1</td>\n",
       "      <td>0</td>\n",
       "      <td>0</td>\n",
       "      <td>0</td>\n",
       "      <td>1</td>\n",
       "      <td>0</td>\n",
       "      <td>0</td>\n",
       "    </tr>\n",
       "    <tr>\n",
       "      <th>233150</th>\n",
       "      <td>649600</td>\n",
       "      <td>55009</td>\n",
       "      <td>71200</td>\n",
       "      <td>78.72</td>\n",
       "      <td>3385</td>\n",
       "      <td>2690</td>\n",
       "      <td>1</td>\n",
       "      <td>1</td>\n",
       "      <td>0</td>\n",
       "      <td>0</td>\n",
       "      <td>...</td>\n",
       "      <td>0</td>\n",
       "      <td>0</td>\n",
       "      <td>0</td>\n",
       "      <td>1</td>\n",
       "      <td>0</td>\n",
       "      <td>0</td>\n",
       "      <td>0</td>\n",
       "      <td>1</td>\n",
       "      <td>0</td>\n",
       "      <td>0</td>\n",
       "    </tr>\n",
       "    <tr>\n",
       "      <th>233151</th>\n",
       "      <td>603445</td>\n",
       "      <td>58513</td>\n",
       "      <td>68000</td>\n",
       "      <td>88.24</td>\n",
       "      <td>1797</td>\n",
       "      <td>90</td>\n",
       "      <td>1</td>\n",
       "      <td>1</td>\n",
       "      <td>0</td>\n",
       "      <td>0</td>\n",
       "      <td>...</td>\n",
       "      <td>0</td>\n",
       "      <td>0</td>\n",
       "      <td>0</td>\n",
       "      <td>1</td>\n",
       "      <td>0</td>\n",
       "      <td>0</td>\n",
       "      <td>0</td>\n",
       "      <td>1</td>\n",
       "      <td>0</td>\n",
       "      <td>0</td>\n",
       "    </tr>\n",
       "    <tr>\n",
       "      <th>233152</th>\n",
       "      <td>442948</td>\n",
       "      <td>22824</td>\n",
       "      <td>40458</td>\n",
       "      <td>61.79</td>\n",
       "      <td>96</td>\n",
       "      <td>1299</td>\n",
       "      <td>1</td>\n",
       "      <td>1</td>\n",
       "      <td>1</td>\n",
       "      <td>0</td>\n",
       "      <td>...</td>\n",
       "      <td>0</td>\n",
       "      <td>0</td>\n",
       "      <td>0</td>\n",
       "      <td>1</td>\n",
       "      <td>0</td>\n",
       "      <td>0</td>\n",
       "      <td>0</td>\n",
       "      <td>1</td>\n",
       "      <td>0</td>\n",
       "      <td>0</td>\n",
       "    </tr>\n",
       "    <tr>\n",
       "      <th>233153</th>\n",
       "      <td>545300</td>\n",
       "      <td>35299</td>\n",
       "      <td>72698</td>\n",
       "      <td>52.27</td>\n",
       "      <td>17</td>\n",
       "      <td>665</td>\n",
       "      <td>1</td>\n",
       "      <td>1</td>\n",
       "      <td>0</td>\n",
       "      <td>0</td>\n",
       "      <td>...</td>\n",
       "      <td>0</td>\n",
       "      <td>0</td>\n",
       "      <td>0</td>\n",
       "      <td>1</td>\n",
       "      <td>0</td>\n",
       "      <td>0</td>\n",
       "      <td>0</td>\n",
       "      <td>1</td>\n",
       "      <td>0</td>\n",
       "      <td>0</td>\n",
       "    </tr>\n",
       "  </tbody>\n",
       "</table>\n",
       "<p>233154 rows × 3354 columns</p>\n",
       "</div>"
      ],
      "text/plain": [
       "        uniqueid  disbursed_amount  asset_cost    ltv  current_pincode_id  \\\n",
       "0         420825             50578       58400  89.55                1441   \n",
       "1         417566             53278       61360  89.63                1497   \n",
       "2         539055             52378       60300  88.39                1495   \n",
       "3         529269             46349       61500  76.42                1502   \n",
       "4         563215             43594       78256  57.50                1499   \n",
       "...          ...               ...         ...    ...                 ...   \n",
       "233149    561031             57759       76350  77.28                3326   \n",
       "233150    649600             55009       71200  78.72                3385   \n",
       "233151    603445             58513       68000  88.24                1797   \n",
       "233152    442948             22824       40458  61.79                  96   \n",
       "233153    545300             35299       72698  52.27                  17   \n",
       "\n",
       "        employee_code_id  mobileno_avl_flag  aadhar_flag  pan_flag  \\\n",
       "0                   1998                  1            1         0   \n",
       "1                   1998                  1            1         0   \n",
       "2                   1998                  1            1         0   \n",
       "3                   1998                  1            1         0   \n",
       "4                   1998                  1            1         0   \n",
       "...                  ...                ...          ...       ...   \n",
       "233149              2229                  1            1         0   \n",
       "233150              2690                  1            1         0   \n",
       "233151                90                  1            1         0   \n",
       "233152              1299                  1            1         1   \n",
       "233153               665                  1            1         0   \n",
       "\n",
       "        voterid_flag  ...  average_acct_age_116  average_acct_age_117  \\\n",
       "0                  0  ...                     0                     0   \n",
       "1                  0  ...                     0                     0   \n",
       "2                  0  ...                     0                     0   \n",
       "3                  0  ...                     0                     0   \n",
       "4                  0  ...                     0                     0   \n",
       "...              ...  ...                   ...                   ...   \n",
       "233149             0  ...                     0                     0   \n",
       "233150             0  ...                     0                     0   \n",
       "233151             0  ...                     0                     0   \n",
       "233152             0  ...                     0                     0   \n",
       "233153             0  ...                     0                     0   \n",
       "\n",
       "        loan_default_text_Defaulter  loan_default_text_Non_Defaulter  \\\n",
       "0                                 0                                1   \n",
       "1                                 0                                1   \n",
       "2                                 1                                0   \n",
       "3                                 0                                1   \n",
       "4                                 0                                1   \n",
       "...                             ...                              ...   \n",
       "233149                            0                                1   \n",
       "233150                            0                                1   \n",
       "233151                            0                                1   \n",
       "233152                            0                                1   \n",
       "233153                            0                                1   \n",
       "\n",
       "        perform_score_High  perform_score_Low  perform_score_Medium  \\\n",
       "0                        0                  0                     0   \n",
       "1                        0                  0                     0   \n",
       "2                        0                  0                     0   \n",
       "3                        0                  0                     0   \n",
       "4                        0                  0                     0   \n",
       "...                    ...                ...                   ...   \n",
       "233149                   0                  0                     0   \n",
       "233150                   0                  0                     0   \n",
       "233151                   0                  0                     0   \n",
       "233152                   0                  0                     0   \n",
       "233153                   0                  0                     0   \n",
       "\n",
       "        perform_score_No Score  perform_score_Very High  \\\n",
       "0                            1                        0   \n",
       "1                            1                        0   \n",
       "2                            1                        0   \n",
       "3                            1                        0   \n",
       "4                            1                        0   \n",
       "...                        ...                      ...   \n",
       "233149                       1                        0   \n",
       "233150                       1                        0   \n",
       "233151                       1                        0   \n",
       "233152                       1                        0   \n",
       "233153                       1                        0   \n",
       "\n",
       "        perform_score_Very Low  \n",
       "0                            0  \n",
       "1                            0  \n",
       "2                            0  \n",
       "3                            0  \n",
       "4                            0  \n",
       "...                        ...  \n",
       "233149                       0  \n",
       "233150                       0  \n",
       "233151                       0  \n",
       "233152                       0  \n",
       "233153                       0  \n",
       "\n",
       "[233154 rows x 3354 columns]"
      ]
     },
     "execution_count": 135,
     "metadata": {},
     "output_type": "execute_result"
    }
   ],
   "source": [
    "x"
   ]
  },
  {
   "cell_type": "code",
   "execution_count": 136,
   "id": "010cbef1",
   "metadata": {},
   "outputs": [
    {
     "data": {
      "text/html": [
       "<div>\n",
       "<style scoped>\n",
       "    .dataframe tbody tr th:only-of-type {\n",
       "        vertical-align: middle;\n",
       "    }\n",
       "\n",
       "    .dataframe tbody tr th {\n",
       "        vertical-align: top;\n",
       "    }\n",
       "\n",
       "    .dataframe thead th {\n",
       "        text-align: right;\n",
       "    }\n",
       "</style>\n",
       "<table border=\"1\" class=\"dataframe\">\n",
       "  <thead>\n",
       "    <tr style=\"text-align: right;\">\n",
       "      <th></th>\n",
       "      <th>loan_default</th>\n",
       "    </tr>\n",
       "  </thead>\n",
       "  <tbody>\n",
       "    <tr>\n",
       "      <th>0</th>\n",
       "      <td>0</td>\n",
       "    </tr>\n",
       "    <tr>\n",
       "      <th>1</th>\n",
       "      <td>0</td>\n",
       "    </tr>\n",
       "    <tr>\n",
       "      <th>2</th>\n",
       "      <td>1</td>\n",
       "    </tr>\n",
       "    <tr>\n",
       "      <th>3</th>\n",
       "      <td>0</td>\n",
       "    </tr>\n",
       "    <tr>\n",
       "      <th>4</th>\n",
       "      <td>0</td>\n",
       "    </tr>\n",
       "    <tr>\n",
       "      <th>...</th>\n",
       "      <td>...</td>\n",
       "    </tr>\n",
       "    <tr>\n",
       "      <th>233149</th>\n",
       "      <td>0</td>\n",
       "    </tr>\n",
       "    <tr>\n",
       "      <th>233150</th>\n",
       "      <td>0</td>\n",
       "    </tr>\n",
       "    <tr>\n",
       "      <th>233151</th>\n",
       "      <td>0</td>\n",
       "    </tr>\n",
       "    <tr>\n",
       "      <th>233152</th>\n",
       "      <td>0</td>\n",
       "    </tr>\n",
       "    <tr>\n",
       "      <th>233153</th>\n",
       "      <td>0</td>\n",
       "    </tr>\n",
       "  </tbody>\n",
       "</table>\n",
       "<p>233154 rows × 1 columns</p>\n",
       "</div>"
      ],
      "text/plain": [
       "        loan_default\n",
       "0                  0\n",
       "1                  0\n",
       "2                  1\n",
       "3                  0\n",
       "4                  0\n",
       "...              ...\n",
       "233149             0\n",
       "233150             0\n",
       "233151             0\n",
       "233152             0\n",
       "233153             0\n",
       "\n",
       "[233154 rows x 1 columns]"
      ]
     },
     "execution_count": 136,
     "metadata": {},
     "output_type": "execute_result"
    }
   ],
   "source": [
    "y"
   ]
  },
  {
   "cell_type": "code",
   "execution_count": 137,
   "id": "fc341807",
   "metadata": {},
   "outputs": [
    {
     "data": {
      "text/plain": [
       "(233154, 3354)"
      ]
     },
     "execution_count": 137,
     "metadata": {},
     "output_type": "execute_result"
    }
   ],
   "source": [
    "x.shape"
   ]
  },
  {
   "cell_type": "code",
   "execution_count": 138,
   "id": "8bf2c36c",
   "metadata": {},
   "outputs": [
    {
     "data": {
      "text/plain": [
       "(233154, 1)"
      ]
     },
     "execution_count": 138,
     "metadata": {},
     "output_type": "execute_result"
    }
   ],
   "source": [
    "y.shape"
   ]
  },
  {
   "cell_type": "code",
   "execution_count": 139,
   "id": "9d9bd3a1",
   "metadata": {},
   "outputs": [],
   "source": [
    "from sklearn.preprocessing import StandardScaler\n",
    "\n",
    "scaler = StandardScaler()\n",
    "x = scaler.fit_transform(x)"
   ]
  },
  {
   "cell_type": "code",
   "execution_count": 140,
   "id": "cee5d7e6",
   "metadata": {},
   "outputs": [
    {
     "data": {
      "text/plain": [
       "array([[-1.01679012,  0.58513907, -0.1781533 , ..., -1.1205135 ,\n",
       "        -0.21069146, -0.5273276 ],\n",
       "       [ 1.70685051,  0.89621077,  0.16547769, ..., -1.1205135 ,\n",
       "        -0.21069146, -0.5273276 ],\n",
       "       [-1.32054235,  0.2622721 , -0.49433604, ..., -1.1205135 ,\n",
       "        -0.21069146, -0.5273276 ],\n",
       "       ...,\n",
       "       [ 0.50109277, -0.960814  ,  0.45700978, ...,  0.89244797,\n",
       "        -0.21069146, -0.5273276 ],\n",
       "       [ 1.57399642,  0.353859  , -0.29433331, ..., -1.1205135 ,\n",
       "        -0.21069146, -0.5273276 ],\n",
       "       [-0.76591018,  0.87208054,  0.4413854 , ..., -1.1205135 ,\n",
       "        -0.21069146, -0.5273276 ]])"
      ]
     },
     "execution_count": 140,
     "metadata": {},
     "output_type": "execute_result"
    }
   ],
   "source": [
    "#Separate the dataframes into X_train, y_train, X_test, and y_test\n",
    "from sklearn.model_selection import train_test_split\n",
    "X_train,X_test,y_train,y_test = train_test_split(x,y,train_size =0.80,random_state=30)\n",
    "X_train"
   ]
  },
  {
   "cell_type": "code",
   "execution_count": 141,
   "id": "217f4342",
   "metadata": {},
   "outputs": [
    {
     "data": {
      "text/plain": [
       "array([[-1.57499395,  0.23744804, -0.45427215, ..., -1.1205135 ,\n",
       "        -0.21069146,  1.89635437],\n",
       "       [ 0.21140761, -0.94832488,  0.03013669, ...,  0.89244797,\n",
       "        -0.21069146, -0.5273276 ],\n",
       "       [ 1.52623277,  1.9912448 ,  1.80709425, ...,  0.89244797,\n",
       "        -0.21069146, -0.5273276 ],\n",
       "       ...,\n",
       "       [ 1.1420596 , -0.06776456, -0.39911173, ...,  0.89244797,\n",
       "        -0.21069146, -0.5273276 ],\n",
       "       [ 0.98809758, -0.13707149, -0.6145805 , ...,  0.89244797,\n",
       "        -0.21069146, -0.5273276 ],\n",
       "       [-1.46534102, -0.88372064, -1.31598889, ..., -1.1205135 ,\n",
       "         4.74627689, -0.5273276 ]])"
      ]
     },
     "execution_count": 141,
     "metadata": {},
     "output_type": "execute_result"
    }
   ],
   "source": [
    "X_test"
   ]
  },
  {
   "cell_type": "code",
   "execution_count": 142,
   "id": "4e3812eb",
   "metadata": {},
   "outputs": [
    {
     "data": {
      "text/html": [
       "<div>\n",
       "<style scoped>\n",
       "    .dataframe tbody tr th:only-of-type {\n",
       "        vertical-align: middle;\n",
       "    }\n",
       "\n",
       "    .dataframe tbody tr th {\n",
       "        vertical-align: top;\n",
       "    }\n",
       "\n",
       "    .dataframe thead th {\n",
       "        text-align: right;\n",
       "    }\n",
       "</style>\n",
       "<table border=\"1\" class=\"dataframe\">\n",
       "  <thead>\n",
       "    <tr style=\"text-align: right;\">\n",
       "      <th></th>\n",
       "      <th>loan_default</th>\n",
       "    </tr>\n",
       "  </thead>\n",
       "  <tbody>\n",
       "    <tr>\n",
       "      <th>209268</th>\n",
       "      <td>1</td>\n",
       "    </tr>\n",
       "    <tr>\n",
       "      <th>193260</th>\n",
       "      <td>0</td>\n",
       "    </tr>\n",
       "    <tr>\n",
       "      <th>203467</th>\n",
       "      <td>0</td>\n",
       "    </tr>\n",
       "    <tr>\n",
       "      <th>113227</th>\n",
       "      <td>0</td>\n",
       "    </tr>\n",
       "    <tr>\n",
       "      <th>214581</th>\n",
       "      <td>0</td>\n",
       "    </tr>\n",
       "    <tr>\n",
       "      <th>...</th>\n",
       "      <td>...</td>\n",
       "    </tr>\n",
       "    <tr>\n",
       "      <th>46220</th>\n",
       "      <td>0</td>\n",
       "    </tr>\n",
       "    <tr>\n",
       "      <th>98804</th>\n",
       "      <td>1</td>\n",
       "    </tr>\n",
       "    <tr>\n",
       "      <th>48045</th>\n",
       "      <td>0</td>\n",
       "    </tr>\n",
       "    <tr>\n",
       "      <th>201125</th>\n",
       "      <td>0</td>\n",
       "    </tr>\n",
       "    <tr>\n",
       "      <th>169765</th>\n",
       "      <td>0</td>\n",
       "    </tr>\n",
       "  </tbody>\n",
       "</table>\n",
       "<p>186523 rows × 1 columns</p>\n",
       "</div>"
      ],
      "text/plain": [
       "        loan_default\n",
       "209268             1\n",
       "193260             0\n",
       "203467             0\n",
       "113227             0\n",
       "214581             0\n",
       "...              ...\n",
       "46220              0\n",
       "98804              1\n",
       "48045              0\n",
       "201125             0\n",
       "169765             0\n",
       "\n",
       "[186523 rows x 1 columns]"
      ]
     },
     "execution_count": 142,
     "metadata": {},
     "output_type": "execute_result"
    }
   ],
   "source": [
    "y_train"
   ]
  },
  {
   "cell_type": "code",
   "execution_count": 143,
   "id": "3a367700",
   "metadata": {},
   "outputs": [
    {
     "data": {
      "text/html": [
       "<div>\n",
       "<style scoped>\n",
       "    .dataframe tbody tr th:only-of-type {\n",
       "        vertical-align: middle;\n",
       "    }\n",
       "\n",
       "    .dataframe tbody tr th {\n",
       "        vertical-align: top;\n",
       "    }\n",
       "\n",
       "    .dataframe thead th {\n",
       "        text-align: right;\n",
       "    }\n",
       "</style>\n",
       "<table border=\"1\" class=\"dataframe\">\n",
       "  <thead>\n",
       "    <tr style=\"text-align: right;\">\n",
       "      <th></th>\n",
       "      <th>loan_default</th>\n",
       "    </tr>\n",
       "  </thead>\n",
       "  <tbody>\n",
       "    <tr>\n",
       "      <th>166825</th>\n",
       "      <td>1</td>\n",
       "    </tr>\n",
       "    <tr>\n",
       "      <th>10165</th>\n",
       "      <td>0</td>\n",
       "    </tr>\n",
       "    <tr>\n",
       "      <th>80315</th>\n",
       "      <td>0</td>\n",
       "    </tr>\n",
       "    <tr>\n",
       "      <th>105292</th>\n",
       "      <td>0</td>\n",
       "    </tr>\n",
       "    <tr>\n",
       "      <th>114100</th>\n",
       "      <td>0</td>\n",
       "    </tr>\n",
       "    <tr>\n",
       "      <th>...</th>\n",
       "      <td>...</td>\n",
       "    </tr>\n",
       "    <tr>\n",
       "      <th>205754</th>\n",
       "      <td>1</td>\n",
       "    </tr>\n",
       "    <tr>\n",
       "      <th>153710</th>\n",
       "      <td>0</td>\n",
       "    </tr>\n",
       "    <tr>\n",
       "      <th>225109</th>\n",
       "      <td>1</td>\n",
       "    </tr>\n",
       "    <tr>\n",
       "      <th>223562</th>\n",
       "      <td>1</td>\n",
       "    </tr>\n",
       "    <tr>\n",
       "      <th>215832</th>\n",
       "      <td>0</td>\n",
       "    </tr>\n",
       "  </tbody>\n",
       "</table>\n",
       "<p>46631 rows × 1 columns</p>\n",
       "</div>"
      ],
      "text/plain": [
       "        loan_default\n",
       "166825             1\n",
       "10165              0\n",
       "80315              0\n",
       "105292             0\n",
       "114100             0\n",
       "...              ...\n",
       "205754             1\n",
       "153710             0\n",
       "225109             1\n",
       "223562             1\n",
       "215832             0\n",
       "\n",
       "[46631 rows x 1 columns]"
      ]
     },
     "execution_count": 143,
     "metadata": {},
     "output_type": "execute_result"
    }
   ],
   "source": [
    "y_test"
   ]
  },
  {
   "cell_type": "code",
   "execution_count": 144,
   "id": "7e963bf5",
   "metadata": {},
   "outputs": [
    {
     "ename": "MemoryError",
     "evalue": "Unable to allocate 4.66 GiB for an array with shape (186523, 3354) and data type float64",
     "output_type": "error",
     "traceback": [
      "\u001b[1;31m---------------------------------------------------------------------------\u001b[0m",
      "\u001b[1;31mMemoryError\u001b[0m                               Traceback (most recent call last)",
      "Input \u001b[1;32mIn [144]\u001b[0m, in \u001b[0;36m<cell line: 4>\u001b[1;34m()\u001b[0m\n\u001b[0;32m      2\u001b[0m \u001b[38;5;28;01mfrom\u001b[39;00m \u001b[38;5;21;01msklearn\u001b[39;00m\u001b[38;5;21;01m.\u001b[39;00m\u001b[38;5;21;01mlinear_model\u001b[39;00m \u001b[38;5;28;01mimport\u001b[39;00m LinearRegression\n\u001b[0;32m      3\u001b[0m sc\u001b[38;5;241m=\u001b[39mLinearRegression()\n\u001b[1;32m----> 4\u001b[0m \u001b[43msc\u001b[49m\u001b[38;5;241;43m.\u001b[39;49m\u001b[43mfit\u001b[49m\u001b[43m(\u001b[49m\u001b[43mX_train\u001b[49m\u001b[43m,\u001b[49m\u001b[43my_train\u001b[49m\u001b[43m)\u001b[49m\n",
      "File \u001b[1;32mC:\\ProgramData\\Anaconda3\\lib\\site-packages\\sklearn\\linear_model\\_base.py:718\u001b[0m, in \u001b[0;36mLinearRegression.fit\u001b[1;34m(self, X, y, sample_weight)\u001b[0m\n\u001b[0;32m    716\u001b[0m         \u001b[38;5;28mself\u001b[39m\u001b[38;5;241m.\u001b[39m_residues \u001b[38;5;241m=\u001b[39m np\u001b[38;5;241m.\u001b[39mvstack([out[\u001b[38;5;241m3\u001b[39m] \u001b[38;5;28;01mfor\u001b[39;00m out \u001b[38;5;129;01min\u001b[39;00m outs])\n\u001b[0;32m    717\u001b[0m \u001b[38;5;28;01melse\u001b[39;00m:\n\u001b[1;32m--> 718\u001b[0m     \u001b[38;5;28mself\u001b[39m\u001b[38;5;241m.\u001b[39mcoef_, \u001b[38;5;28mself\u001b[39m\u001b[38;5;241m.\u001b[39m_residues, \u001b[38;5;28mself\u001b[39m\u001b[38;5;241m.\u001b[39mrank_, \u001b[38;5;28mself\u001b[39m\u001b[38;5;241m.\u001b[39msingular_ \u001b[38;5;241m=\u001b[39m \u001b[43mlinalg\u001b[49m\u001b[38;5;241;43m.\u001b[39;49m\u001b[43mlstsq\u001b[49m\u001b[43m(\u001b[49m\u001b[43mX\u001b[49m\u001b[43m,\u001b[49m\u001b[43m \u001b[49m\u001b[43my\u001b[49m\u001b[43m)\u001b[49m\n\u001b[0;32m    719\u001b[0m     \u001b[38;5;28mself\u001b[39m\u001b[38;5;241m.\u001b[39mcoef_ \u001b[38;5;241m=\u001b[39m \u001b[38;5;28mself\u001b[39m\u001b[38;5;241m.\u001b[39mcoef_\u001b[38;5;241m.\u001b[39mT\n\u001b[0;32m    721\u001b[0m \u001b[38;5;28;01mif\u001b[39;00m y\u001b[38;5;241m.\u001b[39mndim \u001b[38;5;241m==\u001b[39m \u001b[38;5;241m1\u001b[39m:\n",
      "File \u001b[1;32mC:\\ProgramData\\Anaconda3\\lib\\site-packages\\scipy\\linalg\\basic.py:1204\u001b[0m, in \u001b[0;36mlstsq\u001b[1;34m(a, b, cond, overwrite_a, overwrite_b, check_finite, lapack_driver)\u001b[0m\n\u001b[0;32m   1202\u001b[0m \u001b[38;5;28;01mif\u001b[39;00m real_data:\n\u001b[0;32m   1203\u001b[0m     lwork, iwork \u001b[38;5;241m=\u001b[39m _compute_lwork(lapack_lwork, m, n, nrhs, cond)\n\u001b[1;32m-> 1204\u001b[0m     x, s, rank, info \u001b[38;5;241m=\u001b[39m \u001b[43mlapack_func\u001b[49m\u001b[43m(\u001b[49m\u001b[43ma1\u001b[49m\u001b[43m,\u001b[49m\u001b[43m \u001b[49m\u001b[43mb1\u001b[49m\u001b[43m,\u001b[49m\u001b[43m \u001b[49m\u001b[43mlwork\u001b[49m\u001b[43m,\u001b[49m\n\u001b[0;32m   1205\u001b[0m \u001b[43m                                   \u001b[49m\u001b[43miwork\u001b[49m\u001b[43m,\u001b[49m\u001b[43m \u001b[49m\u001b[43mcond\u001b[49m\u001b[43m,\u001b[49m\u001b[43m \u001b[49m\u001b[38;5;28;43;01mFalse\u001b[39;49;00m\u001b[43m,\u001b[49m\u001b[43m \u001b[49m\u001b[38;5;28;43;01mFalse\u001b[39;49;00m\u001b[43m)\u001b[49m\n\u001b[0;32m   1206\u001b[0m \u001b[38;5;28;01melse\u001b[39;00m:  \u001b[38;5;66;03m# complex data\u001b[39;00m\n\u001b[0;32m   1207\u001b[0m     lwork, rwork, iwork \u001b[38;5;241m=\u001b[39m _compute_lwork(lapack_lwork, m, n,\n\u001b[0;32m   1208\u001b[0m                                          nrhs, cond)\n",
      "\u001b[1;31mMemoryError\u001b[0m: Unable to allocate 4.66 GiB for an array with shape (186523, 3354) and data type float64"
     ]
    }
   ],
   "source": [
    "#Use linear regression as the technique\n",
    "from sklearn.linear_model import LinearRegression\n",
    "sc=LinearRegression()\n",
    "sc.fit(X_train,y_train)"
   ]
  },
  {
   "cell_type": "code",
   "execution_count": null,
   "id": "09be2b53",
   "metadata": {},
   "outputs": [],
   "source": [
    "y_pred=sc.predict(X_test)\n",
    "y_pred"
   ]
  },
  {
   "cell_type": "code",
   "execution_count": null,
   "id": "c770525b",
   "metadata": {},
   "outputs": [],
   "source": [
    "y_test"
   ]
  },
  {
   "cell_type": "code",
   "execution_count": null,
   "id": "14b04224",
   "metadata": {},
   "outputs": [],
   "source": [
    "from sklearn import metrics\n",
    "cnf_matrix = metrics.confusion_matrix(y_test, y_pred > 0.5)\n",
    "cnf_matrix"
   ]
  },
  {
   "cell_type": "code",
   "execution_count": null,
   "id": "8bc823b2",
   "metadata": {},
   "outputs": [],
   "source": [
    "# cm = confusion_matrix(y_valid, y_pred)\n",
    "import matplotlib.pyplot as plt\n",
    "fig, ax = plt.subplots()\n",
    "sns.heatmap(cnf_matrix, annot = True,cmap=\"YlGnBu\" ,fmt='g')\n",
    "ax.xaxis.set_label_position(\"top\")\n",
    "plt.tight_layout()\n",
    "plt.title('Confusion matrix', y=1.1)\n",
    "plt.ylabel('Actual label')\n",
    "plt.xlabel('Predicted label')"
   ]
  },
  {
   "cell_type": "code",
   "execution_count": null,
   "id": "0ca0f708",
   "metadata": {},
   "outputs": [],
   "source": [
    "print(\"Accuracy:\",metrics.accuracy_score(y_test, y_pred> 0.5))\n",
    "print(\"Precision:\",metrics.precision_score(y_test, y_pred> 0.5))\n",
    "print(\"Recall:\",metrics.recall_score(y_test, y_pred> 0.5))"
   ]
  },
  {
   "cell_type": "code",
   "execution_count": null,
   "id": "8a0baf79",
   "metadata": {},
   "outputs": [],
   "source": []
  },
  {
   "cell_type": "code",
   "execution_count": null,
   "id": "7b9494ae",
   "metadata": {},
   "outputs": [],
   "source": []
  },
  {
   "cell_type": "code",
   "execution_count": null,
   "id": "554d4396",
   "metadata": {},
   "outputs": [],
   "source": []
  },
  {
   "cell_type": "code",
   "execution_count": null,
   "id": "af77b86c",
   "metadata": {},
   "outputs": [],
   "source": []
  }
 ],
 "metadata": {
  "kernelspec": {
   "display_name": "Python 3 (ipykernel)",
   "language": "python",
   "name": "python3"
  },
  "language_info": {
   "codemirror_mode": {
    "name": "ipython",
    "version": 3
   },
   "file_extension": ".py",
   "mimetype": "text/x-python",
   "name": "python",
   "nbconvert_exporter": "python",
   "pygments_lexer": "ipython3",
   "version": "3.9.12"
  }
 },
 "nbformat": 4,
 "nbformat_minor": 5
}
